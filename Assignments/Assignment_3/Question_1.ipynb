{
  "cells": [
    {
      "cell_type": "markdown",
      "metadata": {
        "id": "HVvT8kYY-aK2"
      },
      "source": [
        "1. pre-process the data by scaling/standardizing the 8 columns"
      ]
    },
    {
      "cell_type": "markdown",
      "metadata": {
        "id": "mC1aie3z-aK6"
      },
      "source": [
        "# Understand the problem and read in the data"
      ]
    },
    {
      "cell_type": "markdown",
      "metadata": {
        "id": "jTmkHlAq-aK6"
      },
      "source": [
        "This Kaggle challenge is about predicting the onset of diabetes in 5 years or less. \n",
        "Target variable is Outcome. 1 = yes, the person became diabetic in 5 years, and 0 = No, \n",
        "the person did not. This is a binary classification problem. Please check out the Kaggle\n",
        "link here to see feature \n",
        "details - https://www.kaggle.com/uciml/pima-indians-diabetes-database/data"
      ]
    },
    {
      "cell_type": "code",
      "execution_count": 24,
      "metadata": {
        "id": "g7QEMimr-aK7"
      },
      "outputs": [],
      "source": [
        "'''Import necessary packages'''\n",
        "from keras.models import Sequential\n",
        "from keras.layers import Dense\n",
        "from sklearn.model_selection import train_test_split\n",
        "import seaborn as sns\n",
        "import numpy as np\n",
        "import pandas as pd\n",
        "import matplotlib.pyplot as plt\n",
        "from google.colab import drive\n",
        "from sklearn.preprocessing import MinMaxScaler\n",
        "from sklearn.preprocessing import StandardScaler\n",
        "from sklearn.preprocessing import Normalizer\n",
        "from sklearn.preprocessing import Binarizer\n",
        "\n",
        "%matplotlib inline"
      ]
    },
    {
      "cell_type": "code",
      "execution_count": 2,
      "metadata": {
        "id": "papbEjf6-aK8",
        "outputId": "a3323c06-113d-42b6-a93b-e1440c654c32",
        "colab": {
          "base_uri": "https://localhost:8080/"
        }
      },
      "outputs": [
        {
          "output_type": "stream",
          "name": "stdout",
          "text": [
            "Mounted at /content/drive\n"
          ]
        }
      ],
      "source": [
        "# Load Data from Google Drive\n",
        "drive.mount('/content/drive')\n",
        "data = open('/content/drive/MyDrive/dataset_INFO6105/pima-indians-diabetes.data')"
      ]
    },
    {
      "cell_type": "code",
      "execution_count": 3,
      "metadata": {
        "id": "QqMTPXRe-aK-",
        "outputId": "af845d31-fdcc-4588-efa2-609d2b6a5cdf",
        "colab": {
          "base_uri": "https://localhost:8080/",
          "height": 130
        }
      },
      "outputs": [
        {
          "output_type": "stream",
          "name": "stdout",
          "text": [
            "(768, 9)\n"
          ]
        },
        {
          "output_type": "execute_result",
          "data": {
            "text/plain": [
              "   0    1   2   3  4     5      6   7  8\n",
              "0  6  148  72  35  0  33.6  0.627  50  1\n",
              "1  1   85  66  29  0  26.6  0.351  31  0"
            ],
            "text/html": [
              "\n",
              "  <div id=\"df-63619786-8a0d-4e69-817b-f63de7f2d994\">\n",
              "    <div class=\"colab-df-container\">\n",
              "      <div>\n",
              "<style scoped>\n",
              "    .dataframe tbody tr th:only-of-type {\n",
              "        vertical-align: middle;\n",
              "    }\n",
              "\n",
              "    .dataframe tbody tr th {\n",
              "        vertical-align: top;\n",
              "    }\n",
              "\n",
              "    .dataframe thead th {\n",
              "        text-align: right;\n",
              "    }\n",
              "</style>\n",
              "<table border=\"1\" class=\"dataframe\">\n",
              "  <thead>\n",
              "    <tr style=\"text-align: right;\">\n",
              "      <th></th>\n",
              "      <th>0</th>\n",
              "      <th>1</th>\n",
              "      <th>2</th>\n",
              "      <th>3</th>\n",
              "      <th>4</th>\n",
              "      <th>5</th>\n",
              "      <th>6</th>\n",
              "      <th>7</th>\n",
              "      <th>8</th>\n",
              "    </tr>\n",
              "  </thead>\n",
              "  <tbody>\n",
              "    <tr>\n",
              "      <th>0</th>\n",
              "      <td>6</td>\n",
              "      <td>148</td>\n",
              "      <td>72</td>\n",
              "      <td>35</td>\n",
              "      <td>0</td>\n",
              "      <td>33.6</td>\n",
              "      <td>0.627</td>\n",
              "      <td>50</td>\n",
              "      <td>1</td>\n",
              "    </tr>\n",
              "    <tr>\n",
              "      <th>1</th>\n",
              "      <td>1</td>\n",
              "      <td>85</td>\n",
              "      <td>66</td>\n",
              "      <td>29</td>\n",
              "      <td>0</td>\n",
              "      <td>26.6</td>\n",
              "      <td>0.351</td>\n",
              "      <td>31</td>\n",
              "      <td>0</td>\n",
              "    </tr>\n",
              "  </tbody>\n",
              "</table>\n",
              "</div>\n",
              "      <button class=\"colab-df-convert\" onclick=\"convertToInteractive('df-63619786-8a0d-4e69-817b-f63de7f2d994')\"\n",
              "              title=\"Convert this dataframe to an interactive table.\"\n",
              "              style=\"display:none;\">\n",
              "        \n",
              "  <svg xmlns=\"http://www.w3.org/2000/svg\" height=\"24px\"viewBox=\"0 0 24 24\"\n",
              "       width=\"24px\">\n",
              "    <path d=\"M0 0h24v24H0V0z\" fill=\"none\"/>\n",
              "    <path d=\"M18.56 5.44l.94 2.06.94-2.06 2.06-.94-2.06-.94-.94-2.06-.94 2.06-2.06.94zm-11 1L8.5 8.5l.94-2.06 2.06-.94-2.06-.94L8.5 2.5l-.94 2.06-2.06.94zm10 10l.94 2.06.94-2.06 2.06-.94-2.06-.94-.94-2.06-.94 2.06-2.06.94z\"/><path d=\"M17.41 7.96l-1.37-1.37c-.4-.4-.92-.59-1.43-.59-.52 0-1.04.2-1.43.59L10.3 9.45l-7.72 7.72c-.78.78-.78 2.05 0 2.83L4 21.41c.39.39.9.59 1.41.59.51 0 1.02-.2 1.41-.59l7.78-7.78 2.81-2.81c.8-.78.8-2.07 0-2.86zM5.41 20L4 18.59l7.72-7.72 1.47 1.35L5.41 20z\"/>\n",
              "  </svg>\n",
              "      </button>\n",
              "      \n",
              "  <style>\n",
              "    .colab-df-container {\n",
              "      display:flex;\n",
              "      flex-wrap:wrap;\n",
              "      gap: 12px;\n",
              "    }\n",
              "\n",
              "    .colab-df-convert {\n",
              "      background-color: #E8F0FE;\n",
              "      border: none;\n",
              "      border-radius: 50%;\n",
              "      cursor: pointer;\n",
              "      display: none;\n",
              "      fill: #1967D2;\n",
              "      height: 32px;\n",
              "      padding: 0 0 0 0;\n",
              "      width: 32px;\n",
              "    }\n",
              "\n",
              "    .colab-df-convert:hover {\n",
              "      background-color: #E2EBFA;\n",
              "      box-shadow: 0px 1px 2px rgba(60, 64, 67, 0.3), 0px 1px 3px 1px rgba(60, 64, 67, 0.15);\n",
              "      fill: #174EA6;\n",
              "    }\n",
              "\n",
              "    [theme=dark] .colab-df-convert {\n",
              "      background-color: #3B4455;\n",
              "      fill: #D2E3FC;\n",
              "    }\n",
              "\n",
              "    [theme=dark] .colab-df-convert:hover {\n",
              "      background-color: #434B5C;\n",
              "      box-shadow: 0px 1px 3px 1px rgba(0, 0, 0, 0.15);\n",
              "      filter: drop-shadow(0px 1px 2px rgba(0, 0, 0, 0.3));\n",
              "      fill: #FFFFFF;\n",
              "    }\n",
              "  </style>\n",
              "\n",
              "      <script>\n",
              "        const buttonEl =\n",
              "          document.querySelector('#df-63619786-8a0d-4e69-817b-f63de7f2d994 button.colab-df-convert');\n",
              "        buttonEl.style.display =\n",
              "          google.colab.kernel.accessAllowed ? 'block' : 'none';\n",
              "\n",
              "        async function convertToInteractive(key) {\n",
              "          const element = document.querySelector('#df-63619786-8a0d-4e69-817b-f63de7f2d994');\n",
              "          const dataTable =\n",
              "            await google.colab.kernel.invokeFunction('convertToInteractive',\n",
              "                                                     [key], {});\n",
              "          if (!dataTable) return;\n",
              "\n",
              "          const docLinkHtml = 'Like what you see? Visit the ' +\n",
              "            '<a target=\"_blank\" href=https://colab.research.google.com/notebooks/data_table.ipynb>data table notebook</a>'\n",
              "            + ' to learn more about interactive tables.';\n",
              "          element.innerHTML = '';\n",
              "          dataTable['output_type'] = 'display_data';\n",
              "          await google.colab.output.renderOutput(dataTable, element);\n",
              "          const docLink = document.createElement('div');\n",
              "          docLink.innerHTML = docLinkHtml;\n",
              "          element.appendChild(docLink);\n",
              "        }\n",
              "      </script>\n",
              "    </div>\n",
              "  </div>\n",
              "  "
            ]
          },
          "metadata": {},
          "execution_count": 3
        }
      ],
      "source": [
        "df = pd.read_csv(data,header = None)\n",
        "print(df.shape)\n",
        "df.head(2)"
      ]
    },
    {
      "cell_type": "markdown",
      "metadata": {
        "id": "3cOh6yDw-aK-"
      },
      "source": [
        "# Pre-process data, train-test split"
      ]
    },
    {
      "cell_type": "code",
      "execution_count": 6,
      "metadata": {
        "id": "OU7-9EgX-aK_"
      },
      "outputs": [],
      "source": [
        "#Separate out X and Y\n",
        "\n",
        "X = df.iloc[:, :8]\n",
        "Y = df.iloc[:, 8:9]"
      ]
    },
    {
      "cell_type": "markdown",
      "source": [
        "#### Various other preprocessing techniques which I've commented. I've just used the MinMaxScaler for the implementation\n",
        "\n",
        "1. MinMaxScaler\n",
        "2. Normalizer\n",
        "3. Binarizer\n",
        "4. StandardScaler"
      ],
      "metadata": {
        "id": "woYC_Z0nFE2D"
      }
    },
    {
      "cell_type": "code",
      "source": [
        "# #StandardScaler\n",
        "# transforms = StandardScaler()\n",
        "# standardScale_X = transforms.fit_transform(X)\n",
        "# print(standardScale_X)\n",
        "\n",
        "# transforms = Normalizer()\n",
        "# normalizer_x = transforms.fit_transform(X)\n",
        "# print(normalizer_x)\n",
        "\n",
        "# transforms = Binarizer(threshold=0.5)\n",
        "# binarizer_x = transforms.fit_transform(X)\n",
        "# print(binarizer_x)"
      ],
      "metadata": {
        "id": "OoopQ0ZGFNQH"
      },
      "execution_count": null,
      "outputs": []
    },
    {
      "cell_type": "code",
      "source": [
        "#scale Features from 0 to 1\n",
        "transforms = MinMaxScaler(feature_range=(0,1))\n",
        "scaler_X =  transforms.fit_transform(X)\n",
        "print(scaler_X)"
      ],
      "metadata": {
        "id": "6OYFjCFJBCYj",
        "outputId": "bbb04192-c07b-4b48-8a73-4b38fb3859de",
        "colab": {
          "base_uri": "https://localhost:8080/"
        }
      },
      "execution_count": 7,
      "outputs": [
        {
          "output_type": "stream",
          "name": "stdout",
          "text": [
            "[[0.35294118 0.74371859 0.59016393 ... 0.50074516 0.23441503 0.48333333]\n",
            " [0.05882353 0.42713568 0.54098361 ... 0.39642325 0.11656704 0.16666667]\n",
            " [0.47058824 0.91959799 0.52459016 ... 0.34724292 0.25362938 0.18333333]\n",
            " ...\n",
            " [0.29411765 0.6080402  0.59016393 ... 0.390462   0.07130658 0.15      ]\n",
            " [0.05882353 0.63316583 0.49180328 ... 0.4485842  0.11571307 0.43333333]\n",
            " [0.05882353 0.46733668 0.57377049 ... 0.45305514 0.10119556 0.03333333]]\n"
          ]
        }
      ]
    },
    {
      "cell_type": "markdown",
      "source": [
        "#### Split data into train, validation and test"
      ],
      "metadata": {
        "id": "bWFtISrP4HRV"
      }
    },
    {
      "cell_type": "code",
      "source": [
        "df.shape"
      ],
      "metadata": {
        "colab": {
          "base_uri": "https://localhost:8080/"
        },
        "id": "e0itaFSO07NI",
        "outputId": "44e2dbf4-1b27-4bc9-9797-c40f7211cbbc"
      },
      "execution_count": 8,
      "outputs": [
        {
          "output_type": "execute_result",
          "data": {
            "text/plain": [
              "(768, 9)"
            ]
          },
          "metadata": {},
          "execution_count": 8
        }
      ]
    },
    {
      "cell_type": "code",
      "source": [
        "X_train, X_test, Y_train, Y_test = train_test_split(scaler_X, Y, test_size=0.15, random_state=1)\n",
        "X_train, X_val, Y_train, Y_val = train_test_split(X_train, Y_train, test_size=0.15, random_state=1)"
      ],
      "metadata": {
        "id": "AVyxsZh_08VA"
      },
      "execution_count": 13,
      "outputs": []
    },
    {
      "cell_type": "code",
      "source": [
        "print(X_train.shape,Y_train.shape,X_val.shape,Y_val.shape,X_test.shape,Y_test.shape)"
      ],
      "metadata": {
        "colab": {
          "base_uri": "https://localhost:8080/"
        },
        "id": "Q9qopArM6VJF",
        "outputId": "7ad7b6f8-52bf-4ccb-d8b9-1939488b196a"
      },
      "execution_count": 15,
      "outputs": [
        {
          "output_type": "stream",
          "name": "stdout",
          "text": [
            "(554, 8) (554, 1) (98, 8) (98, 1) (116, 8) (116, 1)\n"
          ]
        }
      ]
    },
    {
      "cell_type": "code",
      "execution_count": 16,
      "metadata": {
        "id": "j7rFixE1-aK_"
      },
      "outputs": [],
      "source": [
        "# # Train- Test Split\n",
        "# (X_train, X_test, Y_train, Y_test) = train_test_split(scaler_X, Y, test_size=0.33, random_state=1)\n",
        "# print(X_train.shape,X_test.shape,Y_train.shape,Y_test.shape)"
      ]
    },
    {
      "cell_type": "markdown",
      "metadata": {
        "id": "QQzYPUpl-aLA"
      },
      "source": [
        "# Build and compile a deep learning model"
      ]
    },
    {
      "cell_type": "code",
      "execution_count": 18,
      "metadata": {
        "id": "i6nBxp5V-aLA"
      },
      "outputs": [],
      "source": [
        "# Build the deep neural network\n",
        "model = Sequential()\n",
        "model.add(Dense(10, input_dim=8, activation='relu'))\n",
        "model.add(Dense(6, activation='relu'))\n",
        "model.add(Dense(1, activation='sigmoid'))"
      ]
    },
    {
      "cell_type": "code",
      "execution_count": 19,
      "metadata": {
        "id": "Nvv9QPVU-aLB"
      },
      "outputs": [],
      "source": [
        "# Compile the DNN\n",
        "\n",
        "model.compile(loss='binary_crossentropy', optimizer='adam', metrics=['accuracy'])"
      ]
    },
    {
      "cell_type": "code",
      "execution_count": 23,
      "metadata": {
        "id": "FhllulpQ-aLB",
        "outputId": "48eac557-137a-4470-f8fc-eaed457abf2d",
        "colab": {
          "base_uri": "https://localhost:8080/"
        }
      },
      "outputs": [
        {
          "output_type": "stream",
          "name": "stdout",
          "text": [
            "Epoch 1/100\n",
            "111/111 [==============================] - 1s 5ms/step - loss: 0.4428 - accuracy: 0.7671 - val_loss: 0.4505 - val_accuracy: 0.7755\n",
            "Epoch 2/100\n",
            "111/111 [==============================] - 0s 4ms/step - loss: 0.4441 - accuracy: 0.7852 - val_loss: 0.4491 - val_accuracy: 0.7857\n",
            "Epoch 3/100\n",
            "111/111 [==============================] - 1s 5ms/step - loss: 0.4445 - accuracy: 0.7708 - val_loss: 0.4491 - val_accuracy: 0.7755\n",
            "Epoch 4/100\n",
            "111/111 [==============================] - 1s 7ms/step - loss: 0.4400 - accuracy: 0.7870 - val_loss: 0.4494 - val_accuracy: 0.7857\n",
            "Epoch 5/100\n",
            "111/111 [==============================] - 1s 6ms/step - loss: 0.4445 - accuracy: 0.7780 - val_loss: 0.4546 - val_accuracy: 0.8061\n",
            "Epoch 6/100\n",
            "111/111 [==============================] - 0s 4ms/step - loss: 0.4412 - accuracy: 0.7870 - val_loss: 0.4508 - val_accuracy: 0.7755\n",
            "Epoch 7/100\n",
            "111/111 [==============================] - 0s 4ms/step - loss: 0.4431 - accuracy: 0.7744 - val_loss: 0.4497 - val_accuracy: 0.7755\n",
            "Epoch 8/100\n",
            "111/111 [==============================] - 1s 5ms/step - loss: 0.4426 - accuracy: 0.7762 - val_loss: 0.4470 - val_accuracy: 0.7857\n",
            "Epoch 9/100\n",
            "111/111 [==============================] - 0s 4ms/step - loss: 0.4431 - accuracy: 0.7798 - val_loss: 0.4504 - val_accuracy: 0.7857\n",
            "Epoch 10/100\n",
            "111/111 [==============================] - 0s 3ms/step - loss: 0.4396 - accuracy: 0.7762 - val_loss: 0.4518 - val_accuracy: 0.7857\n",
            "Epoch 11/100\n",
            "111/111 [==============================] - 0s 3ms/step - loss: 0.4440 - accuracy: 0.7780 - val_loss: 0.4474 - val_accuracy: 0.7755\n",
            "Epoch 12/100\n",
            "111/111 [==============================] - 0s 4ms/step - loss: 0.4423 - accuracy: 0.7780 - val_loss: 0.4532 - val_accuracy: 0.7755\n",
            "Epoch 13/100\n",
            "111/111 [==============================] - 0s 4ms/step - loss: 0.4407 - accuracy: 0.7852 - val_loss: 0.4507 - val_accuracy: 0.7857\n",
            "Epoch 14/100\n",
            "111/111 [==============================] - 0s 4ms/step - loss: 0.4430 - accuracy: 0.7852 - val_loss: 0.4467 - val_accuracy: 0.7755\n",
            "Epoch 15/100\n",
            "111/111 [==============================] - 0s 4ms/step - loss: 0.4415 - accuracy: 0.7780 - val_loss: 0.4494 - val_accuracy: 0.7755\n",
            "Epoch 16/100\n",
            "111/111 [==============================] - 0s 3ms/step - loss: 0.4430 - accuracy: 0.7780 - val_loss: 0.4565 - val_accuracy: 0.8061\n",
            "Epoch 17/100\n",
            "111/111 [==============================] - 0s 3ms/step - loss: 0.4422 - accuracy: 0.7816 - val_loss: 0.4476 - val_accuracy: 0.7755\n",
            "Epoch 18/100\n",
            "111/111 [==============================] - 0s 4ms/step - loss: 0.4405 - accuracy: 0.7834 - val_loss: 0.4490 - val_accuracy: 0.7857\n",
            "Epoch 19/100\n",
            "111/111 [==============================] - 0s 3ms/step - loss: 0.4406 - accuracy: 0.7870 - val_loss: 0.4575 - val_accuracy: 0.8061\n",
            "Epoch 20/100\n",
            "111/111 [==============================] - 0s 3ms/step - loss: 0.4440 - accuracy: 0.7690 - val_loss: 0.4487 - val_accuracy: 0.7755\n",
            "Epoch 21/100\n",
            "111/111 [==============================] - 0s 4ms/step - loss: 0.4398 - accuracy: 0.7924 - val_loss: 0.4594 - val_accuracy: 0.7959\n",
            "Epoch 22/100\n",
            "111/111 [==============================] - 0s 4ms/step - loss: 0.4415 - accuracy: 0.7816 - val_loss: 0.4494 - val_accuracy: 0.7755\n",
            "Epoch 23/100\n",
            "111/111 [==============================] - 0s 3ms/step - loss: 0.4410 - accuracy: 0.7798 - val_loss: 0.4513 - val_accuracy: 0.7755\n",
            "Epoch 24/100\n",
            "111/111 [==============================] - 0s 3ms/step - loss: 0.4420 - accuracy: 0.7870 - val_loss: 0.4492 - val_accuracy: 0.7857\n",
            "Epoch 25/100\n",
            "111/111 [==============================] - 0s 4ms/step - loss: 0.4420 - accuracy: 0.7780 - val_loss: 0.4515 - val_accuracy: 0.7857\n",
            "Epoch 26/100\n",
            "111/111 [==============================] - 0s 4ms/step - loss: 0.4426 - accuracy: 0.7762 - val_loss: 0.4499 - val_accuracy: 0.7857\n",
            "Epoch 27/100\n",
            "111/111 [==============================] - 0s 4ms/step - loss: 0.4410 - accuracy: 0.7870 - val_loss: 0.4583 - val_accuracy: 0.7959\n",
            "Epoch 28/100\n",
            "111/111 [==============================] - 1s 5ms/step - loss: 0.4416 - accuracy: 0.7852 - val_loss: 0.4515 - val_accuracy: 0.7755\n",
            "Epoch 29/100\n",
            "111/111 [==============================] - 0s 4ms/step - loss: 0.4432 - accuracy: 0.7852 - val_loss: 0.4568 - val_accuracy: 0.7959\n",
            "Epoch 30/100\n",
            "111/111 [==============================] - 0s 2ms/step - loss: 0.4371 - accuracy: 0.7780 - val_loss: 0.4517 - val_accuracy: 0.7857\n",
            "Epoch 31/100\n",
            "111/111 [==============================] - 0s 2ms/step - loss: 0.4430 - accuracy: 0.7834 - val_loss: 0.4527 - val_accuracy: 0.7755\n",
            "Epoch 32/100\n",
            "111/111 [==============================] - 0s 2ms/step - loss: 0.4391 - accuracy: 0.7798 - val_loss: 0.4528 - val_accuracy: 0.7755\n",
            "Epoch 33/100\n",
            "111/111 [==============================] - 0s 2ms/step - loss: 0.4399 - accuracy: 0.7816 - val_loss: 0.4525 - val_accuracy: 0.7857\n",
            "Epoch 34/100\n",
            "111/111 [==============================] - 0s 2ms/step - loss: 0.4398 - accuracy: 0.7834 - val_loss: 0.4479 - val_accuracy: 0.7857\n",
            "Epoch 35/100\n",
            "111/111 [==============================] - 0s 2ms/step - loss: 0.4411 - accuracy: 0.7924 - val_loss: 0.4514 - val_accuracy: 0.7857\n",
            "Epoch 36/100\n",
            "111/111 [==============================] - 0s 2ms/step - loss: 0.4388 - accuracy: 0.7852 - val_loss: 0.4550 - val_accuracy: 0.7755\n",
            "Epoch 37/100\n",
            "111/111 [==============================] - 0s 2ms/step - loss: 0.4404 - accuracy: 0.7852 - val_loss: 0.4536 - val_accuracy: 0.7755\n",
            "Epoch 38/100\n",
            "111/111 [==============================] - 0s 2ms/step - loss: 0.4379 - accuracy: 0.7834 - val_loss: 0.4544 - val_accuracy: 0.7755\n",
            "Epoch 39/100\n",
            "111/111 [==============================] - 0s 2ms/step - loss: 0.4407 - accuracy: 0.7798 - val_loss: 0.4542 - val_accuracy: 0.7959\n",
            "Epoch 40/100\n",
            "111/111 [==============================] - 0s 2ms/step - loss: 0.4393 - accuracy: 0.7798 - val_loss: 0.4558 - val_accuracy: 0.7755\n",
            "Epoch 41/100\n",
            "111/111 [==============================] - 0s 2ms/step - loss: 0.4383 - accuracy: 0.7870 - val_loss: 0.4553 - val_accuracy: 0.7755\n",
            "Epoch 42/100\n",
            "111/111 [==============================] - 0s 2ms/step - loss: 0.4377 - accuracy: 0.7870 - val_loss: 0.4511 - val_accuracy: 0.7959\n",
            "Epoch 43/100\n",
            "111/111 [==============================] - 0s 2ms/step - loss: 0.4401 - accuracy: 0.7834 - val_loss: 0.4525 - val_accuracy: 0.7959\n",
            "Epoch 44/100\n",
            "111/111 [==============================] - 0s 2ms/step - loss: 0.4386 - accuracy: 0.7798 - val_loss: 0.4564 - val_accuracy: 0.7959\n",
            "Epoch 45/100\n",
            "111/111 [==============================] - 0s 2ms/step - loss: 0.4401 - accuracy: 0.7924 - val_loss: 0.4542 - val_accuracy: 0.7857\n",
            "Epoch 46/100\n",
            "111/111 [==============================] - 0s 2ms/step - loss: 0.4418 - accuracy: 0.7834 - val_loss: 0.4628 - val_accuracy: 0.7959\n",
            "Epoch 47/100\n",
            "111/111 [==============================] - 0s 2ms/step - loss: 0.4405 - accuracy: 0.7798 - val_loss: 0.4542 - val_accuracy: 0.7755\n",
            "Epoch 48/100\n",
            "111/111 [==============================] - 0s 2ms/step - loss: 0.4402 - accuracy: 0.7888 - val_loss: 0.4526 - val_accuracy: 0.7755\n",
            "Epoch 49/100\n",
            "111/111 [==============================] - 0s 2ms/step - loss: 0.4396 - accuracy: 0.7834 - val_loss: 0.4520 - val_accuracy: 0.7857\n",
            "Epoch 50/100\n",
            "111/111 [==============================] - 0s 2ms/step - loss: 0.4424 - accuracy: 0.7816 - val_loss: 0.4587 - val_accuracy: 0.7857\n",
            "Epoch 51/100\n",
            "111/111 [==============================] - 0s 2ms/step - loss: 0.4393 - accuracy: 0.7852 - val_loss: 0.4568 - val_accuracy: 0.7755\n",
            "Epoch 52/100\n",
            "111/111 [==============================] - 0s 2ms/step - loss: 0.4395 - accuracy: 0.7906 - val_loss: 0.4569 - val_accuracy: 0.7857\n",
            "Epoch 53/100\n",
            "111/111 [==============================] - 0s 3ms/step - loss: 0.4397 - accuracy: 0.7798 - val_loss: 0.4534 - val_accuracy: 0.7857\n",
            "Epoch 54/100\n",
            "111/111 [==============================] - 0s 3ms/step - loss: 0.4379 - accuracy: 0.7870 - val_loss: 0.4554 - val_accuracy: 0.7755\n",
            "Epoch 55/100\n",
            "111/111 [==============================] - 0s 3ms/step - loss: 0.4384 - accuracy: 0.7924 - val_loss: 0.4543 - val_accuracy: 0.7959\n",
            "Epoch 56/100\n",
            "111/111 [==============================] - 0s 4ms/step - loss: 0.4400 - accuracy: 0.7924 - val_loss: 0.4505 - val_accuracy: 0.7959\n",
            "Epoch 57/100\n",
            "111/111 [==============================] - 0s 4ms/step - loss: 0.4390 - accuracy: 0.7852 - val_loss: 0.4617 - val_accuracy: 0.7959\n",
            "Epoch 58/100\n",
            "111/111 [==============================] - 0s 4ms/step - loss: 0.4387 - accuracy: 0.7906 - val_loss: 0.4580 - val_accuracy: 0.7755\n",
            "Epoch 59/100\n",
            "111/111 [==============================] - 0s 3ms/step - loss: 0.4387 - accuracy: 0.7816 - val_loss: 0.4580 - val_accuracy: 0.7755\n",
            "Epoch 60/100\n",
            "111/111 [==============================] - 0s 4ms/step - loss: 0.4372 - accuracy: 0.7870 - val_loss: 0.4550 - val_accuracy: 0.7857\n",
            "Epoch 61/100\n",
            "111/111 [==============================] - 0s 4ms/step - loss: 0.4393 - accuracy: 0.7816 - val_loss: 0.4569 - val_accuracy: 0.7755\n",
            "Epoch 62/100\n",
            "111/111 [==============================] - 0s 3ms/step - loss: 0.4387 - accuracy: 0.7816 - val_loss: 0.4552 - val_accuracy: 0.7857\n",
            "Epoch 63/100\n",
            "111/111 [==============================] - 0s 3ms/step - loss: 0.4381 - accuracy: 0.7816 - val_loss: 0.4554 - val_accuracy: 0.7755\n",
            "Epoch 64/100\n",
            "111/111 [==============================] - 0s 2ms/step - loss: 0.4370 - accuracy: 0.7816 - val_loss: 0.4552 - val_accuracy: 0.7653\n",
            "Epoch 65/100\n",
            "111/111 [==============================] - 0s 2ms/step - loss: 0.4388 - accuracy: 0.7834 - val_loss: 0.4542 - val_accuracy: 0.7857\n",
            "Epoch 66/100\n",
            "111/111 [==============================] - 0s 2ms/step - loss: 0.4384 - accuracy: 0.7906 - val_loss: 0.4543 - val_accuracy: 0.7857\n",
            "Epoch 67/100\n",
            "111/111 [==============================] - 0s 2ms/step - loss: 0.4375 - accuracy: 0.7906 - val_loss: 0.4538 - val_accuracy: 0.7755\n",
            "Epoch 68/100\n",
            "111/111 [==============================] - 0s 2ms/step - loss: 0.4395 - accuracy: 0.7852 - val_loss: 0.4512 - val_accuracy: 0.7755\n",
            "Epoch 69/100\n",
            "111/111 [==============================] - 0s 2ms/step - loss: 0.4393 - accuracy: 0.7852 - val_loss: 0.4523 - val_accuracy: 0.7755\n",
            "Epoch 70/100\n",
            "111/111 [==============================] - 0s 2ms/step - loss: 0.4373 - accuracy: 0.7834 - val_loss: 0.4559 - val_accuracy: 0.7653\n",
            "Epoch 71/100\n",
            "111/111 [==============================] - 0s 2ms/step - loss: 0.4374 - accuracy: 0.7924 - val_loss: 0.4784 - val_accuracy: 0.7857\n",
            "Epoch 72/100\n",
            "111/111 [==============================] - 0s 2ms/step - loss: 0.4404 - accuracy: 0.7816 - val_loss: 0.4543 - val_accuracy: 0.7653\n",
            "Epoch 73/100\n",
            "111/111 [==============================] - 0s 2ms/step - loss: 0.4374 - accuracy: 0.7870 - val_loss: 0.4521 - val_accuracy: 0.7653\n",
            "Epoch 74/100\n",
            "111/111 [==============================] - 0s 2ms/step - loss: 0.4373 - accuracy: 0.7798 - val_loss: 0.4552 - val_accuracy: 0.7755\n",
            "Epoch 75/100\n",
            "111/111 [==============================] - 0s 2ms/step - loss: 0.4393 - accuracy: 0.7834 - val_loss: 0.4605 - val_accuracy: 0.7755\n",
            "Epoch 76/100\n",
            "111/111 [==============================] - 0s 2ms/step - loss: 0.4367 - accuracy: 0.7888 - val_loss: 0.4586 - val_accuracy: 0.7653\n",
            "Epoch 77/100\n",
            "111/111 [==============================] - 0s 2ms/step - loss: 0.4386 - accuracy: 0.7888 - val_loss: 0.4584 - val_accuracy: 0.7653\n",
            "Epoch 78/100\n",
            "111/111 [==============================] - 0s 2ms/step - loss: 0.4375 - accuracy: 0.7816 - val_loss: 0.4610 - val_accuracy: 0.7755\n",
            "Epoch 79/100\n",
            "111/111 [==============================] - 0s 2ms/step - loss: 0.4372 - accuracy: 0.7906 - val_loss: 0.4554 - val_accuracy: 0.7857\n",
            "Epoch 80/100\n",
            "111/111 [==============================] - 0s 2ms/step - loss: 0.4377 - accuracy: 0.7798 - val_loss: 0.4588 - val_accuracy: 0.7755\n",
            "Epoch 81/100\n",
            "111/111 [==============================] - 0s 2ms/step - loss: 0.4351 - accuracy: 0.7942 - val_loss: 0.4587 - val_accuracy: 0.7653\n",
            "Epoch 82/100\n",
            "111/111 [==============================] - 0s 2ms/step - loss: 0.4352 - accuracy: 0.7906 - val_loss: 0.4649 - val_accuracy: 0.7857\n",
            "Epoch 83/100\n",
            "111/111 [==============================] - 0s 2ms/step - loss: 0.4356 - accuracy: 0.7780 - val_loss: 0.4566 - val_accuracy: 0.7653\n",
            "Epoch 84/100\n",
            "111/111 [==============================] - 0s 2ms/step - loss: 0.4361 - accuracy: 0.7852 - val_loss: 0.4564 - val_accuracy: 0.7653\n",
            "Epoch 85/100\n",
            "111/111 [==============================] - 0s 2ms/step - loss: 0.4373 - accuracy: 0.7834 - val_loss: 0.4555 - val_accuracy: 0.7755\n",
            "Epoch 86/100\n",
            "111/111 [==============================] - 0s 2ms/step - loss: 0.4349 - accuracy: 0.7888 - val_loss: 0.4565 - val_accuracy: 0.7857\n",
            "Epoch 87/100\n",
            "111/111 [==============================] - 0s 2ms/step - loss: 0.4362 - accuracy: 0.7798 - val_loss: 0.4590 - val_accuracy: 0.7755\n",
            "Epoch 88/100\n",
            "111/111 [==============================] - 0s 2ms/step - loss: 0.4364 - accuracy: 0.7888 - val_loss: 0.4623 - val_accuracy: 0.7755\n",
            "Epoch 89/100\n",
            "111/111 [==============================] - 0s 2ms/step - loss: 0.4418 - accuracy: 0.7762 - val_loss: 0.4674 - val_accuracy: 0.7755\n",
            "Epoch 90/100\n",
            "111/111 [==============================] - 0s 2ms/step - loss: 0.4340 - accuracy: 0.7780 - val_loss: 0.4623 - val_accuracy: 0.8061\n",
            "Epoch 91/100\n",
            "111/111 [==============================] - 0s 2ms/step - loss: 0.4354 - accuracy: 0.7888 - val_loss: 0.4589 - val_accuracy: 0.8163\n",
            "Epoch 92/100\n",
            "111/111 [==============================] - 0s 2ms/step - loss: 0.4319 - accuracy: 0.7906 - val_loss: 0.4604 - val_accuracy: 0.7755\n",
            "Epoch 93/100\n",
            "111/111 [==============================] - 0s 2ms/step - loss: 0.4383 - accuracy: 0.7906 - val_loss: 0.4549 - val_accuracy: 0.7959\n",
            "Epoch 94/100\n",
            "111/111 [==============================] - 0s 2ms/step - loss: 0.4362 - accuracy: 0.7870 - val_loss: 0.4545 - val_accuracy: 0.7755\n",
            "Epoch 95/100\n",
            "111/111 [==============================] - 0s 2ms/step - loss: 0.4365 - accuracy: 0.7942 - val_loss: 0.4530 - val_accuracy: 0.7755\n",
            "Epoch 96/100\n",
            "111/111 [==============================] - 0s 2ms/step - loss: 0.4347 - accuracy: 0.7924 - val_loss: 0.4580 - val_accuracy: 0.7653\n",
            "Epoch 97/100\n",
            "111/111 [==============================] - 0s 2ms/step - loss: 0.4385 - accuracy: 0.7888 - val_loss: 0.4557 - val_accuracy: 0.7959\n",
            "Epoch 98/100\n",
            "111/111 [==============================] - 0s 2ms/step - loss: 0.4357 - accuracy: 0.7888 - val_loss: 0.4546 - val_accuracy: 0.7653\n",
            "Epoch 99/100\n",
            "111/111 [==============================] - 0s 2ms/step - loss: 0.4357 - accuracy: 0.7996 - val_loss: 0.4648 - val_accuracy: 0.7755\n",
            "Epoch 100/100\n",
            "111/111 [==============================] - 0s 2ms/step - loss: 0.4347 - accuracy: 0.7798 - val_loss: 0.4555 - val_accuracy: 0.7857\n"
          ]
        }
      ],
      "source": [
        "# Fit the DNN with your train data\n",
        "\n",
        "history = model.fit(X_train, Y_train, validation_data=(X_val, Y_val), epochs=100, batch_size=5)"
      ]
    },
    {
      "cell_type": "markdown",
      "source": [
        "#### Epoch vs Train/ Validation "
      ],
      "metadata": {
        "id": "3Nv123N_9jGS"
      }
    },
    {
      "cell_type": "code",
      "source": [
        "loss_train = history.history['accuracy']\n",
        "loss_val = history.history['val_accuracy']\n",
        "epochs = range(1,101)\n",
        "plt.plot(epochs, loss_train, 'g', label='Training accuracy')\n",
        "plt.plot(epochs, loss_val, 'b', label='validation accuracy')\n",
        "plt.title('Training and Validation accuracy')\n",
        "plt.xlabel('Epochs')\n",
        "plt.ylabel('Accuracy')\n",
        "plt.legend()\n",
        "plt.show()"
      ],
      "metadata": {
        "id": "TjemjBB191eL",
        "outputId": "224d4d0d-c865-4b9d-b289-519cfade86ae",
        "colab": {
          "base_uri": "https://localhost:8080/",
          "height": 295
        }
      },
      "execution_count": 29,
      "outputs": [
        {
          "output_type": "display_data",
          "data": {
            "text/plain": [
              "<Figure size 432x288 with 1 Axes>"
            ],
            "image/png": "[encoded data removed]"
          },
          "metadata": {
            "needs_background": "light"
          }
        }
      ]
    },
    {
      "cell_type": "code",
      "execution_count": 21,
      "metadata": {
        "id": "hWEVknNT-aLB",
        "outputId": "47426d22-a38d-48fe-ae64-2b6e344407ce",
        "colab": {
          "base_uri": "https://localhost:8080/"
        }
      },
      "outputs": [
        {
          "output_type": "stream",
          "name": "stdout",
          "text": [
            "4/4 [==============================] - 0s 3ms/step - loss: 0.4837 - accuracy: 0.7759\n",
            "Accuracy: 77.59%\n"
          ]
        }
      ],
      "source": [
        "# Evaluate the model\n",
        "scores = model.evaluate(X_test, Y_test)\n",
        "print (\"Accuracy: %.2f%%\" %(scores[1]*100))"
      ]
    },
    {
      "cell_type": "code",
      "source": [
        ""
      ],
      "metadata": {
        "id": "4jnI-_GCCMdc"
      },
      "execution_count": null,
      "outputs": []
    }
  ],
  "metadata": {
    "kernelspec": {
      "display_name": "Python 3",
      "language": "python",
      "name": "python3"
    },
    "language_info": {
      "codemirror_mode": {
        "name": "ipython",
        "version": 3
      },
      "file_extension": ".py",
      "mimetype": "text/x-python",
      "name": "python",
      "nbconvert_exporter": "python",
      "pygments_lexer": "ipython3",
      "version": "3.6.4"
    },
    "colab": {
      "name": "Question_1.ipynb",
      "provenance": []
    }
  },
  "nbformat": 4,
  "nbformat_minor": 0
}