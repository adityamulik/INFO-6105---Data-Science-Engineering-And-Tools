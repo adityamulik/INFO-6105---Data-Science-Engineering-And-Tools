{
  "cells": [
    {
      "cell_type": "markdown",
      "metadata": {
        "id": "HVvT8kYY-aK2"
      },
      "source": [
        "1. pre-process the data by scaling/standardizing the 8 columns"
      ]
    },
    {
      "cell_type": "markdown",
      "metadata": {
        "id": "mC1aie3z-aK6"
      },
      "source": [
        "# Understand the problem and read in the data"
      ]
    },
    {
      "cell_type": "markdown",
      "metadata": {
        "id": "jTmkHlAq-aK6"
      },
      "source": [
        "This Kaggle challenge is about predicting the onset of diabetes in 5 years or less. \n",
        "Target variable is Outcome. 1 = yes, the person became diabetic in 5 years, and 0 = No, \n",
        "the person did not. This is a binary classification problem. Please check out the Kaggle\n",
        "link here to see feature \n",
        "details - https://www.kaggle.com/uciml/pima-indians-diabetes-database/data"
      ]
    },
    {
      "cell_type": "code",
      "execution_count": 18,
      "metadata": {
        "id": "g7QEMimr-aK7"
      },
      "outputs": [],
      "source": [
        "'''Import necessary packages'''\n",
        "from keras.models import Sequential\n",
        "from keras.layers import Dense\n",
        "from sklearn.model_selection import train_test_split\n",
        "import seaborn as sns\n",
        "import numpy as np\n",
        "import pandas as pd\n",
        "import matplotlib.pyplot as plt\n",
        "from google.colab import drive\n",
        "from sklearn.preprocessing import MinMaxScaler\n",
        "from sklearn.preprocessing import StandardScaler\n",
        "from sklearn.preprocessing import Normalizer\n",
        "from sklearn.preprocessing import Binarizer\n",
        "from sklearn.metrics import roc_curve,auc, roc_auc_score\n",
        "\n",
        "%matplotlib inline"
      ]
    },
    {
      "cell_type": "code",
      "execution_count": 2,
      "metadata": {
        "id": "papbEjf6-aK8",
        "outputId": "841bf654-88ec-4ae7-85d6-65ff7f27d69f",
        "colab": {
          "base_uri": "https://localhost:8080/"
        }
      },
      "outputs": [
        {
          "output_type": "stream",
          "name": "stdout",
          "text": [
            "Mounted at /content/drive\n"
          ]
        }
      ],
      "source": [
        "# Load Data from Google Drive\n",
        "drive.mount('/content/drive')\n",
        "data = open('/content/drive/MyDrive/dataset_INFO6105/pima-indians-diabetes.data')"
      ]
    },
    {
      "cell_type": "code",
      "execution_count": 3,
      "metadata": {
        "id": "QqMTPXRe-aK-",
        "outputId": "80d12cee-a89c-4b78-a3d4-6a34bcb3fb46",
        "colab": {
          "base_uri": "https://localhost:8080/",
          "height": 129
        }
      },
      "outputs": [
        {
          "output_type": "stream",
          "name": "stdout",
          "text": [
            "(768, 9)\n"
          ]
        },
        {
          "output_type": "execute_result",
          "data": {
            "text/plain": [
              "   0    1   2   3  4     5      6   7  8\n",
              "0  6  148  72  35  0  33.6  0.627  50  1\n",
              "1  1   85  66  29  0  26.6  0.351  31  0"
            ],
            "text/html": [
              "\n",
              "  <div id=\"df-37d9a5a2-8c7d-4f09-8e47-3f18ae44c325\">\n",
              "    <div class=\"colab-df-container\">\n",
              "      <div>\n",
              "<style scoped>\n",
              "    .dataframe tbody tr th:only-of-type {\n",
              "        vertical-align: middle;\n",
              "    }\n",
              "\n",
              "    .dataframe tbody tr th {\n",
              "        vertical-align: top;\n",
              "    }\n",
              "\n",
              "    .dataframe thead th {\n",
              "        text-align: right;\n",
              "    }\n",
              "</style>\n",
              "<table border=\"1\" class=\"dataframe\">\n",
              "  <thead>\n",
              "    <tr style=\"text-align: right;\">\n",
              "      <th></th>\n",
              "      <th>0</th>\n",
              "      <th>1</th>\n",
              "      <th>2</th>\n",
              "      <th>3</th>\n",
              "      <th>4</th>\n",
              "      <th>5</th>\n",
              "      <th>6</th>\n",
              "      <th>7</th>\n",
              "      <th>8</th>\n",
              "    </tr>\n",
              "  </thead>\n",
              "  <tbody>\n",
              "    <tr>\n",
              "      <th>0</th>\n",
              "      <td>6</td>\n",
              "      <td>148</td>\n",
              "      <td>72</td>\n",
              "      <td>35</td>\n",
              "      <td>0</td>\n",
              "      <td>33.6</td>\n",
              "      <td>0.627</td>\n",
              "      <td>50</td>\n",
              "      <td>1</td>\n",
              "    </tr>\n",
              "    <tr>\n",
              "      <th>1</th>\n",
              "      <td>1</td>\n",
              "      <td>85</td>\n",
              "      <td>66</td>\n",
              "      <td>29</td>\n",
              "      <td>0</td>\n",
              "      <td>26.6</td>\n",
              "      <td>0.351</td>\n",
              "      <td>31</td>\n",
              "      <td>0</td>\n",
              "    </tr>\n",
              "  </tbody>\n",
              "</table>\n",
              "</div>\n",
              "      <button class=\"colab-df-convert\" onclick=\"convertToInteractive('df-37d9a5a2-8c7d-4f09-8e47-3f18ae44c325')\"\n",
              "              title=\"Convert this dataframe to an interactive table.\"\n",
              "              style=\"display:none;\">\n",
              "        \n",
              "  <svg xmlns=\"http://www.w3.org/2000/svg\" height=\"24px\"viewBox=\"0 0 24 24\"\n",
              "       width=\"24px\">\n",
              "    <path d=\"M0 0h24v24H0V0z\" fill=\"none\"/>\n",
              "    <path d=\"M18.56 5.44l.94 2.06.94-2.06 2.06-.94-2.06-.94-.94-2.06-.94 2.06-2.06.94zm-11 1L8.5 8.5l.94-2.06 2.06-.94-2.06-.94L8.5 2.5l-.94 2.06-2.06.94zm10 10l.94 2.06.94-2.06 2.06-.94-2.06-.94-.94-2.06-.94 2.06-2.06.94z\"/><path d=\"M17.41 7.96l-1.37-1.37c-.4-.4-.92-.59-1.43-.59-.52 0-1.04.2-1.43.59L10.3 9.45l-7.72 7.72c-.78.78-.78 2.05 0 2.83L4 21.41c.39.39.9.59 1.41.59.51 0 1.02-.2 1.41-.59l7.78-7.78 2.81-2.81c.8-.78.8-2.07 0-2.86zM5.41 20L4 18.59l7.72-7.72 1.47 1.35L5.41 20z\"/>\n",
              "  </svg>\n",
              "      </button>\n",
              "      \n",
              "  <style>\n",
              "    .colab-df-container {\n",
              "      display:flex;\n",
              "      flex-wrap:wrap;\n",
              "      gap: 12px;\n",
              "    }\n",
              "\n",
              "    .colab-df-convert {\n",
              "      background-color: #E8F0FE;\n",
              "      border: none;\n",
              "      border-radius: 50%;\n",
              "      cursor: pointer;\n",
              "      display: none;\n",
              "      fill: #1967D2;\n",
              "      height: 32px;\n",
              "      padding: 0 0 0 0;\n",
              "      width: 32px;\n",
              "    }\n",
              "\n",
              "    .colab-df-convert:hover {\n",
              "      background-color: #E2EBFA;\n",
              "      box-shadow: 0px 1px 2px rgba(60, 64, 67, 0.3), 0px 1px 3px 1px rgba(60, 64, 67, 0.15);\n",
              "      fill: #174EA6;\n",
              "    }\n",
              "\n",
              "    [theme=dark] .colab-df-convert {\n",
              "      background-color: #3B4455;\n",
              "      fill: #D2E3FC;\n",
              "    }\n",
              "\n",
              "    [theme=dark] .colab-df-convert:hover {\n",
              "      background-color: #434B5C;\n",
              "      box-shadow: 0px 1px 3px 1px rgba(0, 0, 0, 0.15);\n",
              "      filter: drop-shadow(0px 1px 2px rgba(0, 0, 0, 0.3));\n",
              "      fill: #FFFFFF;\n",
              "    }\n",
              "  </style>\n",
              "\n",
              "      <script>\n",
              "        const buttonEl =\n",
              "          document.querySelector('#df-37d9a5a2-8c7d-4f09-8e47-3f18ae44c325 button.colab-df-convert');\n",
              "        buttonEl.style.display =\n",
              "          google.colab.kernel.accessAllowed ? 'block' : 'none';\n",
              "\n",
              "        async function convertToInteractive(key) {\n",
              "          const element = document.querySelector('#df-37d9a5a2-8c7d-4f09-8e47-3f18ae44c325');\n",
              "          const dataTable =\n",
              "            await google.colab.kernel.invokeFunction('convertToInteractive',\n",
              "                                                     [key], {});\n",
              "          if (!dataTable) return;\n",
              "\n",
              "          const docLinkHtml = 'Like what you see? Visit the ' +\n",
              "            '<a target=\"_blank\" href=https://colab.research.google.com/notebooks/data_table.ipynb>data table notebook</a>'\n",
              "            + ' to learn more about interactive tables.';\n",
              "          element.innerHTML = '';\n",
              "          dataTable['output_type'] = 'display_data';\n",
              "          await google.colab.output.renderOutput(dataTable, element);\n",
              "          const docLink = document.createElement('div');\n",
              "          docLink.innerHTML = docLinkHtml;\n",
              "          element.appendChild(docLink);\n",
              "        }\n",
              "      </script>\n",
              "    </div>\n",
              "  </div>\n",
              "  "
            ]
          },
          "metadata": {},
          "execution_count": 3
        }
      ],
      "source": [
        "df = pd.read_csv(data,header = None)\n",
        "print(df.shape)\n",
        "df.head(2)"
      ]
    },
    {
      "cell_type": "markdown",
      "metadata": {
        "id": "3cOh6yDw-aK-"
      },
      "source": [
        "# Pre-process data, train-test split"
      ]
    },
    {
      "cell_type": "code",
      "execution_count": 4,
      "metadata": {
        "id": "OU7-9EgX-aK_"
      },
      "outputs": [],
      "source": [
        "#Separate out X and Y\n",
        "X = df.iloc[:, :8]\n",
        "Y = df.iloc[:, 8:9]"
      ]
    },
    {
      "cell_type": "markdown",
      "source": [
        "#### Various other preprocessing techniques which I've commented. I've just used the MinMaxScaler for the implementation\n",
        "\n",
        "1. MinMaxScaler\n",
        "2. Normalizer\n",
        "3. Binarizer\n",
        "4. StandardScaler"
      ],
      "metadata": {
        "id": "woYC_Z0nFE2D"
      }
    },
    {
      "cell_type": "code",
      "source": [
        "# #StandardScaler\n",
        "# transforms = StandardScaler()\n",
        "# standardScale_X = transforms.fit_transform(X)\n",
        "# print(standardScale_X)\n",
        "\n",
        "# transforms = Normalizer()\n",
        "# normalizer_x = transforms.fit_transform(X)\n",
        "# print(normalizer_x)\n",
        "\n",
        "# transforms = Binarizer(threshold=0.5)\n",
        "# binarizer_x = transforms.fit_transform(X)\n",
        "# print(binarizer_x)"
      ],
      "metadata": {
        "id": "OoopQ0ZGFNQH"
      },
      "execution_count": null,
      "outputs": []
    },
    {
      "cell_type": "code",
      "source": [
        "#scale Features from 0 to 1\n",
        "transforms = MinMaxScaler(feature_range=(0,1))\n",
        "scaler_X =  transforms.fit_transform(X)\n",
        "print(scaler_X)"
      ],
      "metadata": {
        "id": "6OYFjCFJBCYj",
        "outputId": "8bb0441d-3f58-4f76-b2a8-e222113e8fda",
        "colab": {
          "base_uri": "https://localhost:8080/"
        }
      },
      "execution_count": 5,
      "outputs": [
        {
          "output_type": "stream",
          "name": "stdout",
          "text": [
            "[[0.35294118 0.74371859 0.59016393 ... 0.50074516 0.23441503 0.48333333]\n",
            " [0.05882353 0.42713568 0.54098361 ... 0.39642325 0.11656704 0.16666667]\n",
            " [0.47058824 0.91959799 0.52459016 ... 0.34724292 0.25362938 0.18333333]\n",
            " ...\n",
            " [0.29411765 0.6080402  0.59016393 ... 0.390462   0.07130658 0.15      ]\n",
            " [0.05882353 0.63316583 0.49180328 ... 0.4485842  0.11571307 0.43333333]\n",
            " [0.05882353 0.46733668 0.57377049 ... 0.45305514 0.10119556 0.03333333]]\n"
          ]
        }
      ]
    },
    {
      "cell_type": "markdown",
      "source": [
        "#### Split data into train, validation and test"
      ],
      "metadata": {
        "id": "bWFtISrP4HRV"
      }
    },
    {
      "cell_type": "code",
      "source": [
        "df.shape"
      ],
      "metadata": {
        "colab": {
          "base_uri": "https://localhost:8080/"
        },
        "id": "e0itaFSO07NI",
        "outputId": "e2d08e14-18d1-4fdd-8438-cb907c1474c3"
      },
      "execution_count": 6,
      "outputs": [
        {
          "output_type": "execute_result",
          "data": {
            "text/plain": [
              "(768, 9)"
            ]
          },
          "metadata": {},
          "execution_count": 6
        }
      ]
    },
    {
      "cell_type": "code",
      "source": [
        "X_train, X_test, Y_train, Y_test = train_test_split(scaler_X, Y, test_size=0.15, random_state=1)\n",
        "X_train, X_val, Y_train, Y_val = train_test_split(X_train, Y_train, test_size=0.15, random_state=1)"
      ],
      "metadata": {
        "id": "AVyxsZh_08VA"
      },
      "execution_count": 7,
      "outputs": []
    },
    {
      "cell_type": "code",
      "source": [
        "print(X_train.shape,Y_train.shape,X_val.shape,Y_val.shape,X_test.shape,Y_test.shape)"
      ],
      "metadata": {
        "colab": {
          "base_uri": "https://localhost:8080/"
        },
        "id": "Q9qopArM6VJF",
        "outputId": "9db674ec-a102-4e9b-ffc8-8ad808607777"
      },
      "execution_count": 22,
      "outputs": [
        {
          "output_type": "stream",
          "name": "stdout",
          "text": [
            "(554, 8) (554, 1) (98, 8) (98, 1) (116, 8) (116, 1)\n"
          ]
        }
      ]
    },
    {
      "cell_type": "code",
      "execution_count": null,
      "metadata": {
        "id": "j7rFixE1-aK_"
      },
      "outputs": [],
      "source": [
        "# # Train- Test Split\n",
        "# (X_train, X_test, Y_train, Y_test) = train_test_split(scaler_X, Y, test_size=0.33, random_state=1)\n",
        "# print(X_train.shape,X_test.shape,Y_train.shape,Y_test.shape)"
      ]
    },
    {
      "cell_type": "markdown",
      "metadata": {
        "id": "QQzYPUpl-aLA"
      },
      "source": [
        "# Build and compile a deep learning model"
      ]
    },
    {
      "cell_type": "code",
      "execution_count": 12,
      "metadata": {
        "id": "i6nBxp5V-aLA"
      },
      "outputs": [],
      "source": [
        "# Build the deep neural network\n",
        "model = Sequential()\n",
        "model.add(Dense(10, input_dim=8, activation='relu'))\n",
        "model.add(Dense(6, activation='relu'))\n",
        "model.add(Dense(1, activation='sigmoid'))"
      ]
    },
    {
      "cell_type": "code",
      "execution_count": 13,
      "metadata": {
        "id": "Nvv9QPVU-aLB"
      },
      "outputs": [],
      "source": [
        "# Compile the DNN\n",
        "\n",
        "model.compile(loss='binary_crossentropy', optimizer='adam', metrics=['accuracy'])"
      ]
    },
    {
      "cell_type": "code",
      "execution_count": 14,
      "metadata": {
        "id": "FhllulpQ-aLB",
        "outputId": "ebb6234f-affc-4575-fe7f-8d2b19324505",
        "colab": {
          "base_uri": "https://localhost:8080/"
        }
      },
      "outputs": [
        {
          "output_type": "stream",
          "name": "stdout",
          "text": [
            "Epoch 1/100\n",
            "111/111 [==============================] - 3s 8ms/step - loss: 0.6794 - accuracy: 0.6516 - val_loss: 0.6721 - val_accuracy: 0.6531\n",
            "Epoch 2/100\n",
            "111/111 [==============================] - 0s 4ms/step - loss: 0.6572 - accuracy: 0.6516 - val_loss: 0.6516 - val_accuracy: 0.6531\n",
            "Epoch 3/100\n",
            "111/111 [==============================] - 0s 4ms/step - loss: 0.6366 - accuracy: 0.6516 - val_loss: 0.6369 - val_accuracy: 0.6531\n",
            "Epoch 4/100\n",
            "111/111 [==============================] - 1s 5ms/step - loss: 0.6235 - accuracy: 0.6516 - val_loss: 0.6238 - val_accuracy: 0.6531\n",
            "Epoch 5/100\n",
            "111/111 [==============================] - 1s 5ms/step - loss: 0.6115 - accuracy: 0.6516 - val_loss: 0.6167 - val_accuracy: 0.6531\n",
            "Epoch 6/100\n",
            "111/111 [==============================] - 1s 5ms/step - loss: 0.6014 - accuracy: 0.6516 - val_loss: 0.6091 - val_accuracy: 0.6531\n",
            "Epoch 7/100\n",
            "111/111 [==============================] - 0s 4ms/step - loss: 0.5917 - accuracy: 0.6516 - val_loss: 0.6035 - val_accuracy: 0.6531\n",
            "Epoch 8/100\n",
            "111/111 [==============================] - 0s 4ms/step - loss: 0.5849 - accuracy: 0.6516 - val_loss: 0.5987 - val_accuracy: 0.6531\n",
            "Epoch 9/100\n",
            "111/111 [==============================] - 0s 4ms/step - loss: 0.5773 - accuracy: 0.6516 - val_loss: 0.5937 - val_accuracy: 0.6531\n",
            "Epoch 10/100\n",
            "111/111 [==============================] - 0s 4ms/step - loss: 0.5705 - accuracy: 0.6516 - val_loss: 0.5889 - val_accuracy: 0.6531\n",
            "Epoch 11/100\n",
            "111/111 [==============================] - 1s 5ms/step - loss: 0.5647 - accuracy: 0.6516 - val_loss: 0.5864 - val_accuracy: 0.6531\n",
            "Epoch 12/100\n",
            "111/111 [==============================] - 0s 4ms/step - loss: 0.5582 - accuracy: 0.6516 - val_loss: 0.5813 - val_accuracy: 0.6531\n",
            "Epoch 13/100\n",
            "111/111 [==============================] - 0s 3ms/step - loss: 0.5567 - accuracy: 0.6516 - val_loss: 0.5793 - val_accuracy: 0.6531\n",
            "Epoch 14/100\n",
            "111/111 [==============================] - 0s 2ms/step - loss: 0.5521 - accuracy: 0.6516 - val_loss: 0.5772 - val_accuracy: 0.6531\n",
            "Epoch 15/100\n",
            "111/111 [==============================] - 0s 2ms/step - loss: 0.5479 - accuracy: 0.6516 - val_loss: 0.5732 - val_accuracy: 0.6531\n",
            "Epoch 16/100\n",
            "111/111 [==============================] - 0s 2ms/step - loss: 0.5411 - accuracy: 0.6516 - val_loss: 0.5760 - val_accuracy: 0.6531\n",
            "Epoch 17/100\n",
            "111/111 [==============================] - 0s 2ms/step - loss: 0.5373 - accuracy: 0.6625 - val_loss: 0.5683 - val_accuracy: 0.6735\n",
            "Epoch 18/100\n",
            "111/111 [==============================] - 0s 2ms/step - loss: 0.5320 - accuracy: 0.7184 - val_loss: 0.5659 - val_accuracy: 0.7041\n",
            "Epoch 19/100\n",
            "111/111 [==============================] - 0s 2ms/step - loss: 0.5288 - accuracy: 0.7274 - val_loss: 0.5653 - val_accuracy: 0.6633\n",
            "Epoch 20/100\n",
            "111/111 [==============================] - 0s 3ms/step - loss: 0.5248 - accuracy: 0.7383 - val_loss: 0.5602 - val_accuracy: 0.6735\n",
            "Epoch 21/100\n",
            "111/111 [==============================] - 0s 2ms/step - loss: 0.5201 - accuracy: 0.7383 - val_loss: 0.5636 - val_accuracy: 0.6939\n",
            "Epoch 22/100\n",
            "111/111 [==============================] - 0s 2ms/step - loss: 0.5174 - accuracy: 0.7401 - val_loss: 0.5533 - val_accuracy: 0.7143\n",
            "Epoch 23/100\n",
            "111/111 [==============================] - 0s 2ms/step - loss: 0.5153 - accuracy: 0.7491 - val_loss: 0.5522 - val_accuracy: 0.6837\n",
            "Epoch 24/100\n",
            "111/111 [==============================] - 0s 3ms/step - loss: 0.5112 - accuracy: 0.7383 - val_loss: 0.5526 - val_accuracy: 0.6837\n",
            "Epoch 25/100\n",
            "111/111 [==============================] - 0s 2ms/step - loss: 0.5089 - accuracy: 0.7401 - val_loss: 0.5468 - val_accuracy: 0.7245\n",
            "Epoch 26/100\n",
            "111/111 [==============================] - 0s 2ms/step - loss: 0.5082 - accuracy: 0.7473 - val_loss: 0.5451 - val_accuracy: 0.7143\n",
            "Epoch 27/100\n",
            "111/111 [==============================] - 0s 3ms/step - loss: 0.5052 - accuracy: 0.7455 - val_loss: 0.5424 - val_accuracy: 0.7245\n",
            "Epoch 28/100\n",
            "111/111 [==============================] - 0s 3ms/step - loss: 0.5039 - accuracy: 0.7455 - val_loss: 0.5429 - val_accuracy: 0.7143\n",
            "Epoch 29/100\n",
            "111/111 [==============================] - 0s 2ms/step - loss: 0.5021 - accuracy: 0.7455 - val_loss: 0.5425 - val_accuracy: 0.7143\n",
            "Epoch 30/100\n",
            "111/111 [==============================] - 0s 3ms/step - loss: 0.4985 - accuracy: 0.7473 - val_loss: 0.5502 - val_accuracy: 0.6939\n",
            "Epoch 31/100\n",
            "111/111 [==============================] - 0s 2ms/step - loss: 0.5020 - accuracy: 0.7473 - val_loss: 0.5423 - val_accuracy: 0.7143\n",
            "Epoch 32/100\n",
            "111/111 [==============================] - 0s 2ms/step - loss: 0.4970 - accuracy: 0.7473 - val_loss: 0.5375 - val_accuracy: 0.7143\n",
            "Epoch 33/100\n",
            "111/111 [==============================] - 0s 2ms/step - loss: 0.4966 - accuracy: 0.7545 - val_loss: 0.5366 - val_accuracy: 0.7143\n",
            "Epoch 34/100\n",
            "111/111 [==============================] - 0s 2ms/step - loss: 0.4956 - accuracy: 0.7473 - val_loss: 0.5365 - val_accuracy: 0.7245\n",
            "Epoch 35/100\n",
            "111/111 [==============================] - 0s 2ms/step - loss: 0.4928 - accuracy: 0.7509 - val_loss: 0.5338 - val_accuracy: 0.7143\n",
            "Epoch 36/100\n",
            "111/111 [==============================] - 0s 3ms/step - loss: 0.4936 - accuracy: 0.7545 - val_loss: 0.5359 - val_accuracy: 0.7245\n",
            "Epoch 37/100\n",
            "111/111 [==============================] - 0s 2ms/step - loss: 0.4934 - accuracy: 0.7527 - val_loss: 0.5377 - val_accuracy: 0.7143\n",
            "Epoch 38/100\n",
            "111/111 [==============================] - 0s 2ms/step - loss: 0.4933 - accuracy: 0.7491 - val_loss: 0.5335 - val_accuracy: 0.7347\n",
            "Epoch 39/100\n",
            "111/111 [==============================] - 0s 2ms/step - loss: 0.4894 - accuracy: 0.7581 - val_loss: 0.5456 - val_accuracy: 0.7245\n",
            "Epoch 40/100\n",
            "111/111 [==============================] - 0s 2ms/step - loss: 0.4916 - accuracy: 0.7419 - val_loss: 0.5326 - val_accuracy: 0.7245\n",
            "Epoch 41/100\n",
            "111/111 [==============================] - 0s 2ms/step - loss: 0.4888 - accuracy: 0.7635 - val_loss: 0.5356 - val_accuracy: 0.7245\n",
            "Epoch 42/100\n",
            "111/111 [==============================] - 0s 2ms/step - loss: 0.4871 - accuracy: 0.7527 - val_loss: 0.5297 - val_accuracy: 0.7143\n",
            "Epoch 43/100\n",
            "111/111 [==============================] - 0s 2ms/step - loss: 0.4865 - accuracy: 0.7599 - val_loss: 0.5387 - val_accuracy: 0.7245\n",
            "Epoch 44/100\n",
            "111/111 [==============================] - 0s 3ms/step - loss: 0.4885 - accuracy: 0.7455 - val_loss: 0.5266 - val_accuracy: 0.7245\n",
            "Epoch 45/100\n",
            "111/111 [==============================] - 0s 3ms/step - loss: 0.4843 - accuracy: 0.7509 - val_loss: 0.5299 - val_accuracy: 0.7449\n",
            "Epoch 46/100\n",
            "111/111 [==============================] - 0s 2ms/step - loss: 0.4843 - accuracy: 0.7653 - val_loss: 0.5318 - val_accuracy: 0.7245\n",
            "Epoch 47/100\n",
            "111/111 [==============================] - 0s 2ms/step - loss: 0.4844 - accuracy: 0.7545 - val_loss: 0.5274 - val_accuracy: 0.7041\n",
            "Epoch 48/100\n",
            "111/111 [==============================] - 0s 2ms/step - loss: 0.4883 - accuracy: 0.7509 - val_loss: 0.5261 - val_accuracy: 0.7143\n",
            "Epoch 49/100\n",
            "111/111 [==============================] - 0s 2ms/step - loss: 0.4841 - accuracy: 0.7545 - val_loss: 0.5256 - val_accuracy: 0.6939\n",
            "Epoch 50/100\n",
            "111/111 [==============================] - 0s 2ms/step - loss: 0.4850 - accuracy: 0.7473 - val_loss: 0.5241 - val_accuracy: 0.7245\n",
            "Epoch 51/100\n",
            "111/111 [==============================] - 0s 2ms/step - loss: 0.4833 - accuracy: 0.7545 - val_loss: 0.5294 - val_accuracy: 0.7347\n",
            "Epoch 52/100\n",
            "111/111 [==============================] - 0s 2ms/step - loss: 0.4822 - accuracy: 0.7563 - val_loss: 0.5246 - val_accuracy: 0.7347\n",
            "Epoch 53/100\n",
            "111/111 [==============================] - 0s 2ms/step - loss: 0.4813 - accuracy: 0.7617 - val_loss: 0.5266 - val_accuracy: 0.7347\n",
            "Epoch 54/100\n",
            "111/111 [==============================] - 0s 2ms/step - loss: 0.4804 - accuracy: 0.7473 - val_loss: 0.5197 - val_accuracy: 0.7143\n",
            "Epoch 55/100\n",
            "111/111 [==============================] - 0s 2ms/step - loss: 0.4827 - accuracy: 0.7527 - val_loss: 0.5183 - val_accuracy: 0.7245\n",
            "Epoch 56/100\n",
            "111/111 [==============================] - 0s 2ms/step - loss: 0.4794 - accuracy: 0.7509 - val_loss: 0.5132 - val_accuracy: 0.7143\n",
            "Epoch 57/100\n",
            "111/111 [==============================] - 0s 2ms/step - loss: 0.4796 - accuracy: 0.7635 - val_loss: 0.5123 - val_accuracy: 0.7449\n",
            "Epoch 58/100\n",
            "111/111 [==============================] - 0s 2ms/step - loss: 0.4754 - accuracy: 0.7581 - val_loss: 0.5149 - val_accuracy: 0.7245\n",
            "Epoch 59/100\n",
            "111/111 [==============================] - 0s 2ms/step - loss: 0.4806 - accuracy: 0.7545 - val_loss: 0.5116 - val_accuracy: 0.7449\n",
            "Epoch 60/100\n",
            "111/111 [==============================] - 0s 2ms/step - loss: 0.4771 - accuracy: 0.7653 - val_loss: 0.5088 - val_accuracy: 0.7551\n",
            "Epoch 61/100\n",
            "111/111 [==============================] - 0s 2ms/step - loss: 0.4751 - accuracy: 0.7635 - val_loss: 0.5067 - val_accuracy: 0.7347\n",
            "Epoch 62/100\n",
            "111/111 [==============================] - 0s 2ms/step - loss: 0.4741 - accuracy: 0.7599 - val_loss: 0.5053 - val_accuracy: 0.7449\n",
            "Epoch 63/100\n",
            "111/111 [==============================] - 0s 2ms/step - loss: 0.4727 - accuracy: 0.7653 - val_loss: 0.5041 - val_accuracy: 0.7551\n",
            "Epoch 64/100\n",
            "111/111 [==============================] - 0s 2ms/step - loss: 0.4724 - accuracy: 0.7581 - val_loss: 0.5017 - val_accuracy: 0.7653\n",
            "Epoch 65/100\n",
            "111/111 [==============================] - 0s 2ms/step - loss: 0.4707 - accuracy: 0.7563 - val_loss: 0.5054 - val_accuracy: 0.7959\n",
            "Epoch 66/100\n",
            "111/111 [==============================] - 0s 2ms/step - loss: 0.4722 - accuracy: 0.7617 - val_loss: 0.4997 - val_accuracy: 0.7143\n",
            "Epoch 67/100\n",
            "111/111 [==============================] - 0s 2ms/step - loss: 0.4682 - accuracy: 0.7563 - val_loss: 0.5019 - val_accuracy: 0.7959\n",
            "Epoch 68/100\n",
            "111/111 [==============================] - 0s 3ms/step - loss: 0.4721 - accuracy: 0.7690 - val_loss: 0.5008 - val_accuracy: 0.7857\n",
            "Epoch 69/100\n",
            "111/111 [==============================] - 0s 2ms/step - loss: 0.4733 - accuracy: 0.7599 - val_loss: 0.4988 - val_accuracy: 0.7143\n",
            "Epoch 70/100\n",
            "111/111 [==============================] - 0s 2ms/step - loss: 0.4682 - accuracy: 0.7635 - val_loss: 0.4958 - val_accuracy: 0.7143\n",
            "Epoch 71/100\n",
            "111/111 [==============================] - 0s 2ms/step - loss: 0.4682 - accuracy: 0.7581 - val_loss: 0.5008 - val_accuracy: 0.7959\n",
            "Epoch 72/100\n",
            "111/111 [==============================] - 0s 2ms/step - loss: 0.4698 - accuracy: 0.7581 - val_loss: 0.4947 - val_accuracy: 0.7653\n",
            "Epoch 73/100\n",
            "111/111 [==============================] - 0s 2ms/step - loss: 0.4666 - accuracy: 0.7617 - val_loss: 0.5012 - val_accuracy: 0.7857\n",
            "Epoch 74/100\n",
            "111/111 [==============================] - 0s 2ms/step - loss: 0.4704 - accuracy: 0.7617 - val_loss: 0.4956 - val_accuracy: 0.7143\n",
            "Epoch 75/100\n",
            "111/111 [==============================] - 0s 2ms/step - loss: 0.4671 - accuracy: 0.7635 - val_loss: 0.4949 - val_accuracy: 0.7959\n",
            "Epoch 76/100\n",
            "111/111 [==============================] - 0s 2ms/step - loss: 0.4662 - accuracy: 0.7617 - val_loss: 0.4918 - val_accuracy: 0.7653\n",
            "Epoch 77/100\n",
            "111/111 [==============================] - 0s 2ms/step - loss: 0.4657 - accuracy: 0.7690 - val_loss: 0.4919 - val_accuracy: 0.7449\n",
            "Epoch 78/100\n",
            "111/111 [==============================] - 0s 2ms/step - loss: 0.4661 - accuracy: 0.7708 - val_loss: 0.4933 - val_accuracy: 0.7755\n",
            "Epoch 79/100\n",
            "111/111 [==============================] - 0s 2ms/step - loss: 0.4651 - accuracy: 0.7726 - val_loss: 0.4978 - val_accuracy: 0.7449\n",
            "Epoch 80/100\n",
            "111/111 [==============================] - 0s 2ms/step - loss: 0.4638 - accuracy: 0.7852 - val_loss: 0.4939 - val_accuracy: 0.7755\n",
            "Epoch 81/100\n",
            "111/111 [==============================] - 0s 2ms/step - loss: 0.4645 - accuracy: 0.7708 - val_loss: 0.4932 - val_accuracy: 0.7449\n",
            "Epoch 82/100\n",
            "111/111 [==============================] - 0s 2ms/step - loss: 0.4625 - accuracy: 0.7816 - val_loss: 0.4952 - val_accuracy: 0.8061\n",
            "Epoch 83/100\n",
            "111/111 [==============================] - 0s 2ms/step - loss: 0.4634 - accuracy: 0.7888 - val_loss: 0.4914 - val_accuracy: 0.7551\n",
            "Epoch 84/100\n",
            "111/111 [==============================] - 0s 3ms/step - loss: 0.4614 - accuracy: 0.7708 - val_loss: 0.4922 - val_accuracy: 0.7755\n",
            "Epoch 85/100\n",
            "111/111 [==============================] - 0s 2ms/step - loss: 0.4609 - accuracy: 0.7762 - val_loss: 0.4937 - val_accuracy: 0.8061\n",
            "Epoch 86/100\n",
            "111/111 [==============================] - 0s 2ms/step - loss: 0.4613 - accuracy: 0.7690 - val_loss: 0.4901 - val_accuracy: 0.7449\n",
            "Epoch 87/100\n",
            "111/111 [==============================] - 0s 2ms/step - loss: 0.4640 - accuracy: 0.7671 - val_loss: 0.4918 - val_accuracy: 0.7551\n",
            "Epoch 88/100\n",
            "111/111 [==============================] - 0s 2ms/step - loss: 0.4610 - accuracy: 0.7690 - val_loss: 0.4901 - val_accuracy: 0.7653\n",
            "Epoch 89/100\n",
            "111/111 [==============================] - 0s 2ms/step - loss: 0.4641 - accuracy: 0.7708 - val_loss: 0.4888 - val_accuracy: 0.7347\n",
            "Epoch 90/100\n",
            "111/111 [==============================] - 0s 2ms/step - loss: 0.4600 - accuracy: 0.7581 - val_loss: 0.4889 - val_accuracy: 0.7551\n",
            "Epoch 91/100\n",
            "111/111 [==============================] - 0s 2ms/step - loss: 0.4590 - accuracy: 0.7816 - val_loss: 0.4917 - val_accuracy: 0.7959\n",
            "Epoch 92/100\n",
            "111/111 [==============================] - 0s 2ms/step - loss: 0.4600 - accuracy: 0.7816 - val_loss: 0.4890 - val_accuracy: 0.7653\n",
            "Epoch 93/100\n",
            "111/111 [==============================] - 0s 2ms/step - loss: 0.4624 - accuracy: 0.7708 - val_loss: 0.4878 - val_accuracy: 0.7653\n",
            "Epoch 94/100\n",
            "111/111 [==============================] - 0s 2ms/step - loss: 0.4578 - accuracy: 0.7762 - val_loss: 0.4861 - val_accuracy: 0.7755\n",
            "Epoch 95/100\n",
            "111/111 [==============================] - 0s 2ms/step - loss: 0.4595 - accuracy: 0.7671 - val_loss: 0.4865 - val_accuracy: 0.7959\n",
            "Epoch 96/100\n",
            "111/111 [==============================] - 0s 3ms/step - loss: 0.4582 - accuracy: 0.7726 - val_loss: 0.4834 - val_accuracy: 0.7449\n",
            "Epoch 97/100\n",
            "111/111 [==============================] - 0s 2ms/step - loss: 0.4561 - accuracy: 0.7762 - val_loss: 0.4933 - val_accuracy: 0.8061\n",
            "Epoch 98/100\n",
            "111/111 [==============================] - 0s 2ms/step - loss: 0.4555 - accuracy: 0.7906 - val_loss: 0.4824 - val_accuracy: 0.7347\n",
            "Epoch 99/100\n",
            "111/111 [==============================] - 0s 2ms/step - loss: 0.4578 - accuracy: 0.7744 - val_loss: 0.4831 - val_accuracy: 0.7347\n",
            "Epoch 100/100\n",
            "111/111 [==============================] - 0s 2ms/step - loss: 0.4584 - accuracy: 0.7798 - val_loss: 0.4849 - val_accuracy: 0.7449\n"
          ]
        }
      ],
      "source": [
        "# Fit the DNN with your train data\n",
        "\n",
        "history = model.fit(X_train, Y_train, validation_data=(X_val, Y_val), epochs=100, batch_size=5)"
      ]
    },
    {
      "cell_type": "markdown",
      "source": [
        "#### Epoch vs Train/ Validation "
      ],
      "metadata": {
        "id": "3Nv123N_9jGS"
      }
    },
    {
      "cell_type": "code",
      "source": [
        "loss_train = history.history['accuracy']\n",
        "loss_val = history.history['val_accuracy']\n",
        "epochs = range(1,101)\n",
        "plt.plot(epochs, loss_train, 'g', label='Training accuracy')\n",
        "plt.plot(epochs, loss_val, 'b', label='validation accuracy')\n",
        "plt.title('Training and Validation accuracy')\n",
        "plt.xlabel('Epochs')\n",
        "plt.ylabel('Accuracy')\n",
        "plt.legend()\n",
        "plt.show()"
      ],
      "metadata": {
        "id": "TjemjBB191eL",
        "outputId": "61442ca6-167b-4321-b04b-67151bd512f9",
        "colab": {
          "base_uri": "https://localhost:8080/",
          "height": 295
        }
      },
      "execution_count": 15,
      "outputs": [
        {
          "output_type": "display_data",
          "data": {
            "text/plain": [
              "<Figure size 432x288 with 1 Axes>"
            ],
            "image/png": "[encoded data removed]"
          },
          "metadata": {
            "needs_background": "light"
          }
        }
      ]
    },
    {
      "cell_type": "code",
      "execution_count": 16,
      "metadata": {
        "id": "hWEVknNT-aLB",
        "outputId": "b01e50bd-aba2-436c-9c00-9dd3b25d5397",
        "colab": {
          "base_uri": "https://localhost:8080/"
        }
      },
      "outputs": [
        {
          "output_type": "stream",
          "name": "stdout",
          "text": [
            "4/4 [==============================] - 0s 5ms/step - loss: 0.5017 - accuracy: 0.7672\n",
            "Accuracy: 76.72%\n"
          ]
        }
      ],
      "source": [
        "# Evaluate the model\n",
        "scores = model.evaluate(X_test, Y_test)\n",
        "print (\"Accuracy: %.2f%%\" %(scores[1]*100))"
      ]
    },
    {
      "cell_type": "markdown",
      "source": [
        "#### Model Evaluation\n",
        "ROC vs AUC implementation using sklearn's roc_auc_score metrics"
      ],
      "metadata": {
        "id": "4jnI-_GCCMdc"
      }
    },
    {
      "cell_type": "code",
      "source": [
        "y_pred_prob_nn_1 = model.predict(X_test)"
      ],
      "metadata": {
        "id": "oBm7CanilByx"
      },
      "execution_count": 45,
      "outputs": []
    },
    {
      "cell_type": "code",
      "source": [
        "y_pred_prob_nn_1[:10]"
      ],
      "metadata": {
        "id": "24HztuhAyJPx",
        "outputId": "36e92b1b-80b9-4e9d-ff61-df3034d6b410",
        "colab": {
          "base_uri": "https://localhost:8080/"
        }
      },
      "execution_count": 46,
      "outputs": [
        {
          "output_type": "execute_result",
          "data": {
            "text/plain": [
              "array([[0.5604001 ],\n",
              "       [0.36893898],\n",
              "       [0.11501053],\n",
              "       [0.05097717],\n",
              "       [0.14265424],\n",
              "       [0.17524552],\n",
              "       [0.4865586 ],\n",
              "       [0.07613519],\n",
              "       [0.10438582],\n",
              "       [0.07139322]], dtype=float32)"
            ]
          },
          "metadata": {},
          "execution_count": 46
        }
      ]
    },
    {
      "cell_type": "code",
      "source": [
        "print(roc_auc_score(Y_test,y_pred_prob_nn_1))"
      ],
      "metadata": {
        "id": "5N4xOVGAxuwR",
        "outputId": "1d8c4fc4-b41f-4d6a-b546-c662de1d9a76",
        "colab": {
          "base_uri": "https://localhost:8080/"
        }
      },
      "execution_count": 47,
      "outputs": [
        {
          "output_type": "stream",
          "name": "stdout",
          "text": [
            "0.842439024390244\n"
          ]
        }
      ]
    },
    {
      "cell_type": "code",
      "source": [
        "def plot_roc(y_test, y_pred, model_name):\n",
        "    fpr, tpr, thr = roc_curve(y_test, y_pred)\n",
        "    fig, ax = plt.subplots(figsize=(8, 8))\n",
        "    ax.plot(fpr, tpr, 'k-')\n",
        "    ax.plot([0, 1], [0, 1], 'k--', linewidth=.5)  # roc curve for random model\n",
        "    ax.grid(True)\n",
        "    ax.set(title='ROC Curve for {} on PIMA diabetes problem'.format(model_name),\n",
        "           xlim=[-0.01, 1.01], ylim=[-0.01, 1.01])\n",
        "    \n",
        "plot_roc(Y_test, y_pred_prob_nn_1, 'NN')"
      ],
      "metadata": {
        "id": "Tk7kzJ8bx4v0",
        "outputId": "4cfd447e-d98c-4812-de91-5a322130eb96",
        "colab": {
          "base_uri": "https://localhost:8080/",
          "height": 499
        }
      },
      "execution_count": 48,
      "outputs": [
        {
          "output_type": "display_data",
          "data": {
            "text/plain": [
              "<Figure size 576x576 with 1 Axes>"
            ],
            "image/png": "[encoded data removed]"
          },
          "metadata": {
            "needs_background": "light"
          }
        }
      ]
    },
    {
      "cell_type": "code",
      "source": [
        ""
      ],
      "metadata": {
        "id": "Oigtc6kPzteU"
      },
      "execution_count": null,
      "outputs": []
    }
  ],
  "metadata": {
    "kernelspec": {
      "display_name": "Python 3",
      "language": "python",
      "name": "python3"
    },
    "language_info": {
      "codemirror_mode": {
        "name": "ipython",
        "version": 3
      },
      "file_extension": ".py",
      "mimetype": "text/x-python",
      "name": "python",
      "nbconvert_exporter": "python",
      "pygments_lexer": "ipython3",
      "version": "3.6.4"
    },
    "colab": {
      "name": "Question_1.ipynb",
      "provenance": []
    }
  },
  "nbformat": 4,
  "nbformat_minor": 0
}