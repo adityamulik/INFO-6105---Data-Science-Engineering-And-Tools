{
  "cells": [
    {
      "cell_type": "markdown",
      "metadata": {
        "id": "HVvT8kYY-aK2"
      },
      "source": [
        "1. pre-process the data by scaling/standardizing the 8 columns"
      ]
    },
    {
      "cell_type": "markdown",
      "metadata": {
        "id": "mC1aie3z-aK6"
      },
      "source": [
        "# Understand the problem and read in the data"
      ]
    },
    {
      "cell_type": "markdown",
      "metadata": {
        "id": "jTmkHlAq-aK6"
      },
      "source": [
        "This Kaggle challenge is about predicting the onset of diabetes in 5 years or less. \n",
        "Target variable is Outcome. 1 = yes, the person became diabetic in 5 years, and 0 = No, \n",
        "the person did not. This is a binary classification problem. Please check out the Kaggle\n",
        "link here to see feature \n",
        "details - https://www.kaggle.com/uciml/pima-indians-diabetes-database/data"
      ]
    },
    {
      "cell_type": "code",
      "execution_count": 4,
      "metadata": {
        "id": "g7QEMimr-aK7"
      },
      "outputs": [],
      "source": [
        "'''Import necessary packages'''\n",
        "from keras.models import Sequential\n",
        "from keras.layers import Dense\n",
        "from sklearn.model_selection import train_test_split\n",
        "import seaborn as sns\n",
        "import numpy as np\n",
        "import pandas as pd\n",
        "from google.colab import drive\n",
        "from sklearn.preprocessing import MinMaxScaler\n",
        "from sklearn.preprocessing import StandardScaler\n",
        "from sklearn.preprocessing import Normalizer\n",
        "from sklearn.preprocessing import Binarizer\n",
        "\n",
        "%matplotlib inline"
      ]
    },
    {
      "cell_type": "code",
      "execution_count": 2,
      "metadata": {
        "id": "papbEjf6-aK8",
        "outputId": "fd22a5d2-1810-44ce-9e23-88b84b488b70",
        "colab": {
          "base_uri": "https://localhost:8080/"
        }
      },
      "outputs": [
        {
          "output_type": "stream",
          "name": "stdout",
          "text": [
            "Mounted at /content/drive\n"
          ]
        }
      ],
      "source": [
        "# Load Data from Google Drive\n",
        "drive.mount('/content/drive')\n",
        "data = open('/content/drive/MyDrive/dataset_INFO6105/pima-indians-diabetes.data')"
      ]
    },
    {
      "cell_type": "code",
      "execution_count": 3,
      "metadata": {
        "id": "QqMTPXRe-aK-",
        "outputId": "4d8a2726-d986-4784-838a-3094a1e31948",
        "colab": {
          "base_uri": "https://localhost:8080/",
          "height": 130
        }
      },
      "outputs": [
        {
          "output_type": "stream",
          "name": "stdout",
          "text": [
            "(768, 9)\n"
          ]
        },
        {
          "output_type": "execute_result",
          "data": {
            "text/plain": [
              "   0    1   2   3  4     5      6   7  8\n",
              "0  6  148  72  35  0  33.6  0.627  50  1\n",
              "1  1   85  66  29  0  26.6  0.351  31  0"
            ],
            "text/html": [
              "\n",
              "  <div id=\"df-d538ad38-482a-43dc-8516-9fb5c6ad311a\">\n",
              "    <div class=\"colab-df-container\">\n",
              "      <div>\n",
              "<style scoped>\n",
              "    .dataframe tbody tr th:only-of-type {\n",
              "        vertical-align: middle;\n",
              "    }\n",
              "\n",
              "    .dataframe tbody tr th {\n",
              "        vertical-align: top;\n",
              "    }\n",
              "\n",
              "    .dataframe thead th {\n",
              "        text-align: right;\n",
              "    }\n",
              "</style>\n",
              "<table border=\"1\" class=\"dataframe\">\n",
              "  <thead>\n",
              "    <tr style=\"text-align: right;\">\n",
              "      <th></th>\n",
              "      <th>0</th>\n",
              "      <th>1</th>\n",
              "      <th>2</th>\n",
              "      <th>3</th>\n",
              "      <th>4</th>\n",
              "      <th>5</th>\n",
              "      <th>6</th>\n",
              "      <th>7</th>\n",
              "      <th>8</th>\n",
              "    </tr>\n",
              "  </thead>\n",
              "  <tbody>\n",
              "    <tr>\n",
              "      <th>0</th>\n",
              "      <td>6</td>\n",
              "      <td>148</td>\n",
              "      <td>72</td>\n",
              "      <td>35</td>\n",
              "      <td>0</td>\n",
              "      <td>33.6</td>\n",
              "      <td>0.627</td>\n",
              "      <td>50</td>\n",
              "      <td>1</td>\n",
              "    </tr>\n",
              "    <tr>\n",
              "      <th>1</th>\n",
              "      <td>1</td>\n",
              "      <td>85</td>\n",
              "      <td>66</td>\n",
              "      <td>29</td>\n",
              "      <td>0</td>\n",
              "      <td>26.6</td>\n",
              "      <td>0.351</td>\n",
              "      <td>31</td>\n",
              "      <td>0</td>\n",
              "    </tr>\n",
              "  </tbody>\n",
              "</table>\n",
              "</div>\n",
              "      <button class=\"colab-df-convert\" onclick=\"convertToInteractive('df-d538ad38-482a-43dc-8516-9fb5c6ad311a')\"\n",
              "              title=\"Convert this dataframe to an interactive table.\"\n",
              "              style=\"display:none;\">\n",
              "        \n",
              "  <svg xmlns=\"http://www.w3.org/2000/svg\" height=\"24px\"viewBox=\"0 0 24 24\"\n",
              "       width=\"24px\">\n",
              "    <path d=\"M0 0h24v24H0V0z\" fill=\"none\"/>\n",
              "    <path d=\"M18.56 5.44l.94 2.06.94-2.06 2.06-.94-2.06-.94-.94-2.06-.94 2.06-2.06.94zm-11 1L8.5 8.5l.94-2.06 2.06-.94-2.06-.94L8.5 2.5l-.94 2.06-2.06.94zm10 10l.94 2.06.94-2.06 2.06-.94-2.06-.94-.94-2.06-.94 2.06-2.06.94z\"/><path d=\"M17.41 7.96l-1.37-1.37c-.4-.4-.92-.59-1.43-.59-.52 0-1.04.2-1.43.59L10.3 9.45l-7.72 7.72c-.78.78-.78 2.05 0 2.83L4 21.41c.39.39.9.59 1.41.59.51 0 1.02-.2 1.41-.59l7.78-7.78 2.81-2.81c.8-.78.8-2.07 0-2.86zM5.41 20L4 18.59l7.72-7.72 1.47 1.35L5.41 20z\"/>\n",
              "  </svg>\n",
              "      </button>\n",
              "      \n",
              "  <style>\n",
              "    .colab-df-container {\n",
              "      display:flex;\n",
              "      flex-wrap:wrap;\n",
              "      gap: 12px;\n",
              "    }\n",
              "\n",
              "    .colab-df-convert {\n",
              "      background-color: #E8F0FE;\n",
              "      border: none;\n",
              "      border-radius: 50%;\n",
              "      cursor: pointer;\n",
              "      display: none;\n",
              "      fill: #1967D2;\n",
              "      height: 32px;\n",
              "      padding: 0 0 0 0;\n",
              "      width: 32px;\n",
              "    }\n",
              "\n",
              "    .colab-df-convert:hover {\n",
              "      background-color: #E2EBFA;\n",
              "      box-shadow: 0px 1px 2px rgba(60, 64, 67, 0.3), 0px 1px 3px 1px rgba(60, 64, 67, 0.15);\n",
              "      fill: #174EA6;\n",
              "    }\n",
              "\n",
              "    [theme=dark] .colab-df-convert {\n",
              "      background-color: #3B4455;\n",
              "      fill: #D2E3FC;\n",
              "    }\n",
              "\n",
              "    [theme=dark] .colab-df-convert:hover {\n",
              "      background-color: #434B5C;\n",
              "      box-shadow: 0px 1px 3px 1px rgba(0, 0, 0, 0.15);\n",
              "      filter: drop-shadow(0px 1px 2px rgba(0, 0, 0, 0.3));\n",
              "      fill: #FFFFFF;\n",
              "    }\n",
              "  </style>\n",
              "\n",
              "      <script>\n",
              "        const buttonEl =\n",
              "          document.querySelector('#df-d538ad38-482a-43dc-8516-9fb5c6ad311a button.colab-df-convert');\n",
              "        buttonEl.style.display =\n",
              "          google.colab.kernel.accessAllowed ? 'block' : 'none';\n",
              "\n",
              "        async function convertToInteractive(key) {\n",
              "          const element = document.querySelector('#df-d538ad38-482a-43dc-8516-9fb5c6ad311a');\n",
              "          const dataTable =\n",
              "            await google.colab.kernel.invokeFunction('convertToInteractive',\n",
              "                                                     [key], {});\n",
              "          if (!dataTable) return;\n",
              "\n",
              "          const docLinkHtml = 'Like what you see? Visit the ' +\n",
              "            '<a target=\"_blank\" href=https://colab.research.google.com/notebooks/data_table.ipynb>data table notebook</a>'\n",
              "            + ' to learn more about interactive tables.';\n",
              "          element.innerHTML = '';\n",
              "          dataTable['output_type'] = 'display_data';\n",
              "          await google.colab.output.renderOutput(dataTable, element);\n",
              "          const docLink = document.createElement('div');\n",
              "          docLink.innerHTML = docLinkHtml;\n",
              "          element.appendChild(docLink);\n",
              "        }\n",
              "      </script>\n",
              "    </div>\n",
              "  </div>\n",
              "  "
            ]
          },
          "metadata": {},
          "execution_count": 3
        }
      ],
      "source": [
        "df = pd.read_csv(data,header = None)\n",
        "print(df.shape)\n",
        "df.head(2)"
      ]
    },
    {
      "cell_type": "markdown",
      "metadata": {
        "id": "3cOh6yDw-aK-"
      },
      "source": [
        "# Pre-process data, train-test split"
      ]
    },
    {
      "cell_type": "code",
      "execution_count": 5,
      "metadata": {
        "id": "OU7-9EgX-aK_"
      },
      "outputs": [],
      "source": [
        "#Separate out X and Y\n",
        "\n",
        "X = df.iloc[:, :8]\n",
        "Y = df.iloc[:, 8:9]"
      ]
    },
    {
      "cell_type": "markdown",
      "source": [
        "#### Various other preprocessing techniques which I've commented. I've just used the MinMaxScaler for the implementation\n",
        "\n",
        "1. MinMaxScaler\n",
        "2. Normalizer\n",
        "3. Binarizer\n",
        "4. StandardScaler"
      ],
      "metadata": {
        "id": "woYC_Z0nFE2D"
      }
    },
    {
      "cell_type": "code",
      "source": [
        "# #StandardScaler\n",
        "# transforms = StandardScaler()\n",
        "# standardScale_X = transforms.fit_transform(X)\n",
        "# print(standardScale_X)\n",
        "\n",
        "# transforms = Normalizer()\n",
        "# normalizer_x = transforms.fit_transform(X)\n",
        "# print(normalizer_x)\n",
        "\n",
        "# transforms = Binarizer(threshold=0.5)\n",
        "# binarizer_x = transforms.fit_transform(X)\n",
        "# print(binarizer_x)"
      ],
      "metadata": {
        "id": "OoopQ0ZGFNQH"
      },
      "execution_count": null,
      "outputs": []
    },
    {
      "cell_type": "code",
      "source": [
        "#scale Features from 0 to 1\n",
        "transforms = MinMaxScaler(feature_range=(0,1))\n",
        "scaler_X =  transforms.fit_transform(X)\n",
        "print(scaler_X)"
      ],
      "metadata": {
        "id": "6OYFjCFJBCYj",
        "outputId": "bc8cbba6-6590-4a44-97ee-724fc95b7723",
        "colab": {
          "base_uri": "https://localhost:8080/"
        }
      },
      "execution_count": 6,
      "outputs": [
        {
          "output_type": "stream",
          "name": "stdout",
          "text": [
            "[[0.35294118 0.74371859 0.59016393 ... 0.50074516 0.23441503 0.48333333]\n",
            " [0.05882353 0.42713568 0.54098361 ... 0.39642325 0.11656704 0.16666667]\n",
            " [0.47058824 0.91959799 0.52459016 ... 0.34724292 0.25362938 0.18333333]\n",
            " ...\n",
            " [0.29411765 0.6080402  0.59016393 ... 0.390462   0.07130658 0.15      ]\n",
            " [0.05882353 0.63316583 0.49180328 ... 0.4485842  0.11571307 0.43333333]\n",
            " [0.05882353 0.46733668 0.57377049 ... 0.45305514 0.10119556 0.03333333]]\n"
          ]
        }
      ]
    },
    {
      "cell_type": "code",
      "execution_count": 7,
      "metadata": {
        "id": "j7rFixE1-aK_",
        "outputId": "b83472c7-9122-4660-d8a3-08155bd0acc2",
        "colab": {
          "base_uri": "https://localhost:8080/"
        }
      },
      "outputs": [
        {
          "output_type": "stream",
          "name": "stdout",
          "text": [
            "(514, 8) (254, 8) (514, 1) (254, 1)\n"
          ]
        }
      ],
      "source": [
        "# Train- Test Split\n",
        "(X_train, X_test, Y_train, Y_test) = train_test_split(scaler_X, Y, test_size=0.33, random_state=1)\n",
        "print(X_train.shape,X_test.shape,Y_train.shape,Y_test.shape)"
      ]
    },
    {
      "cell_type": "markdown",
      "metadata": {
        "id": "QQzYPUpl-aLA"
      },
      "source": [
        "# Build and compile a deep learning model"
      ]
    },
    {
      "cell_type": "code",
      "execution_count": 9,
      "metadata": {
        "id": "i6nBxp5V-aLA"
      },
      "outputs": [],
      "source": [
        "# Build the deep neural network\n",
        "model = Sequential()\n",
        "model.add(Dense(10, input_dim=8, activation='relu'))\n",
        "model.add(Dense(6, activation='relu'))\n",
        "model.add(Dense(1, activation='sigmoid'))"
      ]
    },
    {
      "cell_type": "code",
      "execution_count": 10,
      "metadata": {
        "id": "Nvv9QPVU-aLB"
      },
      "outputs": [],
      "source": [
        "# Compile the DNN\n",
        "\n",
        "model.compile(loss='binary_crossentropy', optimizer='adam', metrics=['accuracy'])"
      ]
    },
    {
      "cell_type": "code",
      "execution_count": 12,
      "metadata": {
        "id": "FhllulpQ-aLB",
        "outputId": "47f1268f-8271-4a38-e6c8-c3fcea4015bc",
        "colab": {
          "base_uri": "https://localhost:8080/"
        }
      },
      "outputs": [
        {
          "output_type": "stream",
          "name": "stdout",
          "text": [
            "Epoch 1/100\n",
            "103/103 [==============================] - 2s 7ms/step - loss: 0.6566 - accuracy: 0.6576 - val_loss: 0.6712 - val_accuracy: 0.6378\n",
            "Epoch 2/100\n",
            "103/103 [==============================] - 1s 5ms/step - loss: 0.6466 - accuracy: 0.6556 - val_loss: 0.6594 - val_accuracy: 0.6260\n",
            "Epoch 3/100\n",
            "103/103 [==============================] - 1s 5ms/step - loss: 0.6387 - accuracy: 0.6556 - val_loss: 0.6505 - val_accuracy: 0.6299\n",
            "Epoch 4/100\n",
            "103/103 [==============================] - 1s 6ms/step - loss: 0.6309 - accuracy: 0.6770 - val_loss: 0.6424 - val_accuracy: 0.6299\n",
            "Epoch 5/100\n",
            "103/103 [==============================] - 1s 6ms/step - loss: 0.6216 - accuracy: 0.6770 - val_loss: 0.6381 - val_accuracy: 0.6339\n",
            "Epoch 6/100\n",
            "103/103 [==============================] - 1s 5ms/step - loss: 0.6123 - accuracy: 0.6712 - val_loss: 0.6243 - val_accuracy: 0.6575\n",
            "Epoch 7/100\n",
            "103/103 [==============================] - 1s 6ms/step - loss: 0.6050 - accuracy: 0.6809 - val_loss: 0.6159 - val_accuracy: 0.6614\n",
            "Epoch 8/100\n",
            "103/103 [==============================] - 0s 4ms/step - loss: 0.5965 - accuracy: 0.6887 - val_loss: 0.6113 - val_accuracy: 0.6496\n",
            "Epoch 9/100\n",
            "103/103 [==============================] - 1s 6ms/step - loss: 0.5881 - accuracy: 0.7004 - val_loss: 0.6004 - val_accuracy: 0.6614\n",
            "Epoch 10/100\n",
            "103/103 [==============================] - 1s 5ms/step - loss: 0.5795 - accuracy: 0.7198 - val_loss: 0.6011 - val_accuracy: 0.6535\n",
            "Epoch 11/100\n",
            "103/103 [==============================] - 1s 6ms/step - loss: 0.5736 - accuracy: 0.7023 - val_loss: 0.5808 - val_accuracy: 0.7087\n",
            "Epoch 12/100\n",
            "103/103 [==============================] - 1s 5ms/step - loss: 0.5646 - accuracy: 0.7140 - val_loss: 0.5729 - val_accuracy: 0.7126\n",
            "Epoch 13/100\n",
            "103/103 [==============================] - 1s 5ms/step - loss: 0.5574 - accuracy: 0.7315 - val_loss: 0.5656 - val_accuracy: 0.7205\n",
            "Epoch 14/100\n",
            "103/103 [==============================] - 1s 5ms/step - loss: 0.5501 - accuracy: 0.7237 - val_loss: 0.5587 - val_accuracy: 0.7244\n",
            "Epoch 15/100\n",
            "103/103 [==============================] - 0s 4ms/step - loss: 0.5451 - accuracy: 0.7218 - val_loss: 0.5542 - val_accuracy: 0.7126\n",
            "Epoch 16/100\n",
            "103/103 [==============================] - 0s 4ms/step - loss: 0.5418 - accuracy: 0.7198 - val_loss: 0.5475 - val_accuracy: 0.7244\n",
            "Epoch 17/100\n",
            "103/103 [==============================] - 0s 5ms/step - loss: 0.5357 - accuracy: 0.7198 - val_loss: 0.5420 - val_accuracy: 0.7323\n",
            "Epoch 18/100\n",
            "103/103 [==============================] - 0s 3ms/step - loss: 0.5295 - accuracy: 0.7276 - val_loss: 0.5456 - val_accuracy: 0.7165\n",
            "Epoch 19/100\n",
            "103/103 [==============================] - 0s 2ms/step - loss: 0.5246 - accuracy: 0.7432 - val_loss: 0.5420 - val_accuracy: 0.7165\n",
            "Epoch 20/100\n",
            "103/103 [==============================] - 0s 2ms/step - loss: 0.5225 - accuracy: 0.7374 - val_loss: 0.5365 - val_accuracy: 0.7323\n",
            "Epoch 21/100\n",
            "103/103 [==============================] - 0s 2ms/step - loss: 0.5182 - accuracy: 0.7412 - val_loss: 0.5288 - val_accuracy: 0.7283\n",
            "Epoch 22/100\n",
            "103/103 [==============================] - 0s 2ms/step - loss: 0.5149 - accuracy: 0.7432 - val_loss: 0.5227 - val_accuracy: 0.7362\n",
            "Epoch 23/100\n",
            "103/103 [==============================] - 0s 3ms/step - loss: 0.5130 - accuracy: 0.7451 - val_loss: 0.5311 - val_accuracy: 0.7244\n",
            "Epoch 24/100\n",
            "103/103 [==============================] - 0s 2ms/step - loss: 0.5129 - accuracy: 0.7374 - val_loss: 0.5182 - val_accuracy: 0.7520\n",
            "Epoch 25/100\n",
            "103/103 [==============================] - 0s 2ms/step - loss: 0.5056 - accuracy: 0.7412 - val_loss: 0.5093 - val_accuracy: 0.7441\n",
            "Epoch 26/100\n",
            "103/103 [==============================] - 0s 2ms/step - loss: 0.5050 - accuracy: 0.7354 - val_loss: 0.5074 - val_accuracy: 0.7598\n",
            "Epoch 27/100\n",
            "103/103 [==============================] - 0s 2ms/step - loss: 0.5015 - accuracy: 0.7412 - val_loss: 0.5077 - val_accuracy: 0.7598\n",
            "Epoch 28/100\n",
            "103/103 [==============================] - 0s 2ms/step - loss: 0.4999 - accuracy: 0.7393 - val_loss: 0.5049 - val_accuracy: 0.7598\n",
            "Epoch 29/100\n",
            "103/103 [==============================] - 0s 2ms/step - loss: 0.4956 - accuracy: 0.7607 - val_loss: 0.4970 - val_accuracy: 0.7677\n",
            "Epoch 30/100\n",
            "103/103 [==============================] - 0s 2ms/step - loss: 0.4939 - accuracy: 0.7471 - val_loss: 0.4934 - val_accuracy: 0.7638\n",
            "Epoch 31/100\n",
            "103/103 [==============================] - 0s 2ms/step - loss: 0.4944 - accuracy: 0.7568 - val_loss: 0.4916 - val_accuracy: 0.7717\n",
            "Epoch 32/100\n",
            "103/103 [==============================] - 0s 2ms/step - loss: 0.4924 - accuracy: 0.7607 - val_loss: 0.4883 - val_accuracy: 0.7677\n",
            "Epoch 33/100\n",
            "103/103 [==============================] - 0s 2ms/step - loss: 0.4891 - accuracy: 0.7588 - val_loss: 0.4880 - val_accuracy: 0.7756\n",
            "Epoch 34/100\n",
            "103/103 [==============================] - 0s 3ms/step - loss: 0.4898 - accuracy: 0.7451 - val_loss: 0.4844 - val_accuracy: 0.7717\n",
            "Epoch 35/100\n",
            "103/103 [==============================] - 0s 2ms/step - loss: 0.4824 - accuracy: 0.7626 - val_loss: 0.4911 - val_accuracy: 0.7638\n",
            "Epoch 36/100\n",
            "103/103 [==============================] - 0s 2ms/step - loss: 0.4823 - accuracy: 0.7549 - val_loss: 0.4940 - val_accuracy: 0.7677\n",
            "Epoch 37/100\n",
            "103/103 [==============================] - 0s 2ms/step - loss: 0.4829 - accuracy: 0.7646 - val_loss: 0.4842 - val_accuracy: 0.7677\n",
            "Epoch 38/100\n",
            "103/103 [==============================] - 0s 3ms/step - loss: 0.4794 - accuracy: 0.7665 - val_loss: 0.4771 - val_accuracy: 0.7835\n",
            "Epoch 39/100\n",
            "103/103 [==============================] - 0s 3ms/step - loss: 0.4791 - accuracy: 0.7685 - val_loss: 0.4777 - val_accuracy: 0.7795\n",
            "Epoch 40/100\n",
            "103/103 [==============================] - 0s 2ms/step - loss: 0.4793 - accuracy: 0.7607 - val_loss: 0.4741 - val_accuracy: 0.7756\n",
            "Epoch 41/100\n",
            "103/103 [==============================] - 0s 2ms/step - loss: 0.4766 - accuracy: 0.7646 - val_loss: 0.4820 - val_accuracy: 0.7677\n",
            "Epoch 42/100\n",
            "103/103 [==============================] - 0s 2ms/step - loss: 0.4777 - accuracy: 0.7607 - val_loss: 0.4794 - val_accuracy: 0.7756\n",
            "Epoch 43/100\n",
            "103/103 [==============================] - 0s 3ms/step - loss: 0.4746 - accuracy: 0.7685 - val_loss: 0.4717 - val_accuracy: 0.7874\n",
            "Epoch 44/100\n",
            "103/103 [==============================] - 0s 2ms/step - loss: 0.4739 - accuracy: 0.7704 - val_loss: 0.4698 - val_accuracy: 0.7835\n",
            "Epoch 45/100\n",
            "103/103 [==============================] - 0s 3ms/step - loss: 0.4713 - accuracy: 0.7685 - val_loss: 0.4691 - val_accuracy: 0.7835\n",
            "Epoch 46/100\n",
            "103/103 [==============================] - 0s 2ms/step - loss: 0.4739 - accuracy: 0.7626 - val_loss: 0.4688 - val_accuracy: 0.7874\n",
            "Epoch 47/100\n",
            "103/103 [==============================] - 0s 2ms/step - loss: 0.4698 - accuracy: 0.7588 - val_loss: 0.4678 - val_accuracy: 0.7795\n",
            "Epoch 48/100\n",
            "103/103 [==============================] - 0s 2ms/step - loss: 0.4703 - accuracy: 0.7549 - val_loss: 0.4749 - val_accuracy: 0.7835\n",
            "Epoch 49/100\n",
            "103/103 [==============================] - 0s 2ms/step - loss: 0.4722 - accuracy: 0.7685 - val_loss: 0.4676 - val_accuracy: 0.7835\n",
            "Epoch 50/100\n",
            "103/103 [==============================] - 0s 2ms/step - loss: 0.4697 - accuracy: 0.7763 - val_loss: 0.4656 - val_accuracy: 0.7913\n",
            "Epoch 51/100\n",
            "103/103 [==============================] - 0s 2ms/step - loss: 0.4689 - accuracy: 0.7665 - val_loss: 0.4657 - val_accuracy: 0.7913\n",
            "Epoch 52/100\n",
            "103/103 [==============================] - 0s 2ms/step - loss: 0.4703 - accuracy: 0.7802 - val_loss: 0.4638 - val_accuracy: 0.7913\n",
            "Epoch 53/100\n",
            "103/103 [==============================] - 0s 2ms/step - loss: 0.4675 - accuracy: 0.7665 - val_loss: 0.4789 - val_accuracy: 0.7756\n",
            "Epoch 54/100\n",
            "103/103 [==============================] - 0s 2ms/step - loss: 0.4678 - accuracy: 0.7685 - val_loss: 0.4714 - val_accuracy: 0.7835\n",
            "Epoch 55/100\n",
            "103/103 [==============================] - 0s 2ms/step - loss: 0.4663 - accuracy: 0.7782 - val_loss: 0.4627 - val_accuracy: 0.7953\n",
            "Epoch 56/100\n",
            "103/103 [==============================] - 0s 2ms/step - loss: 0.4664 - accuracy: 0.7802 - val_loss: 0.4642 - val_accuracy: 0.7913\n",
            "Epoch 57/100\n",
            "103/103 [==============================] - 0s 2ms/step - loss: 0.4668 - accuracy: 0.7626 - val_loss: 0.4617 - val_accuracy: 0.7835\n",
            "Epoch 58/100\n",
            "103/103 [==============================] - 0s 2ms/step - loss: 0.4669 - accuracy: 0.7665 - val_loss: 0.4606 - val_accuracy: 0.7874\n",
            "Epoch 59/100\n",
            "103/103 [==============================] - 0s 2ms/step - loss: 0.4640 - accuracy: 0.7724 - val_loss: 0.4603 - val_accuracy: 0.7913\n",
            "Epoch 60/100\n",
            "103/103 [==============================] - 0s 2ms/step - loss: 0.4641 - accuracy: 0.7704 - val_loss: 0.4609 - val_accuracy: 0.7913\n",
            "Epoch 61/100\n",
            "103/103 [==============================] - 0s 2ms/step - loss: 0.4660 - accuracy: 0.7685 - val_loss: 0.4623 - val_accuracy: 0.7992\n",
            "Epoch 62/100\n",
            "103/103 [==============================] - 0s 2ms/step - loss: 0.4647 - accuracy: 0.7763 - val_loss: 0.4621 - val_accuracy: 0.7953\n",
            "Epoch 63/100\n",
            "103/103 [==============================] - 0s 2ms/step - loss: 0.4652 - accuracy: 0.7724 - val_loss: 0.4691 - val_accuracy: 0.7913\n",
            "Epoch 64/100\n",
            "103/103 [==============================] - 0s 2ms/step - loss: 0.4638 - accuracy: 0.7704 - val_loss: 0.4640 - val_accuracy: 0.7874\n",
            "Epoch 65/100\n",
            "103/103 [==============================] - 0s 2ms/step - loss: 0.4621 - accuracy: 0.7646 - val_loss: 0.4675 - val_accuracy: 0.7913\n",
            "Epoch 66/100\n",
            "103/103 [==============================] - 0s 2ms/step - loss: 0.4644 - accuracy: 0.7724 - val_loss: 0.4611 - val_accuracy: 0.7953\n",
            "Epoch 67/100\n",
            "103/103 [==============================] - 0s 2ms/step - loss: 0.4621 - accuracy: 0.7724 - val_loss: 0.4586 - val_accuracy: 0.7874\n",
            "Epoch 68/100\n",
            "103/103 [==============================] - 0s 2ms/step - loss: 0.4617 - accuracy: 0.7743 - val_loss: 0.4727 - val_accuracy: 0.7874\n",
            "Epoch 69/100\n",
            "103/103 [==============================] - 0s 2ms/step - loss: 0.4636 - accuracy: 0.7743 - val_loss: 0.4701 - val_accuracy: 0.7874\n",
            "Epoch 70/100\n",
            "103/103 [==============================] - 0s 2ms/step - loss: 0.4625 - accuracy: 0.7665 - val_loss: 0.4563 - val_accuracy: 0.7913\n",
            "Epoch 71/100\n",
            "103/103 [==============================] - 0s 2ms/step - loss: 0.4588 - accuracy: 0.7665 - val_loss: 0.4616 - val_accuracy: 0.8031\n",
            "Epoch 72/100\n",
            "103/103 [==============================] - 0s 2ms/step - loss: 0.4593 - accuracy: 0.7704 - val_loss: 0.4665 - val_accuracy: 0.7913\n",
            "Epoch 73/100\n",
            "103/103 [==============================] - 0s 2ms/step - loss: 0.4636 - accuracy: 0.7646 - val_loss: 0.4557 - val_accuracy: 0.7953\n",
            "Epoch 74/100\n",
            "103/103 [==============================] - 0s 3ms/step - loss: 0.4608 - accuracy: 0.7685 - val_loss: 0.4538 - val_accuracy: 0.7953\n",
            "Epoch 75/100\n",
            "103/103 [==============================] - 0s 2ms/step - loss: 0.4599 - accuracy: 0.7743 - val_loss: 0.4552 - val_accuracy: 0.7953\n",
            "Epoch 76/100\n",
            "103/103 [==============================] - 0s 2ms/step - loss: 0.4615 - accuracy: 0.7665 - val_loss: 0.4580 - val_accuracy: 0.8031\n",
            "Epoch 77/100\n",
            "103/103 [==============================] - 0s 2ms/step - loss: 0.4622 - accuracy: 0.7724 - val_loss: 0.4527 - val_accuracy: 0.7953\n",
            "Epoch 78/100\n",
            "103/103 [==============================] - 0s 3ms/step - loss: 0.4612 - accuracy: 0.7743 - val_loss: 0.4537 - val_accuracy: 0.7992\n",
            "Epoch 79/100\n",
            "103/103 [==============================] - 0s 3ms/step - loss: 0.4582 - accuracy: 0.7685 - val_loss: 0.4644 - val_accuracy: 0.7953\n",
            "Epoch 80/100\n",
            "103/103 [==============================] - 0s 2ms/step - loss: 0.4597 - accuracy: 0.7588 - val_loss: 0.4602 - val_accuracy: 0.7953\n",
            "Epoch 81/100\n",
            "103/103 [==============================] - 0s 2ms/step - loss: 0.4590 - accuracy: 0.7743 - val_loss: 0.4527 - val_accuracy: 0.7992\n",
            "Epoch 82/100\n",
            "103/103 [==============================] - 0s 2ms/step - loss: 0.4594 - accuracy: 0.7802 - val_loss: 0.4634 - val_accuracy: 0.7953\n",
            "Epoch 83/100\n",
            "103/103 [==============================] - 0s 2ms/step - loss: 0.4629 - accuracy: 0.7763 - val_loss: 0.4575 - val_accuracy: 0.7992\n",
            "Epoch 84/100\n",
            "103/103 [==============================] - 0s 2ms/step - loss: 0.4605 - accuracy: 0.7743 - val_loss: 0.4606 - val_accuracy: 0.7992\n",
            "Epoch 85/100\n",
            "103/103 [==============================] - 0s 3ms/step - loss: 0.4597 - accuracy: 0.7704 - val_loss: 0.4566 - val_accuracy: 0.7992\n",
            "Epoch 86/100\n",
            "103/103 [==============================] - 0s 2ms/step - loss: 0.4568 - accuracy: 0.7743 - val_loss: 0.4577 - val_accuracy: 0.7992\n",
            "Epoch 87/100\n",
            "103/103 [==============================] - 0s 3ms/step - loss: 0.4589 - accuracy: 0.7802 - val_loss: 0.4529 - val_accuracy: 0.7953\n",
            "Epoch 88/100\n",
            "103/103 [==============================] - 0s 2ms/step - loss: 0.4594 - accuracy: 0.7685 - val_loss: 0.4526 - val_accuracy: 0.8031\n",
            "Epoch 89/100\n",
            "103/103 [==============================] - 0s 2ms/step - loss: 0.4568 - accuracy: 0.7763 - val_loss: 0.4585 - val_accuracy: 0.7992\n",
            "Epoch 90/100\n",
            "103/103 [==============================] - 0s 2ms/step - loss: 0.4590 - accuracy: 0.7665 - val_loss: 0.4630 - val_accuracy: 0.7992\n",
            "Epoch 91/100\n",
            "103/103 [==============================] - 0s 3ms/step - loss: 0.4586 - accuracy: 0.7782 - val_loss: 0.4579 - val_accuracy: 0.7953\n",
            "Epoch 92/100\n",
            "103/103 [==============================] - 0s 2ms/step - loss: 0.4568 - accuracy: 0.7743 - val_loss: 0.4546 - val_accuracy: 0.8031\n",
            "Epoch 93/100\n",
            "103/103 [==============================] - 0s 2ms/step - loss: 0.4571 - accuracy: 0.7763 - val_loss: 0.4513 - val_accuracy: 0.8031\n",
            "Epoch 94/100\n",
            "103/103 [==============================] - 0s 2ms/step - loss: 0.4583 - accuracy: 0.7821 - val_loss: 0.4589 - val_accuracy: 0.7992\n",
            "Epoch 95/100\n",
            "103/103 [==============================] - 0s 2ms/step - loss: 0.4578 - accuracy: 0.7743 - val_loss: 0.4551 - val_accuracy: 0.7992\n",
            "Epoch 96/100\n",
            "103/103 [==============================] - 0s 2ms/step - loss: 0.4572 - accuracy: 0.7743 - val_loss: 0.4581 - val_accuracy: 0.8031\n",
            "Epoch 97/100\n",
            "103/103 [==============================] - 0s 3ms/step - loss: 0.4539 - accuracy: 0.7879 - val_loss: 0.4548 - val_accuracy: 0.7992\n",
            "Epoch 98/100\n",
            "103/103 [==============================] - 0s 2ms/step - loss: 0.4559 - accuracy: 0.7763 - val_loss: 0.4508 - val_accuracy: 0.8031\n",
            "Epoch 99/100\n",
            "103/103 [==============================] - 0s 2ms/step - loss: 0.4570 - accuracy: 0.7763 - val_loss: 0.4654 - val_accuracy: 0.7913\n",
            "Epoch 100/100\n",
            "103/103 [==============================] - 0s 2ms/step - loss: 0.4566 - accuracy: 0.7802 - val_loss: 0.4513 - val_accuracy: 0.8110\n"
          ]
        },
        {
          "output_type": "execute_result",
          "data": {
            "text/plain": [
              "<keras.callbacks.History at 0x7f96ab7f1690>"
            ]
          },
          "metadata": {},
          "execution_count": 12
        }
      ],
      "source": [
        "# Fit the DNN with your train data\n",
        "\n",
        "model.fit(X_train, Y_train, validation_data=(X_test, Y_test), epochs=100, batch_size=5)"
      ]
    },
    {
      "cell_type": "code",
      "execution_count": 13,
      "metadata": {
        "id": "hWEVknNT-aLB",
        "outputId": "b9d7b34d-6b90-4a41-de86-2b4def2fba19",
        "colab": {
          "base_uri": "https://localhost:8080/"
        }
      },
      "outputs": [
        {
          "output_type": "stream",
          "name": "stdout",
          "text": [
            "8/8 [==============================] - 0s 4ms/step - loss: 0.4513 - accuracy: 0.8110\n",
            "Accuracy: 81.10%\n"
          ]
        }
      ],
      "source": [
        "# Evaluate the model\n",
        "scores = model.evaluate(X_test, Y_test)\n",
        "print (\"Accuracy: %.2f%%\" %(scores[1]*100))"
      ]
    },
    {
      "cell_type": "code",
      "source": [
        ""
      ],
      "metadata": {
        "id": "4jnI-_GCCMdc"
      },
      "execution_count": null,
      "outputs": []
    }
  ],
  "metadata": {
    "kernelspec": {
      "display_name": "Python 3",
      "language": "python",
      "name": "python3"
    },
    "language_info": {
      "codemirror_mode": {
        "name": "ipython",
        "version": 3
      },
      "file_extension": ".py",
      "mimetype": "text/x-python",
      "name": "python",
      "nbconvert_exporter": "python",
      "pygments_lexer": "ipython3",
      "version": "3.6.4"
    },
    "colab": {
      "name": "Question_1.ipynb",
      "provenance": []
    }
  },
  "nbformat": 4,
  "nbformat_minor": 0
}