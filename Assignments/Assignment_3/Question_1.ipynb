{
  "cells": [
    {
      "cell_type": "markdown",
      "metadata": {
        "id": "HVvT8kYY-aK2"
      },
      "source": [
        "Questions\n",
        "\n",
        "1. Pre-process the data by scaling/standardizing the 8 columns\n",
        "2. Split the entire dataset into three parts instead of two as we currently do. One is train, two is validation, and then a test set. Build DNN model with train data, tune hyper-parameters with validation data, and finally evaluate performance on the test data\n",
        "3. Make Epoch versus train set accuracy, and validation set accuracy\n",
        "4. Report results using nice ROC curves, report AUC values. Feel free to use code from our course, or from elsewhere\n",
        "5. How would you increase dataset size? Try out at least two approaches and re-evaluate the model performance on this new and augmented dataset."
      ]
    },
    {
      "cell_type": "markdown",
      "metadata": {
        "id": "mC1aie3z-aK6"
      },
      "source": [
        "# Understand the problem and read in the data"
      ]
    },
    {
      "cell_type": "markdown",
      "metadata": {
        "id": "jTmkHlAq-aK6"
      },
      "source": [
        "This Kaggle challenge is about predicting the onset of diabetes in 5 years or less. \n",
        "Target variable is Outcome. 1 = yes, the person became diabetic in 5 years, and 0 = No, \n",
        "the person did not. This is a binary classification problem. Please check out the Kaggle\n",
        "link here to see feature \n",
        "details - https://www.kaggle.com/uciml/pima-indians-diabetes-database/data"
      ]
    },
    {
      "cell_type": "code",
      "execution_count": 1,
      "metadata": {
        "id": "g7QEMimr-aK7"
      },
      "outputs": [],
      "source": [
        "'''Import necessary packages'''\n",
        "from keras.models import Sequential\n",
        "from keras.layers import Dense\n",
        "from sklearn.model_selection import train_test_split\n",
        "import seaborn as sns\n",
        "import numpy as np\n",
        "import pandas as pd\n",
        "import matplotlib.pyplot as plt\n",
        "from google.colab import drive\n",
        "from sklearn.preprocessing import MinMaxScaler\n",
        "from sklearn.preprocessing import StandardScaler\n",
        "from sklearn.preprocessing import Normalizer\n",
        "from sklearn.preprocessing import Binarizer\n",
        "from sklearn.metrics import roc_curve,auc, roc_auc_score\n",
        "from imblearn.over_sampling import SMOTE\n",
        "\n",
        "%matplotlib inline"
      ]
    },
    {
      "cell_type": "code",
      "execution_count": 2,
      "metadata": {
        "id": "papbEjf6-aK8",
        "outputId": "8d9229ae-4741-4818-d626-a9fd087e8b64",
        "colab": {
          "base_uri": "https://localhost:8080/"
        }
      },
      "outputs": [
        {
          "output_type": "stream",
          "name": "stdout",
          "text": [
            "Drive already mounted at /content/drive; to attempt to forcibly remount, call drive.mount(\"/content/drive\", force_remount=True).\n"
          ]
        }
      ],
      "source": [
        "# Load Data from Google Drive\n",
        "drive.mount('/content/drive')\n",
        "data = open('/content/drive/MyDrive/dataset_INFO6105/pima-indians-diabetes.data')"
      ]
    },
    {
      "cell_type": "code",
      "execution_count": 3,
      "metadata": {
        "id": "QqMTPXRe-aK-",
        "outputId": "81947735-d715-47d0-f7b1-28e1369d13c1",
        "colab": {
          "base_uri": "https://localhost:8080/",
          "height": 129
        }
      },
      "outputs": [
        {
          "output_type": "stream",
          "name": "stdout",
          "text": [
            "(768, 9)\n"
          ]
        },
        {
          "output_type": "execute_result",
          "data": {
            "text/plain": [
              "   0    1   2   3  4     5      6   7  8\n",
              "0  6  148  72  35  0  33.6  0.627  50  1\n",
              "1  1   85  66  29  0  26.6  0.351  31  0"
            ],
            "text/html": [
              "\n",
              "  <div id=\"df-5b65d893-5b84-42de-9933-d950c86029ee\">\n",
              "    <div class=\"colab-df-container\">\n",
              "      <div>\n",
              "<style scoped>\n",
              "    .dataframe tbody tr th:only-of-type {\n",
              "        vertical-align: middle;\n",
              "    }\n",
              "\n",
              "    .dataframe tbody tr th {\n",
              "        vertical-align: top;\n",
              "    }\n",
              "\n",
              "    .dataframe thead th {\n",
              "        text-align: right;\n",
              "    }\n",
              "</style>\n",
              "<table border=\"1\" class=\"dataframe\">\n",
              "  <thead>\n",
              "    <tr style=\"text-align: right;\">\n",
              "      <th></th>\n",
              "      <th>0</th>\n",
              "      <th>1</th>\n",
              "      <th>2</th>\n",
              "      <th>3</th>\n",
              "      <th>4</th>\n",
              "      <th>5</th>\n",
              "      <th>6</th>\n",
              "      <th>7</th>\n",
              "      <th>8</th>\n",
              "    </tr>\n",
              "  </thead>\n",
              "  <tbody>\n",
              "    <tr>\n",
              "      <th>0</th>\n",
              "      <td>6</td>\n",
              "      <td>148</td>\n",
              "      <td>72</td>\n",
              "      <td>35</td>\n",
              "      <td>0</td>\n",
              "      <td>33.6</td>\n",
              "      <td>0.627</td>\n",
              "      <td>50</td>\n",
              "      <td>1</td>\n",
              "    </tr>\n",
              "    <tr>\n",
              "      <th>1</th>\n",
              "      <td>1</td>\n",
              "      <td>85</td>\n",
              "      <td>66</td>\n",
              "      <td>29</td>\n",
              "      <td>0</td>\n",
              "      <td>26.6</td>\n",
              "      <td>0.351</td>\n",
              "      <td>31</td>\n",
              "      <td>0</td>\n",
              "    </tr>\n",
              "  </tbody>\n",
              "</table>\n",
              "</div>\n",
              "      <button class=\"colab-df-convert\" onclick=\"convertToInteractive('df-5b65d893-5b84-42de-9933-d950c86029ee')\"\n",
              "              title=\"Convert this dataframe to an interactive table.\"\n",
              "              style=\"display:none;\">\n",
              "        \n",
              "  <svg xmlns=\"http://www.w3.org/2000/svg\" height=\"24px\"viewBox=\"0 0 24 24\"\n",
              "       width=\"24px\">\n",
              "    <path d=\"M0 0h24v24H0V0z\" fill=\"none\"/>\n",
              "    <path d=\"M18.56 5.44l.94 2.06.94-2.06 2.06-.94-2.06-.94-.94-2.06-.94 2.06-2.06.94zm-11 1L8.5 8.5l.94-2.06 2.06-.94-2.06-.94L8.5 2.5l-.94 2.06-2.06.94zm10 10l.94 2.06.94-2.06 2.06-.94-2.06-.94-.94-2.06-.94 2.06-2.06.94z\"/><path d=\"M17.41 7.96l-1.37-1.37c-.4-.4-.92-.59-1.43-.59-.52 0-1.04.2-1.43.59L10.3 9.45l-7.72 7.72c-.78.78-.78 2.05 0 2.83L4 21.41c.39.39.9.59 1.41.59.51 0 1.02-.2 1.41-.59l7.78-7.78 2.81-2.81c.8-.78.8-2.07 0-2.86zM5.41 20L4 18.59l7.72-7.72 1.47 1.35L5.41 20z\"/>\n",
              "  </svg>\n",
              "      </button>\n",
              "      \n",
              "  <style>\n",
              "    .colab-df-container {\n",
              "      display:flex;\n",
              "      flex-wrap:wrap;\n",
              "      gap: 12px;\n",
              "    }\n",
              "\n",
              "    .colab-df-convert {\n",
              "      background-color: #E8F0FE;\n",
              "      border: none;\n",
              "      border-radius: 50%;\n",
              "      cursor: pointer;\n",
              "      display: none;\n",
              "      fill: #1967D2;\n",
              "      height: 32px;\n",
              "      padding: 0 0 0 0;\n",
              "      width: 32px;\n",
              "    }\n",
              "\n",
              "    .colab-df-convert:hover {\n",
              "      background-color: #E2EBFA;\n",
              "      box-shadow: 0px 1px 2px rgba(60, 64, 67, 0.3), 0px 1px 3px 1px rgba(60, 64, 67, 0.15);\n",
              "      fill: #174EA6;\n",
              "    }\n",
              "\n",
              "    [theme=dark] .colab-df-convert {\n",
              "      background-color: #3B4455;\n",
              "      fill: #D2E3FC;\n",
              "    }\n",
              "\n",
              "    [theme=dark] .colab-df-convert:hover {\n",
              "      background-color: #434B5C;\n",
              "      box-shadow: 0px 1px 3px 1px rgba(0, 0, 0, 0.15);\n",
              "      filter: drop-shadow(0px 1px 2px rgba(0, 0, 0, 0.3));\n",
              "      fill: #FFFFFF;\n",
              "    }\n",
              "  </style>\n",
              "\n",
              "      <script>\n",
              "        const buttonEl =\n",
              "          document.querySelector('#df-5b65d893-5b84-42de-9933-d950c86029ee button.colab-df-convert');\n",
              "        buttonEl.style.display =\n",
              "          google.colab.kernel.accessAllowed ? 'block' : 'none';\n",
              "\n",
              "        async function convertToInteractive(key) {\n",
              "          const element = document.querySelector('#df-5b65d893-5b84-42de-9933-d950c86029ee');\n",
              "          const dataTable =\n",
              "            await google.colab.kernel.invokeFunction('convertToInteractive',\n",
              "                                                     [key], {});\n",
              "          if (!dataTable) return;\n",
              "\n",
              "          const docLinkHtml = 'Like what you see? Visit the ' +\n",
              "            '<a target=\"_blank\" href=https://colab.research.google.com/notebooks/data_table.ipynb>data table notebook</a>'\n",
              "            + ' to learn more about interactive tables.';\n",
              "          element.innerHTML = '';\n",
              "          dataTable['output_type'] = 'display_data';\n",
              "          await google.colab.output.renderOutput(dataTable, element);\n",
              "          const docLink = document.createElement('div');\n",
              "          docLink.innerHTML = docLinkHtml;\n",
              "          element.appendChild(docLink);\n",
              "        }\n",
              "      </script>\n",
              "    </div>\n",
              "  </div>\n",
              "  "
            ]
          },
          "metadata": {},
          "execution_count": 3
        }
      ],
      "source": [
        "df = pd.read_csv(data,header = None)\n",
        "print(df.shape)\n",
        "df.head(2)"
      ]
    },
    {
      "cell_type": "markdown",
      "metadata": {
        "id": "3cOh6yDw-aK-"
      },
      "source": [
        "# Pre-process data, train-test split"
      ]
    },
    {
      "cell_type": "code",
      "execution_count": 4,
      "metadata": {
        "id": "OU7-9EgX-aK_"
      },
      "outputs": [],
      "source": [
        "#Separate out X and Y\n",
        "X = df.iloc[:, :8]\n",
        "Y = df.iloc[:, 8:9]"
      ]
    },
    {
      "cell_type": "code",
      "source": [
        "X.count(), Y.count()"
      ],
      "metadata": {
        "id": "mUah2cB1jkWD",
        "outputId": "e91c4c0b-3328-4de6-84f2-048b8931bef6",
        "colab": {
          "base_uri": "https://localhost:8080/"
        }
      },
      "execution_count": 5,
      "outputs": [
        {
          "output_type": "execute_result",
          "data": {
            "text/plain": [
              "(0    768\n",
              " 1    768\n",
              " 2    768\n",
              " 3    768\n",
              " 4    768\n",
              " 5    768\n",
              " 6    768\n",
              " 7    768\n",
              " dtype: int64, 8    768\n",
              " dtype: int64)"
            ]
          },
          "metadata": {},
          "execution_count": 5
        }
      ]
    },
    {
      "cell_type": "markdown",
      "source": [
        "#### Data Augmentation"
      ],
      "metadata": {
        "id": "rkD57DB5joZG"
      }
    },
    {
      "cell_type": "code",
      "source": [
        "df3 = df.copy()\n",
        "target = 8\n",
        "\n",
        "print('Original class distribution:')\n",
        "print(df3[target].value_counts())\n",
        "\n",
        "xf = df3.columns\n",
        "X_t = df3.drop([target],axis=1)\n",
        "Y_t = df3[target]\n",
        "\n",
        "smote = SMOTE()\n",
        "X_t, Y_t = smote.fit_resample(X, Y)\n",
        "\n",
        "df3 = pd.DataFrame(X_t, columns=xf)\n",
        "df3[target] = Y_t\n",
        "\n",
        "print('\\nClass distribution after applying SMOTE Technique:',)\n",
        "print(Y_t.value_counts())"
      ],
      "metadata": {
        "id": "gOKPkSTIjsFo",
        "outputId": "d40eb18b-d07b-45e5-9c4b-7564b3c49e06",
        "colab": {
          "base_uri": "https://localhost:8080/"
        }
      },
      "execution_count": 6,
      "outputs": [
        {
          "output_type": "stream",
          "name": "stdout",
          "text": [
            "Original class distribution:\n",
            "0    500\n",
            "1    268\n",
            "Name: 8, dtype: int64\n",
            "\n",
            "Class distribution after applying SMOTE Technique:\n",
            "8\n",
            "0    500\n",
            "1    500\n",
            "dtype: int64\n"
          ]
        }
      ]
    },
    {
      "cell_type": "code",
      "source": [
        "# Example to add noice to dataset\n",
        "# x is my training data\n",
        "# mu is the mean\n",
        "# std is the standard deviation\n",
        "mu=0.0\n",
        "std = 0.1\n",
        "def gaussian_noise(x,mu,std):\n",
        "    noise = np.random.normal(mu, std, size = x.shape)\n",
        "    x_noisy = x + noise\n",
        "    return x_noisy "
      ],
      "metadata": {
        "id": "p--hwnhZ3PyH"
      },
      "execution_count": 7,
      "outputs": []
    },
    {
      "cell_type": "markdown",
      "source": [
        "#### Various other preprocessing techniques which I've commented. I've just used the MinMaxScaler for the implementation\n",
        "\n",
        "1. MinMaxScaler\n",
        "2. Normalizer\n",
        "3. Binarizer\n",
        "4. StandardScaler"
      ],
      "metadata": {
        "id": "woYC_Z0nFE2D"
      }
    },
    {
      "cell_type": "code",
      "source": [
        "# #StandardScaler\n",
        "# transforms = StandardScaler()\n",
        "# standardScale_X = transforms.fit_transform(X)\n",
        "# print(standardScale_X)\n",
        "\n",
        "# transforms = Normalizer()\n",
        "# normalizer_x = transforms.fit_transform(X)\n",
        "# print(normalizer_x)\n",
        "\n",
        "# transforms = Binarizer(threshold=0.5)\n",
        "# binarizer_x = transforms.fit_transform(X)\n",
        "# print(binarizer_x)"
      ],
      "metadata": {
        "id": "OoopQ0ZGFNQH"
      },
      "execution_count": 8,
      "outputs": []
    },
    {
      "cell_type": "code",
      "source": [
        "#scale Features from 0 to 1\n",
        "transforms = MinMaxScaler(feature_range=(0,1))\n",
        "scaler_X =  transforms.fit_transform(X_t)\n",
        "print(scaler_X)"
      ],
      "metadata": {
        "id": "6OYFjCFJBCYj",
        "outputId": "ed2772e4-a55c-41b3-ef19-c559a2d71811",
        "colab": {
          "base_uri": "https://localhost:8080/"
        }
      },
      "execution_count": 9,
      "outputs": [
        {
          "output_type": "stream",
          "name": "stdout",
          "text": [
            "[[0.35294118 0.74371859 0.59016393 ... 0.50074516 0.23441503 0.48333333]\n",
            " [0.05882353 0.42713568 0.54098361 ... 0.39642325 0.11656704 0.16666667]\n",
            " [0.47058824 0.91959799 0.52459016 ... 0.34724292 0.25362938 0.18333333]\n",
            " ...\n",
            " [0.47058824 0.69346734 0.75409836 ... 0.49946152 0.29215672 0.36666667]\n",
            " [0.11764706 0.93467337 0.77868852 ... 0.51859281 0.13826993 0.33333333]\n",
            " [0.05882353 0.47738693 0.66393443 ... 0.52024531 0.08055444 0.35      ]]\n"
          ]
        }
      ]
    },
    {
      "cell_type": "markdown",
      "source": [
        "#### Split data into train, validation and test"
      ],
      "metadata": {
        "id": "bWFtISrP4HRV"
      }
    },
    {
      "cell_type": "code",
      "source": [
        "df.shape"
      ],
      "metadata": {
        "colab": {
          "base_uri": "https://localhost:8080/"
        },
        "id": "e0itaFSO07NI",
        "outputId": "59816cf5-583d-4aa8-e367-50b64f6c3032"
      },
      "execution_count": 10,
      "outputs": [
        {
          "output_type": "execute_result",
          "data": {
            "text/plain": [
              "(768, 9)"
            ]
          },
          "metadata": {},
          "execution_count": 10
        }
      ]
    },
    {
      "cell_type": "code",
      "source": [
        "X_train, X_test, Y_train, Y_test = train_test_split(scaler_X, Y_t, test_size=0.15, random_state=1)\n",
        "X_train, X_val, Y_train, Y_val = train_test_split(X_train, Y_train, test_size=0.15, random_state=1)"
      ],
      "metadata": {
        "id": "AVyxsZh_08VA"
      },
      "execution_count": 11,
      "outputs": []
    },
    {
      "cell_type": "code",
      "source": [
        "print(X_train.shape,Y_train.shape,X_val.shape,Y_val.shape,X_test.shape,Y_test.shape)"
      ],
      "metadata": {
        "colab": {
          "base_uri": "https://localhost:8080/"
        },
        "id": "Q9qopArM6VJF",
        "outputId": "955bcc20-34d4-4b46-fe30-89aa93e8b15d"
      },
      "execution_count": 12,
      "outputs": [
        {
          "output_type": "stream",
          "name": "stdout",
          "text": [
            "(722, 8) (722, 1) (128, 8) (128, 1) (150, 8) (150, 1)\n"
          ]
        }
      ]
    },
    {
      "cell_type": "code",
      "execution_count": 13,
      "metadata": {
        "id": "j7rFixE1-aK_"
      },
      "outputs": [],
      "source": [
        "# # Train- Test Split\n",
        "# (X_train, X_test, Y_train, Y_test) = train_test_split(scaler_X, Y, test_size=0.33, random_state=1)\n",
        "# print(X_train.shape,X_test.shape,Y_train.shape,Y_test.shape)"
      ]
    },
    {
      "cell_type": "markdown",
      "metadata": {
        "id": "QQzYPUpl-aLA"
      },
      "source": [
        "# Build and compile a deep learning model"
      ]
    },
    {
      "cell_type": "code",
      "execution_count": 14,
      "metadata": {
        "id": "i6nBxp5V-aLA"
      },
      "outputs": [],
      "source": [
        "# Build the deep neural network\n",
        "model = Sequential()\n",
        "model.add(Dense(10, input_dim=8, activation='relu'))\n",
        "model.add(Dense(6, activation='relu'))\n",
        "model.add(Dense(1, activation='sigmoid'))"
      ]
    },
    {
      "cell_type": "code",
      "execution_count": 15,
      "metadata": {
        "id": "Nvv9QPVU-aLB"
      },
      "outputs": [],
      "source": [
        "# Compile the DNN\n",
        "\n",
        "model.compile(loss='binary_crossentropy', optimizer='adam', metrics=['accuracy'])"
      ]
    },
    {
      "cell_type": "code",
      "execution_count": 16,
      "metadata": {
        "id": "FhllulpQ-aLB",
        "outputId": "d51ea33b-b057-40a1-eb93-ff8d706d846e",
        "colab": {
          "base_uri": "https://localhost:8080/"
        }
      },
      "outputs": [
        {
          "output_type": "stream",
          "name": "stdout",
          "text": [
            "Epoch 1/100\n",
            "145/145 [==============================] - 2s 6ms/step - loss: 0.6888 - accuracy: 0.5637 - val_loss: 0.6823 - val_accuracy: 0.5781\n",
            "Epoch 2/100\n",
            "145/145 [==============================] - 1s 4ms/step - loss: 0.6773 - accuracy: 0.5637 - val_loss: 0.6727 - val_accuracy: 0.5781\n",
            "Epoch 3/100\n",
            "145/145 [==============================] - 1s 4ms/step - loss: 0.6662 - accuracy: 0.6247 - val_loss: 0.6556 - val_accuracy: 0.6250\n",
            "Epoch 4/100\n",
            "145/145 [==============================] - 1s 4ms/step - loss: 0.6511 - accuracy: 0.6731 - val_loss: 0.6338 - val_accuracy: 0.6641\n",
            "Epoch 5/100\n",
            "145/145 [==============================] - 1s 4ms/step - loss: 0.6315 - accuracy: 0.6870 - val_loss: 0.6112 - val_accuracy: 0.7188\n",
            "Epoch 6/100\n",
            "145/145 [==============================] - 1s 4ms/step - loss: 0.6112 - accuracy: 0.7105 - val_loss: 0.5916 - val_accuracy: 0.7422\n",
            "Epoch 7/100\n",
            "145/145 [==============================] - 1s 4ms/step - loss: 0.5939 - accuracy: 0.7202 - val_loss: 0.5667 - val_accuracy: 0.7344\n",
            "Epoch 8/100\n",
            "145/145 [==============================] - 0s 3ms/step - loss: 0.5792 - accuracy: 0.7188 - val_loss: 0.5487 - val_accuracy: 0.7500\n",
            "Epoch 9/100\n",
            "145/145 [==============================] - 1s 4ms/step - loss: 0.5616 - accuracy: 0.7507 - val_loss: 0.5389 - val_accuracy: 0.7266\n",
            "Epoch 10/100\n",
            "145/145 [==============================] - 1s 3ms/step - loss: 0.5513 - accuracy: 0.7438 - val_loss: 0.5244 - val_accuracy: 0.7500\n",
            "Epoch 11/100\n",
            "145/145 [==============================] - 1s 5ms/step - loss: 0.5427 - accuracy: 0.7452 - val_loss: 0.5198 - val_accuracy: 0.7500\n",
            "Epoch 12/100\n",
            "145/145 [==============================] - 1s 5ms/step - loss: 0.5327 - accuracy: 0.7548 - val_loss: 0.5068 - val_accuracy: 0.7500\n",
            "Epoch 13/100\n",
            "145/145 [==============================] - 1s 4ms/step - loss: 0.5264 - accuracy: 0.7562 - val_loss: 0.5009 - val_accuracy: 0.7500\n",
            "Epoch 14/100\n",
            "145/145 [==============================] - 1s 4ms/step - loss: 0.5187 - accuracy: 0.7604 - val_loss: 0.5129 - val_accuracy: 0.7422\n",
            "Epoch 15/100\n",
            "145/145 [==============================] - 1s 4ms/step - loss: 0.5138 - accuracy: 0.7590 - val_loss: 0.4995 - val_accuracy: 0.7422\n",
            "Epoch 16/100\n",
            "145/145 [==============================] - 1s 5ms/step - loss: 0.5083 - accuracy: 0.7604 - val_loss: 0.4809 - val_accuracy: 0.7344\n",
            "Epoch 17/100\n",
            "145/145 [==============================] - 1s 5ms/step - loss: 0.5048 - accuracy: 0.7548 - val_loss: 0.4855 - val_accuracy: 0.7578\n",
            "Epoch 18/100\n",
            "145/145 [==============================] - 0s 3ms/step - loss: 0.4975 - accuracy: 0.7645 - val_loss: 0.4756 - val_accuracy: 0.7500\n",
            "Epoch 19/100\n",
            "145/145 [==============================] - 0s 3ms/step - loss: 0.4975 - accuracy: 0.7604 - val_loss: 0.4748 - val_accuracy: 0.7500\n",
            "Epoch 20/100\n",
            "145/145 [==============================] - 0s 3ms/step - loss: 0.4933 - accuracy: 0.7673 - val_loss: 0.4654 - val_accuracy: 0.7734\n",
            "Epoch 21/100\n",
            "145/145 [==============================] - 1s 6ms/step - loss: 0.4899 - accuracy: 0.7645 - val_loss: 0.4688 - val_accuracy: 0.7500\n",
            "Epoch 22/100\n",
            "145/145 [==============================] - 1s 3ms/step - loss: 0.4893 - accuracy: 0.7659 - val_loss: 0.4620 - val_accuracy: 0.7656\n",
            "Epoch 23/100\n",
            "145/145 [==============================] - 1s 6ms/step - loss: 0.4852 - accuracy: 0.7715 - val_loss: 0.4612 - val_accuracy: 0.7656\n",
            "Epoch 24/100\n",
            "145/145 [==============================] - 0s 3ms/step - loss: 0.4815 - accuracy: 0.7590 - val_loss: 0.4538 - val_accuracy: 0.7734\n",
            "Epoch 25/100\n",
            "145/145 [==============================] - 1s 4ms/step - loss: 0.4784 - accuracy: 0.7701 - val_loss: 0.4497 - val_accuracy: 0.7656\n",
            "Epoch 26/100\n",
            "145/145 [==============================] - 0s 3ms/step - loss: 0.4776 - accuracy: 0.7715 - val_loss: 0.4538 - val_accuracy: 0.7578\n",
            "Epoch 27/100\n",
            "145/145 [==============================] - 1s 3ms/step - loss: 0.4762 - accuracy: 0.7659 - val_loss: 0.4448 - val_accuracy: 0.7656\n",
            "Epoch 28/100\n",
            "145/145 [==============================] - 0s 3ms/step - loss: 0.4753 - accuracy: 0.7742 - val_loss: 0.4415 - val_accuracy: 0.7656\n",
            "Epoch 29/100\n",
            "145/145 [==============================] - 1s 4ms/step - loss: 0.4746 - accuracy: 0.7729 - val_loss: 0.4431 - val_accuracy: 0.7656\n",
            "Epoch 30/100\n",
            "145/145 [==============================] - 1s 4ms/step - loss: 0.4744 - accuracy: 0.7742 - val_loss: 0.4364 - val_accuracy: 0.7656\n",
            "Epoch 31/100\n",
            "145/145 [==============================] - 0s 3ms/step - loss: 0.4708 - accuracy: 0.7853 - val_loss: 0.4340 - val_accuracy: 0.7734\n",
            "Epoch 32/100\n",
            "145/145 [==============================] - 1s 4ms/step - loss: 0.4742 - accuracy: 0.7673 - val_loss: 0.4330 - val_accuracy: 0.7734\n",
            "Epoch 33/100\n",
            "145/145 [==============================] - 0s 3ms/step - loss: 0.4683 - accuracy: 0.7701 - val_loss: 0.4347 - val_accuracy: 0.7656\n",
            "Epoch 34/100\n",
            "145/145 [==============================] - 1s 4ms/step - loss: 0.4654 - accuracy: 0.7784 - val_loss: 0.4294 - val_accuracy: 0.7734\n",
            "Epoch 35/100\n",
            "145/145 [==============================] - 1s 4ms/step - loss: 0.4653 - accuracy: 0.7742 - val_loss: 0.4294 - val_accuracy: 0.7656\n",
            "Epoch 36/100\n",
            "145/145 [==============================] - 1s 4ms/step - loss: 0.4658 - accuracy: 0.7798 - val_loss: 0.4275 - val_accuracy: 0.7656\n",
            "Epoch 37/100\n",
            "145/145 [==============================] - 1s 4ms/step - loss: 0.4687 - accuracy: 0.7701 - val_loss: 0.4398 - val_accuracy: 0.7578\n",
            "Epoch 38/100\n",
            "145/145 [==============================] - 1s 4ms/step - loss: 0.4626 - accuracy: 0.7701 - val_loss: 0.4327 - val_accuracy: 0.7891\n",
            "Epoch 39/100\n",
            "145/145 [==============================] - 1s 4ms/step - loss: 0.4673 - accuracy: 0.7729 - val_loss: 0.4247 - val_accuracy: 0.7734\n",
            "Epoch 40/100\n",
            "145/145 [==============================] - 1s 4ms/step - loss: 0.4646 - accuracy: 0.7784 - val_loss: 0.4229 - val_accuracy: 0.7891\n",
            "Epoch 41/100\n",
            "145/145 [==============================] - 0s 3ms/step - loss: 0.4634 - accuracy: 0.7756 - val_loss: 0.4239 - val_accuracy: 0.7656\n",
            "Epoch 42/100\n",
            "145/145 [==============================] - 0s 3ms/step - loss: 0.4624 - accuracy: 0.7770 - val_loss: 0.4232 - val_accuracy: 0.7891\n",
            "Epoch 43/100\n",
            "145/145 [==============================] - 0s 2ms/step - loss: 0.4607 - accuracy: 0.7798 - val_loss: 0.4282 - val_accuracy: 0.7812\n",
            "Epoch 44/100\n",
            "145/145 [==============================] - 0s 2ms/step - loss: 0.4626 - accuracy: 0.7853 - val_loss: 0.4244 - val_accuracy: 0.7734\n",
            "Epoch 45/100\n",
            "145/145 [==============================] - 0s 2ms/step - loss: 0.4637 - accuracy: 0.7701 - val_loss: 0.4223 - val_accuracy: 0.7734\n",
            "Epoch 46/100\n",
            "145/145 [==============================] - 0s 2ms/step - loss: 0.4580 - accuracy: 0.7839 - val_loss: 0.4225 - val_accuracy: 0.7734\n",
            "Epoch 47/100\n",
            "145/145 [==============================] - 0s 2ms/step - loss: 0.4609 - accuracy: 0.7784 - val_loss: 0.4203 - val_accuracy: 0.7891\n",
            "Epoch 48/100\n",
            "145/145 [==============================] - 0s 2ms/step - loss: 0.4602 - accuracy: 0.7839 - val_loss: 0.4188 - val_accuracy: 0.7891\n",
            "Epoch 49/100\n",
            "145/145 [==============================] - 0s 2ms/step - loss: 0.4594 - accuracy: 0.7825 - val_loss: 0.4176 - val_accuracy: 0.7812\n",
            "Epoch 50/100\n",
            "145/145 [==============================] - 0s 2ms/step - loss: 0.4624 - accuracy: 0.7936 - val_loss: 0.4195 - val_accuracy: 0.7734\n",
            "Epoch 51/100\n",
            "145/145 [==============================] - 0s 2ms/step - loss: 0.4570 - accuracy: 0.7784 - val_loss: 0.4179 - val_accuracy: 0.7969\n",
            "Epoch 52/100\n",
            "145/145 [==============================] - 0s 2ms/step - loss: 0.4564 - accuracy: 0.7964 - val_loss: 0.4167 - val_accuracy: 0.7891\n",
            "Epoch 53/100\n",
            "145/145 [==============================] - 0s 2ms/step - loss: 0.4600 - accuracy: 0.7950 - val_loss: 0.4151 - val_accuracy: 0.7812\n",
            "Epoch 54/100\n",
            "145/145 [==============================] - 0s 2ms/step - loss: 0.4576 - accuracy: 0.7853 - val_loss: 0.4197 - val_accuracy: 0.7734\n",
            "Epoch 55/100\n",
            "145/145 [==============================] - 0s 2ms/step - loss: 0.4566 - accuracy: 0.7770 - val_loss: 0.4143 - val_accuracy: 0.7891\n",
            "Epoch 56/100\n",
            "145/145 [==============================] - 0s 2ms/step - loss: 0.4581 - accuracy: 0.7853 - val_loss: 0.4143 - val_accuracy: 0.7969\n",
            "Epoch 57/100\n",
            "145/145 [==============================] - 0s 2ms/step - loss: 0.4564 - accuracy: 0.7867 - val_loss: 0.4189 - val_accuracy: 0.7734\n",
            "Epoch 58/100\n",
            "145/145 [==============================] - 0s 2ms/step - loss: 0.4584 - accuracy: 0.7812 - val_loss: 0.4147 - val_accuracy: 0.8047\n",
            "Epoch 59/100\n",
            "145/145 [==============================] - 0s 2ms/step - loss: 0.4561 - accuracy: 0.7881 - val_loss: 0.4176 - val_accuracy: 0.7969\n",
            "Epoch 60/100\n",
            "145/145 [==============================] - 0s 2ms/step - loss: 0.4587 - accuracy: 0.7922 - val_loss: 0.4157 - val_accuracy: 0.7734\n",
            "Epoch 61/100\n",
            "145/145 [==============================] - 0s 2ms/step - loss: 0.4592 - accuracy: 0.7798 - val_loss: 0.4138 - val_accuracy: 0.7969\n",
            "Epoch 62/100\n",
            "145/145 [==============================] - 0s 2ms/step - loss: 0.4528 - accuracy: 0.7978 - val_loss: 0.4199 - val_accuracy: 0.7812\n",
            "Epoch 63/100\n",
            "145/145 [==============================] - 0s 2ms/step - loss: 0.4559 - accuracy: 0.7922 - val_loss: 0.4185 - val_accuracy: 0.7734\n",
            "Epoch 64/100\n",
            "145/145 [==============================] - 0s 2ms/step - loss: 0.4561 - accuracy: 0.7978 - val_loss: 0.4131 - val_accuracy: 0.7812\n",
            "Epoch 65/100\n",
            "145/145 [==============================] - 0s 2ms/step - loss: 0.4522 - accuracy: 0.7881 - val_loss: 0.4205 - val_accuracy: 0.7812\n",
            "Epoch 66/100\n",
            "145/145 [==============================] - 0s 2ms/step - loss: 0.4565 - accuracy: 0.7895 - val_loss: 0.4139 - val_accuracy: 0.7734\n",
            "Epoch 67/100\n",
            "145/145 [==============================] - 0s 2ms/step - loss: 0.4569 - accuracy: 0.7922 - val_loss: 0.4122 - val_accuracy: 0.7969\n",
            "Epoch 68/100\n",
            "145/145 [==============================] - 0s 2ms/step - loss: 0.4540 - accuracy: 0.7950 - val_loss: 0.4124 - val_accuracy: 0.7812\n",
            "Epoch 69/100\n",
            "145/145 [==============================] - 0s 2ms/step - loss: 0.4529 - accuracy: 0.7950 - val_loss: 0.4114 - val_accuracy: 0.7969\n",
            "Epoch 70/100\n",
            "145/145 [==============================] - 0s 2ms/step - loss: 0.4541 - accuracy: 0.7978 - val_loss: 0.4163 - val_accuracy: 0.7734\n",
            "Epoch 71/100\n",
            "145/145 [==============================] - 0s 2ms/step - loss: 0.4524 - accuracy: 0.7909 - val_loss: 0.4139 - val_accuracy: 0.7891\n",
            "Epoch 72/100\n",
            "145/145 [==============================] - 0s 2ms/step - loss: 0.4521 - accuracy: 0.8033 - val_loss: 0.4228 - val_accuracy: 0.7500\n",
            "Epoch 73/100\n",
            "145/145 [==============================] - 0s 2ms/step - loss: 0.4546 - accuracy: 0.7812 - val_loss: 0.4120 - val_accuracy: 0.8047\n",
            "Epoch 74/100\n",
            "145/145 [==============================] - 0s 2ms/step - loss: 0.4519 - accuracy: 0.7881 - val_loss: 0.4167 - val_accuracy: 0.7812\n",
            "Epoch 75/100\n",
            "145/145 [==============================] - 0s 2ms/step - loss: 0.4534 - accuracy: 0.7881 - val_loss: 0.4100 - val_accuracy: 0.7969\n",
            "Epoch 76/100\n",
            "145/145 [==============================] - 0s 2ms/step - loss: 0.4531 - accuracy: 0.7922 - val_loss: 0.4111 - val_accuracy: 0.7891\n",
            "Epoch 77/100\n",
            "145/145 [==============================] - 0s 2ms/step - loss: 0.4564 - accuracy: 0.7922 - val_loss: 0.4114 - val_accuracy: 0.7891\n",
            "Epoch 78/100\n",
            "145/145 [==============================] - 0s 2ms/step - loss: 0.4487 - accuracy: 0.7950 - val_loss: 0.4160 - val_accuracy: 0.7969\n",
            "Epoch 79/100\n",
            "145/145 [==============================] - 0s 2ms/step - loss: 0.4503 - accuracy: 0.8102 - val_loss: 0.4104 - val_accuracy: 0.7969\n",
            "Epoch 80/100\n",
            "145/145 [==============================] - 0s 2ms/step - loss: 0.4552 - accuracy: 0.7909 - val_loss: 0.4113 - val_accuracy: 0.7969\n",
            "Epoch 81/100\n",
            "145/145 [==============================] - 0s 2ms/step - loss: 0.4523 - accuracy: 0.7853 - val_loss: 0.4132 - val_accuracy: 0.7891\n",
            "Epoch 82/100\n",
            "145/145 [==============================] - 0s 2ms/step - loss: 0.4523 - accuracy: 0.7922 - val_loss: 0.4103 - val_accuracy: 0.7969\n",
            "Epoch 83/100\n",
            "145/145 [==============================] - 0s 2ms/step - loss: 0.4513 - accuracy: 0.7950 - val_loss: 0.4127 - val_accuracy: 0.7969\n",
            "Epoch 84/100\n",
            "145/145 [==============================] - 0s 2ms/step - loss: 0.4510 - accuracy: 0.8019 - val_loss: 0.4117 - val_accuracy: 0.7969\n",
            "Epoch 85/100\n",
            "145/145 [==============================] - 0s 2ms/step - loss: 0.4509 - accuracy: 0.7950 - val_loss: 0.4118 - val_accuracy: 0.8047\n",
            "Epoch 86/100\n",
            "145/145 [==============================] - 0s 2ms/step - loss: 0.4509 - accuracy: 0.7895 - val_loss: 0.4148 - val_accuracy: 0.7891\n",
            "Epoch 87/100\n",
            "145/145 [==============================] - 0s 2ms/step - loss: 0.4486 - accuracy: 0.7770 - val_loss: 0.4188 - val_accuracy: 0.7656\n",
            "Epoch 88/100\n",
            "145/145 [==============================] - 0s 2ms/step - loss: 0.4483 - accuracy: 0.8006 - val_loss: 0.4169 - val_accuracy: 0.7734\n",
            "Epoch 89/100\n",
            "145/145 [==============================] - 0s 2ms/step - loss: 0.4498 - accuracy: 0.7964 - val_loss: 0.4135 - val_accuracy: 0.7969\n",
            "Epoch 90/100\n",
            "145/145 [==============================] - 0s 2ms/step - loss: 0.4477 - accuracy: 0.7936 - val_loss: 0.4138 - val_accuracy: 0.7891\n",
            "Epoch 91/100\n",
            "145/145 [==============================] - 0s 2ms/step - loss: 0.4484 - accuracy: 0.7936 - val_loss: 0.4129 - val_accuracy: 0.7969\n",
            "Epoch 92/100\n",
            "145/145 [==============================] - 0s 2ms/step - loss: 0.4476 - accuracy: 0.7964 - val_loss: 0.4128 - val_accuracy: 0.7891\n",
            "Epoch 93/100\n",
            "145/145 [==============================] - 0s 2ms/step - loss: 0.4493 - accuracy: 0.7895 - val_loss: 0.4165 - val_accuracy: 0.8047\n",
            "Epoch 94/100\n",
            "145/145 [==============================] - 0s 2ms/step - loss: 0.4482 - accuracy: 0.7895 - val_loss: 0.4122 - val_accuracy: 0.7969\n",
            "Epoch 95/100\n",
            "145/145 [==============================] - 0s 2ms/step - loss: 0.4450 - accuracy: 0.7936 - val_loss: 0.4177 - val_accuracy: 0.7734\n",
            "Epoch 96/100\n",
            "145/145 [==============================] - 0s 2ms/step - loss: 0.4489 - accuracy: 0.7881 - val_loss: 0.4145 - val_accuracy: 0.7812\n",
            "Epoch 97/100\n",
            "145/145 [==============================] - 0s 2ms/step - loss: 0.4466 - accuracy: 0.7950 - val_loss: 0.4138 - val_accuracy: 0.7969\n",
            "Epoch 98/100\n",
            "145/145 [==============================] - 0s 2ms/step - loss: 0.4472 - accuracy: 0.7936 - val_loss: 0.4119 - val_accuracy: 0.7969\n",
            "Epoch 99/100\n",
            "145/145 [==============================] - 0s 2ms/step - loss: 0.4473 - accuracy: 0.7867 - val_loss: 0.4114 - val_accuracy: 0.8047\n",
            "Epoch 100/100\n",
            "145/145 [==============================] - 0s 2ms/step - loss: 0.4463 - accuracy: 0.7909 - val_loss: 0.4119 - val_accuracy: 0.7969\n"
          ]
        }
      ],
      "source": [
        "# Fit the DNN with your train data\n",
        "\n",
        "history = model.fit(X_train, Y_train, validation_data=(X_val, Y_val), epochs=100, batch_size=5)"
      ]
    },
    {
      "cell_type": "markdown",
      "source": [
        "#### Epoch vs Train/ Validation "
      ],
      "metadata": {
        "id": "3Nv123N_9jGS"
      }
    },
    {
      "cell_type": "code",
      "source": [
        "loss_train = history.history['accuracy']\n",
        "loss_val = history.history['val_accuracy']\n",
        "epochs = range(1,101)\n",
        "plt.plot(epochs, loss_train, 'g', label='Training accuracy')\n",
        "plt.plot(epochs, loss_val, 'b', label='validation accuracy')\n",
        "plt.title('Training and Validation accuracy')\n",
        "plt.xlabel('Epochs')\n",
        "plt.ylabel('Accuracy')\n",
        "plt.legend()\n",
        "plt.show()"
      ],
      "metadata": {
        "id": "TjemjBB191eL",
        "outputId": "b93c50e9-2ea3-4509-9d6c-0ff20538182e",
        "colab": {
          "base_uri": "https://localhost:8080/",
          "height": 295
        }
      },
      "execution_count": 17,
      "outputs": [
        {
          "output_type": "display_data",
          "data": {
            "text/plain": [
              "<Figure size 432x288 with 1 Axes>"
            ],
            "image/png": "[encoded data removed]"
          },
          "metadata": {
            "needs_background": "light"
          }
        }
      ]
    },
    {
      "cell_type": "code",
      "execution_count": 18,
      "metadata": {
        "id": "hWEVknNT-aLB",
        "outputId": "ca5b28ff-59e3-4679-c587-2864c10b5342",
        "colab": {
          "base_uri": "https://localhost:8080/"
        }
      },
      "outputs": [
        {
          "output_type": "stream",
          "name": "stdout",
          "text": [
            "5/5 [==============================] - 0s 2ms/step - loss: 0.5151 - accuracy: 0.7533\n",
            "Accuracy: 75.33%\n"
          ]
        }
      ],
      "source": [
        "# Evaluate the model\n",
        "scores = model.evaluate(X_test, Y_test)\n",
        "print (\"Accuracy: %.2f%%\" %(scores[1]*100))"
      ]
    },
    {
      "cell_type": "markdown",
      "source": [
        "#### Model Evaluation\n",
        "ROC vs AUC implementation using sklearn's roc_auc_score metrics"
      ],
      "metadata": {
        "id": "4jnI-_GCCMdc"
      }
    },
    {
      "cell_type": "code",
      "source": [
        "y_pred_prob_nn_1 = model.predict(X_test)"
      ],
      "metadata": {
        "id": "oBm7CanilByx"
      },
      "execution_count": 19,
      "outputs": []
    },
    {
      "cell_type": "code",
      "source": [
        "y_pred_prob_nn_1[:10]"
      ],
      "metadata": {
        "id": "24HztuhAyJPx",
        "outputId": "6b9acf53-bd9e-4af3-8946-3c7626b7d976",
        "colab": {
          "base_uri": "https://localhost:8080/"
        }
      },
      "execution_count": 20,
      "outputs": [
        {
          "output_type": "execute_result",
          "data": {
            "text/plain": [
              "array([[0.24275988],\n",
              "       [0.9060406 ],\n",
              "       [0.08321482],\n",
              "       [0.00534335],\n",
              "       [0.31255597],\n",
              "       [0.5726973 ],\n",
              "       [0.18167165],\n",
              "       [0.96527416],\n",
              "       [0.3410148 ],\n",
              "       [0.11265391]], dtype=float32)"
            ]
          },
          "metadata": {},
          "execution_count": 20
        }
      ]
    },
    {
      "cell_type": "code",
      "source": [
        "print(roc_auc_score(Y_test,y_pred_prob_nn_1))"
      ],
      "metadata": {
        "id": "5N4xOVGAxuwR",
        "outputId": "a6f6bcc9-79dd-4d61-a5ba-2b0df18dec2a",
        "colab": {
          "base_uri": "https://localhost:8080/"
        }
      },
      "execution_count": 21,
      "outputs": [
        {
          "output_type": "stream",
          "name": "stdout",
          "text": [
            "0.8233484162895928\n"
          ]
        }
      ]
    },
    {
      "cell_type": "code",
      "source": [
        "def plot_roc(y_test, y_pred, model_name):\n",
        "    fpr, tpr, thr = roc_curve(y_test, y_pred)\n",
        "    fig, ax = plt.subplots(figsize=(8, 8))\n",
        "    ax.plot(fpr, tpr, 'k-')\n",
        "    ax.plot([0, 1], [0, 1], 'k--', linewidth=.5)  # roc curve for random model\n",
        "    ax.grid(True)\n",
        "    ax.set(title='ROC Curve for {} on PIMA diabetes problem'.format(model_name),\n",
        "           xlim=[-0.01, 1.01], ylim=[-0.01, 1.01])\n",
        "    \n",
        "plot_roc(Y_test, y_pred_prob_nn_1, 'NN')"
      ],
      "metadata": {
        "id": "Tk7kzJ8bx4v0",
        "outputId": "351e3443-d8a3-410f-db8a-5188ad8587fb",
        "colab": {
          "base_uri": "https://localhost:8080/",
          "height": 499
        }
      },
      "execution_count": 22,
      "outputs": [
        {
          "output_type": "display_data",
          "data": {
            "text/plain": [
              "<Figure size 576x576 with 1 Axes>"
            ],
            "image/png": "[encoded data removed]"
          },
          "metadata": {
            "needs_background": "light"
          }
        }
      ]
    }
  ],
  "metadata": {
    "kernelspec": {
      "display_name": "Python 3",
      "language": "python",
      "name": "python3"
    },
    "language_info": {
      "codemirror_mode": {
        "name": "ipython",
        "version": 3
      },
      "file_extension": ".py",
      "mimetype": "text/x-python",
      "name": "python",
      "nbconvert_exporter": "python",
      "pygments_lexer": "ipython3",
      "version": "3.6.4"
    },
    "colab": {
      "name": "Question_1.ipynb",
      "provenance": []
    }
  },
  "nbformat": 4,
  "nbformat_minor": 0
}