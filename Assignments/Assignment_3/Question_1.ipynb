{
  "cells": [
    {
      "cell_type": "markdown",
      "metadata": {
        "id": "HVvT8kYY-aK2"
      },
      "source": [
        "1. pre-process the data by scaling/standardizing the 8 columns"
      ]
    },
    {
      "cell_type": "markdown",
      "metadata": {
        "id": "mC1aie3z-aK6"
      },
      "source": [
        "# Understand the problem and read in the data"
      ]
    },
    {
      "cell_type": "markdown",
      "metadata": {
        "id": "jTmkHlAq-aK6"
      },
      "source": [
        "This Kaggle challenge is about predicting the onset of diabetes in 5 years or less. \n",
        "Target variable is Outcome. 1 = yes, the person became diabetic in 5 years, and 0 = No, \n",
        "the person did not. This is a binary classification problem. Please check out the Kaggle\n",
        "link here to see feature \n",
        "details - https://www.kaggle.com/uciml/pima-indians-diabetes-database/data"
      ]
    },
    {
      "cell_type": "code",
      "execution_count": 12,
      "metadata": {
        "id": "g7QEMimr-aK7"
      },
      "outputs": [],
      "source": [
        "'''Import necessary packages'''\n",
        "from keras.models import Sequential\n",
        "from keras.layers import Dense\n",
        "from sklearn.model_selection import train_test_split\n",
        "import seaborn as sns\n",
        "import numpy as np\n",
        "import pandas as pd\n",
        "import matplotlib.pyplot as plt\n",
        "from google.colab import drive\n",
        "from sklearn.preprocessing import MinMaxScaler\n",
        "from sklearn.preprocessing import StandardScaler\n",
        "from sklearn.preprocessing import Normalizer\n",
        "from sklearn.preprocessing import Binarizer\n",
        "from sklearn.metrics import roc_curve,auc, roc_auc_score\n",
        "from imblearn.over_sampling import SMOTE\n",
        "\n",
        "%matplotlib inline"
      ]
    },
    {
      "cell_type": "code",
      "execution_count": 13,
      "metadata": {
        "id": "papbEjf6-aK8",
        "outputId": "c6ab09b1-f5ce-47a4-8b23-7d2220f397d3",
        "colab": {
          "base_uri": "https://localhost:8080/"
        }
      },
      "outputs": [
        {
          "output_type": "stream",
          "name": "stdout",
          "text": [
            "Drive already mounted at /content/drive; to attempt to forcibly remount, call drive.mount(\"/content/drive\", force_remount=True).\n"
          ]
        }
      ],
      "source": [
        "# Load Data from Google Drive\n",
        "drive.mount('/content/drive')\n",
        "data = open('/content/drive/MyDrive/dataset_INFO6105/pima-indians-diabetes.data')"
      ]
    },
    {
      "cell_type": "code",
      "execution_count": 14,
      "metadata": {
        "id": "QqMTPXRe-aK-",
        "outputId": "701a4a29-6cfa-4f20-842d-c1c91553746e",
        "colab": {
          "base_uri": "https://localhost:8080/",
          "height": 130
        }
      },
      "outputs": [
        {
          "output_type": "stream",
          "name": "stdout",
          "text": [
            "(768, 9)\n"
          ]
        },
        {
          "output_type": "execute_result",
          "data": {
            "text/plain": [
              "   0    1   2   3  4     5      6   7  8\n",
              "0  6  148  72  35  0  33.6  0.627  50  1\n",
              "1  1   85  66  29  0  26.6  0.351  31  0"
            ],
            "text/html": [
              "\n",
              "  <div id=\"df-df76842d-52fe-4453-9a67-3ac1db8f1086\">\n",
              "    <div class=\"colab-df-container\">\n",
              "      <div>\n",
              "<style scoped>\n",
              "    .dataframe tbody tr th:only-of-type {\n",
              "        vertical-align: middle;\n",
              "    }\n",
              "\n",
              "    .dataframe tbody tr th {\n",
              "        vertical-align: top;\n",
              "    }\n",
              "\n",
              "    .dataframe thead th {\n",
              "        text-align: right;\n",
              "    }\n",
              "</style>\n",
              "<table border=\"1\" class=\"dataframe\">\n",
              "  <thead>\n",
              "    <tr style=\"text-align: right;\">\n",
              "      <th></th>\n",
              "      <th>0</th>\n",
              "      <th>1</th>\n",
              "      <th>2</th>\n",
              "      <th>3</th>\n",
              "      <th>4</th>\n",
              "      <th>5</th>\n",
              "      <th>6</th>\n",
              "      <th>7</th>\n",
              "      <th>8</th>\n",
              "    </tr>\n",
              "  </thead>\n",
              "  <tbody>\n",
              "    <tr>\n",
              "      <th>0</th>\n",
              "      <td>6</td>\n",
              "      <td>148</td>\n",
              "      <td>72</td>\n",
              "      <td>35</td>\n",
              "      <td>0</td>\n",
              "      <td>33.6</td>\n",
              "      <td>0.627</td>\n",
              "      <td>50</td>\n",
              "      <td>1</td>\n",
              "    </tr>\n",
              "    <tr>\n",
              "      <th>1</th>\n",
              "      <td>1</td>\n",
              "      <td>85</td>\n",
              "      <td>66</td>\n",
              "      <td>29</td>\n",
              "      <td>0</td>\n",
              "      <td>26.6</td>\n",
              "      <td>0.351</td>\n",
              "      <td>31</td>\n",
              "      <td>0</td>\n",
              "    </tr>\n",
              "  </tbody>\n",
              "</table>\n",
              "</div>\n",
              "      <button class=\"colab-df-convert\" onclick=\"convertToInteractive('df-df76842d-52fe-4453-9a67-3ac1db8f1086')\"\n",
              "              title=\"Convert this dataframe to an interactive table.\"\n",
              "              style=\"display:none;\">\n",
              "        \n",
              "  <svg xmlns=\"http://www.w3.org/2000/svg\" height=\"24px\"viewBox=\"0 0 24 24\"\n",
              "       width=\"24px\">\n",
              "    <path d=\"M0 0h24v24H0V0z\" fill=\"none\"/>\n",
              "    <path d=\"M18.56 5.44l.94 2.06.94-2.06 2.06-.94-2.06-.94-.94-2.06-.94 2.06-2.06.94zm-11 1L8.5 8.5l.94-2.06 2.06-.94-2.06-.94L8.5 2.5l-.94 2.06-2.06.94zm10 10l.94 2.06.94-2.06 2.06-.94-2.06-.94-.94-2.06-.94 2.06-2.06.94z\"/><path d=\"M17.41 7.96l-1.37-1.37c-.4-.4-.92-.59-1.43-.59-.52 0-1.04.2-1.43.59L10.3 9.45l-7.72 7.72c-.78.78-.78 2.05 0 2.83L4 21.41c.39.39.9.59 1.41.59.51 0 1.02-.2 1.41-.59l7.78-7.78 2.81-2.81c.8-.78.8-2.07 0-2.86zM5.41 20L4 18.59l7.72-7.72 1.47 1.35L5.41 20z\"/>\n",
              "  </svg>\n",
              "      </button>\n",
              "      \n",
              "  <style>\n",
              "    .colab-df-container {\n",
              "      display:flex;\n",
              "      flex-wrap:wrap;\n",
              "      gap: 12px;\n",
              "    }\n",
              "\n",
              "    .colab-df-convert {\n",
              "      background-color: #E8F0FE;\n",
              "      border: none;\n",
              "      border-radius: 50%;\n",
              "      cursor: pointer;\n",
              "      display: none;\n",
              "      fill: #1967D2;\n",
              "      height: 32px;\n",
              "      padding: 0 0 0 0;\n",
              "      width: 32px;\n",
              "    }\n",
              "\n",
              "    .colab-df-convert:hover {\n",
              "      background-color: #E2EBFA;\n",
              "      box-shadow: 0px 1px 2px rgba(60, 64, 67, 0.3), 0px 1px 3px 1px rgba(60, 64, 67, 0.15);\n",
              "      fill: #174EA6;\n",
              "    }\n",
              "\n",
              "    [theme=dark] .colab-df-convert {\n",
              "      background-color: #3B4455;\n",
              "      fill: #D2E3FC;\n",
              "    }\n",
              "\n",
              "    [theme=dark] .colab-df-convert:hover {\n",
              "      background-color: #434B5C;\n",
              "      box-shadow: 0px 1px 3px 1px rgba(0, 0, 0, 0.15);\n",
              "      filter: drop-shadow(0px 1px 2px rgba(0, 0, 0, 0.3));\n",
              "      fill: #FFFFFF;\n",
              "    }\n",
              "  </style>\n",
              "\n",
              "      <script>\n",
              "        const buttonEl =\n",
              "          document.querySelector('#df-df76842d-52fe-4453-9a67-3ac1db8f1086 button.colab-df-convert');\n",
              "        buttonEl.style.display =\n",
              "          google.colab.kernel.accessAllowed ? 'block' : 'none';\n",
              "\n",
              "        async function convertToInteractive(key) {\n",
              "          const element = document.querySelector('#df-df76842d-52fe-4453-9a67-3ac1db8f1086');\n",
              "          const dataTable =\n",
              "            await google.colab.kernel.invokeFunction('convertToInteractive',\n",
              "                                                     [key], {});\n",
              "          if (!dataTable) return;\n",
              "\n",
              "          const docLinkHtml = 'Like what you see? Visit the ' +\n",
              "            '<a target=\"_blank\" href=https://colab.research.google.com/notebooks/data_table.ipynb>data table notebook</a>'\n",
              "            + ' to learn more about interactive tables.';\n",
              "          element.innerHTML = '';\n",
              "          dataTable['output_type'] = 'display_data';\n",
              "          await google.colab.output.renderOutput(dataTable, element);\n",
              "          const docLink = document.createElement('div');\n",
              "          docLink.innerHTML = docLinkHtml;\n",
              "          element.appendChild(docLink);\n",
              "        }\n",
              "      </script>\n",
              "    </div>\n",
              "  </div>\n",
              "  "
            ]
          },
          "metadata": {},
          "execution_count": 14
        }
      ],
      "source": [
        "df = pd.read_csv(data,header = None)\n",
        "print(df.shape)\n",
        "df.head(2)"
      ]
    },
    {
      "cell_type": "markdown",
      "metadata": {
        "id": "3cOh6yDw-aK-"
      },
      "source": [
        "# Pre-process data, train-test split"
      ]
    },
    {
      "cell_type": "code",
      "execution_count": 15,
      "metadata": {
        "id": "OU7-9EgX-aK_"
      },
      "outputs": [],
      "source": [
        "#Separate out X and Y\n",
        "X = df.iloc[:, :8]\n",
        "Y = df.iloc[:, 8:9]"
      ]
    },
    {
      "cell_type": "code",
      "source": [
        "X.count(), Y.count()"
      ],
      "metadata": {
        "id": "mUah2cB1jkWD",
        "outputId": "9d7f9af4-db9d-4ddd-8d90-54fb321455af",
        "colab": {
          "base_uri": "https://localhost:8080/"
        }
      },
      "execution_count": 16,
      "outputs": [
        {
          "output_type": "execute_result",
          "data": {
            "text/plain": [
              "(0    768\n",
              " 1    768\n",
              " 2    768\n",
              " 3    768\n",
              " 4    768\n",
              " 5    768\n",
              " 6    768\n",
              " 7    768\n",
              " dtype: int64, 8    768\n",
              " dtype: int64)"
            ]
          },
          "metadata": {},
          "execution_count": 16
        }
      ]
    },
    {
      "cell_type": "markdown",
      "source": [
        "#### Data Augmentation"
      ],
      "metadata": {
        "id": "rkD57DB5joZG"
      }
    },
    {
      "cell_type": "code",
      "source": [
        "df3 = df.copy()\n",
        "target = 8\n",
        "\n",
        "print('Original class distribution:')\n",
        "print(df3[target].value_counts())\n",
        "\n",
        "xf = df3.columns\n",
        "X_t = df3.drop([target],axis=1)\n",
        "Y_t = df3[target]\n",
        "\n",
        "smote = SMOTE()\n",
        "X_t, Y_t = smote.fit_resample(X, Y)\n",
        "\n",
        "df3 = pd.DataFrame(X_t, columns=xf)\n",
        "df3[target] = Y_t\n",
        "\n",
        "print('\\nClass distribution after applying SMOTE Technique:',)\n",
        "print(Y_t.value_counts())"
      ],
      "metadata": {
        "id": "gOKPkSTIjsFo",
        "outputId": "00328e8c-ed0e-4e2e-b41c-86a1065d115b",
        "colab": {
          "base_uri": "https://localhost:8080/"
        }
      },
      "execution_count": 17,
      "outputs": [
        {
          "output_type": "stream",
          "name": "stdout",
          "text": [
            "Original class distribution:\n",
            "0    500\n",
            "1    268\n",
            "Name: 8, dtype: int64\n",
            "\n",
            "Class distribution after applying SMOTE Technique:\n",
            "8\n",
            "0    500\n",
            "1    500\n",
            "dtype: int64\n"
          ]
        }
      ]
    },
    {
      "cell_type": "markdown",
      "source": [
        "#### Various other preprocessing techniques which I've commented. I've just used the MinMaxScaler for the implementation\n",
        "\n",
        "1. MinMaxScaler\n",
        "2. Normalizer\n",
        "3. Binarizer\n",
        "4. StandardScaler"
      ],
      "metadata": {
        "id": "woYC_Z0nFE2D"
      }
    },
    {
      "cell_type": "code",
      "source": [
        "# #StandardScaler\n",
        "# transforms = StandardScaler()\n",
        "# standardScale_X = transforms.fit_transform(X)\n",
        "# print(standardScale_X)\n",
        "\n",
        "# transforms = Normalizer()\n",
        "# normalizer_x = transforms.fit_transform(X)\n",
        "# print(normalizer_x)\n",
        "\n",
        "# transforms = Binarizer(threshold=0.5)\n",
        "# binarizer_x = transforms.fit_transform(X)\n",
        "# print(binarizer_x)"
      ],
      "metadata": {
        "id": "OoopQ0ZGFNQH"
      },
      "execution_count": 18,
      "outputs": []
    },
    {
      "cell_type": "code",
      "source": [
        "#scale Features from 0 to 1\n",
        "transforms = MinMaxScaler(feature_range=(0,1))\n",
        "scaler_X =  transforms.fit_transform(X_t)\n",
        "print(scaler_X)"
      ],
      "metadata": {
        "id": "6OYFjCFJBCYj",
        "outputId": "e9237357-0f1b-4efd-804e-b6dddc08b864",
        "colab": {
          "base_uri": "https://localhost:8080/"
        }
      },
      "execution_count": 19,
      "outputs": [
        {
          "output_type": "stream",
          "name": "stdout",
          "text": [
            "[[0.35294118 0.74371859 0.59016393 ... 0.50074516 0.23441503 0.48333333]\n",
            " [0.05882353 0.42713568 0.54098361 ... 0.39642325 0.11656704 0.16666667]\n",
            " [0.47058824 0.91959799 0.52459016 ... 0.34724292 0.25362938 0.18333333]\n",
            " ...\n",
            " [0.70588235 0.65829146 0.         ... 0.67733995 0.21136971 0.35      ]\n",
            " [0.05882353 0.74874372 0.55737705 ... 0.44298202 0.12301878 0.35      ]\n",
            " [0.35294118 0.75376884 0.60655738 ... 0.49436451 0.20638412 0.45      ]]\n"
          ]
        }
      ]
    },
    {
      "cell_type": "markdown",
      "source": [
        "#### Split data into train, validation and test"
      ],
      "metadata": {
        "id": "bWFtISrP4HRV"
      }
    },
    {
      "cell_type": "code",
      "source": [
        "df.shape"
      ],
      "metadata": {
        "colab": {
          "base_uri": "https://localhost:8080/"
        },
        "id": "e0itaFSO07NI",
        "outputId": "eb69c427-d7c4-4787-d67c-c0e03933c24c"
      },
      "execution_count": 20,
      "outputs": [
        {
          "output_type": "execute_result",
          "data": {
            "text/plain": [
              "(768, 9)"
            ]
          },
          "metadata": {},
          "execution_count": 20
        }
      ]
    },
    {
      "cell_type": "code",
      "source": [
        "X_train, X_test, Y_train, Y_test = train_test_split(scaler_X, Y_t, test_size=0.15, random_state=1)\n",
        "X_train, X_val, Y_train, Y_val = train_test_split(X_train, Y_train, test_size=0.15, random_state=1)"
      ],
      "metadata": {
        "id": "AVyxsZh_08VA"
      },
      "execution_count": 21,
      "outputs": []
    },
    {
      "cell_type": "code",
      "source": [
        "print(X_train.shape,Y_train.shape,X_val.shape,Y_val.shape,X_test.shape,Y_test.shape)"
      ],
      "metadata": {
        "colab": {
          "base_uri": "https://localhost:8080/"
        },
        "id": "Q9qopArM6VJF",
        "outputId": "9b96c100-72dc-4f67-b519-8b07a9b38398"
      },
      "execution_count": 22,
      "outputs": [
        {
          "output_type": "stream",
          "name": "stdout",
          "text": [
            "(722, 8) (722, 1) (128, 8) (128, 1) (150, 8) (150, 1)\n"
          ]
        }
      ]
    },
    {
      "cell_type": "code",
      "execution_count": 23,
      "metadata": {
        "id": "j7rFixE1-aK_"
      },
      "outputs": [],
      "source": [
        "# # Train- Test Split\n",
        "# (X_train, X_test, Y_train, Y_test) = train_test_split(scaler_X, Y, test_size=0.33, random_state=1)\n",
        "# print(X_train.shape,X_test.shape,Y_train.shape,Y_test.shape)"
      ]
    },
    {
      "cell_type": "markdown",
      "metadata": {
        "id": "QQzYPUpl-aLA"
      },
      "source": [
        "# Build and compile a deep learning model"
      ]
    },
    {
      "cell_type": "code",
      "execution_count": 24,
      "metadata": {
        "id": "i6nBxp5V-aLA"
      },
      "outputs": [],
      "source": [
        "# Build the deep neural network\n",
        "model = Sequential()\n",
        "model.add(Dense(10, input_dim=8, activation='relu'))\n",
        "model.add(Dense(6, activation='relu'))\n",
        "model.add(Dense(1, activation='sigmoid'))"
      ]
    },
    {
      "cell_type": "code",
      "execution_count": 25,
      "metadata": {
        "id": "Nvv9QPVU-aLB"
      },
      "outputs": [],
      "source": [
        "# Compile the DNN\n",
        "\n",
        "model.compile(loss='binary_crossentropy', optimizer='adam', metrics=['accuracy'])"
      ]
    },
    {
      "cell_type": "code",
      "execution_count": 26,
      "metadata": {
        "id": "FhllulpQ-aLB",
        "outputId": "6d0d6acd-4a0f-482e-c51f-c0f7a81fe431",
        "colab": {
          "base_uri": "https://localhost:8080/"
        }
      },
      "outputs": [
        {
          "output_type": "stream",
          "name": "stdout",
          "text": [
            "Epoch 1/100\n",
            "145/145 [==============================] - 1s 3ms/step - loss: 0.7207 - accuracy: 0.4903 - val_loss: 0.7097 - val_accuracy: 0.4609\n",
            "Epoch 2/100\n",
            "145/145 [==============================] - 0s 2ms/step - loss: 0.7018 - accuracy: 0.4529 - val_loss: 0.7006 - val_accuracy: 0.3594\n",
            "Epoch 3/100\n",
            "145/145 [==============================] - 0s 2ms/step - loss: 0.6979 - accuracy: 0.3615 - val_loss: 0.6966 - val_accuracy: 0.3828\n",
            "Epoch 4/100\n",
            "145/145 [==============================] - 0s 2ms/step - loss: 0.6958 - accuracy: 0.4377 - val_loss: 0.6942 - val_accuracy: 0.5156\n",
            "Epoch 5/100\n",
            "145/145 [==============================] - 0s 2ms/step - loss: 0.6941 - accuracy: 0.5083 - val_loss: 0.6911 - val_accuracy: 0.5547\n",
            "Epoch 6/100\n",
            "145/145 [==============================] - 0s 2ms/step - loss: 0.6903 - accuracy: 0.5554 - val_loss: 0.6890 - val_accuracy: 0.5859\n",
            "Epoch 7/100\n",
            "145/145 [==============================] - 0s 2ms/step - loss: 0.6840 - accuracy: 0.5914 - val_loss: 0.6823 - val_accuracy: 0.6172\n",
            "Epoch 8/100\n",
            "145/145 [==============================] - 0s 2ms/step - loss: 0.6731 - accuracy: 0.6496 - val_loss: 0.6754 - val_accuracy: 0.6328\n",
            "Epoch 9/100\n",
            "145/145 [==============================] - 0s 2ms/step - loss: 0.6608 - accuracy: 0.6537 - val_loss: 0.6615 - val_accuracy: 0.6406\n",
            "Epoch 10/100\n",
            "145/145 [==============================] - 0s 2ms/step - loss: 0.6458 - accuracy: 0.6814 - val_loss: 0.6453 - val_accuracy: 0.6875\n",
            "Epoch 11/100\n",
            "145/145 [==============================] - 0s 2ms/step - loss: 0.6307 - accuracy: 0.6884 - val_loss: 0.6371 - val_accuracy: 0.7109\n",
            "Epoch 12/100\n",
            "145/145 [==============================] - 0s 2ms/step - loss: 0.6195 - accuracy: 0.6981 - val_loss: 0.6196 - val_accuracy: 0.7031\n",
            "Epoch 13/100\n",
            "145/145 [==============================] - 0s 2ms/step - loss: 0.6055 - accuracy: 0.7327 - val_loss: 0.6147 - val_accuracy: 0.6797\n",
            "Epoch 14/100\n",
            "145/145 [==============================] - 0s 2ms/step - loss: 0.5965 - accuracy: 0.7133 - val_loss: 0.5955 - val_accuracy: 0.7031\n",
            "Epoch 15/100\n",
            "145/145 [==============================] - 0s 2ms/step - loss: 0.5852 - accuracy: 0.7313 - val_loss: 0.5849 - val_accuracy: 0.7422\n",
            "Epoch 16/100\n",
            "145/145 [==============================] - 0s 2ms/step - loss: 0.5770 - accuracy: 0.7452 - val_loss: 0.5823 - val_accuracy: 0.7109\n",
            "Epoch 17/100\n",
            "145/145 [==============================] - 0s 2ms/step - loss: 0.5698 - accuracy: 0.7521 - val_loss: 0.5706 - val_accuracy: 0.7188\n",
            "Epoch 18/100\n",
            "145/145 [==============================] - 0s 2ms/step - loss: 0.5635 - accuracy: 0.7493 - val_loss: 0.5608 - val_accuracy: 0.7500\n",
            "Epoch 19/100\n",
            "145/145 [==============================] - 0s 2ms/step - loss: 0.5571 - accuracy: 0.7465 - val_loss: 0.5537 - val_accuracy: 0.7344\n",
            "Epoch 20/100\n",
            "145/145 [==============================] - 0s 2ms/step - loss: 0.5509 - accuracy: 0.7438 - val_loss: 0.5530 - val_accuracy: 0.7266\n",
            "Epoch 21/100\n",
            "145/145 [==============================] - 0s 2ms/step - loss: 0.5487 - accuracy: 0.7521 - val_loss: 0.5426 - val_accuracy: 0.7500\n",
            "Epoch 22/100\n",
            "145/145 [==============================] - 0s 2ms/step - loss: 0.5445 - accuracy: 0.7452 - val_loss: 0.5381 - val_accuracy: 0.7500\n",
            "Epoch 23/100\n",
            "145/145 [==============================] - 0s 2ms/step - loss: 0.5403 - accuracy: 0.7382 - val_loss: 0.5333 - val_accuracy: 0.7656\n",
            "Epoch 24/100\n",
            "145/145 [==============================] - 0s 2ms/step - loss: 0.5359 - accuracy: 0.7493 - val_loss: 0.5294 - val_accuracy: 0.7656\n",
            "Epoch 25/100\n",
            "145/145 [==============================] - 0s 2ms/step - loss: 0.5343 - accuracy: 0.7507 - val_loss: 0.5277 - val_accuracy: 0.7500\n",
            "Epoch 26/100\n",
            "145/145 [==============================] - 0s 2ms/step - loss: 0.5320 - accuracy: 0.7632 - val_loss: 0.5228 - val_accuracy: 0.7656\n",
            "Epoch 27/100\n",
            "145/145 [==============================] - 0s 2ms/step - loss: 0.5288 - accuracy: 0.7673 - val_loss: 0.5206 - val_accuracy: 0.7656\n",
            "Epoch 28/100\n",
            "145/145 [==============================] - 0s 2ms/step - loss: 0.5288 - accuracy: 0.7507 - val_loss: 0.5189 - val_accuracy: 0.7578\n",
            "Epoch 29/100\n",
            "145/145 [==============================] - 0s 2ms/step - loss: 0.5258 - accuracy: 0.7521 - val_loss: 0.5148 - val_accuracy: 0.7734\n",
            "Epoch 30/100\n",
            "145/145 [==============================] - 0s 2ms/step - loss: 0.5214 - accuracy: 0.7562 - val_loss: 0.5122 - val_accuracy: 0.7734\n",
            "Epoch 31/100\n",
            "145/145 [==============================] - 0s 2ms/step - loss: 0.5194 - accuracy: 0.7548 - val_loss: 0.5100 - val_accuracy: 0.7656\n",
            "Epoch 32/100\n",
            "145/145 [==============================] - 0s 2ms/step - loss: 0.5174 - accuracy: 0.7673 - val_loss: 0.5112 - val_accuracy: 0.7578\n",
            "Epoch 33/100\n",
            "145/145 [==============================] - 0s 2ms/step - loss: 0.5157 - accuracy: 0.7604 - val_loss: 0.5056 - val_accuracy: 0.7734\n",
            "Epoch 34/100\n",
            "145/145 [==============================] - 0s 2ms/step - loss: 0.5162 - accuracy: 0.7576 - val_loss: 0.5051 - val_accuracy: 0.7812\n",
            "Epoch 35/100\n",
            "145/145 [==============================] - 0s 2ms/step - loss: 0.5146 - accuracy: 0.7618 - val_loss: 0.4996 - val_accuracy: 0.7734\n",
            "Epoch 36/100\n",
            "145/145 [==============================] - 0s 2ms/step - loss: 0.5106 - accuracy: 0.7645 - val_loss: 0.4979 - val_accuracy: 0.7734\n",
            "Epoch 37/100\n",
            "145/145 [==============================] - 0s 2ms/step - loss: 0.5106 - accuracy: 0.7604 - val_loss: 0.4980 - val_accuracy: 0.7734\n",
            "Epoch 38/100\n",
            "145/145 [==============================] - 0s 2ms/step - loss: 0.5121 - accuracy: 0.7645 - val_loss: 0.4949 - val_accuracy: 0.7734\n",
            "Epoch 39/100\n",
            "145/145 [==============================] - 0s 2ms/step - loss: 0.5078 - accuracy: 0.7632 - val_loss: 0.4937 - val_accuracy: 0.7812\n",
            "Epoch 40/100\n",
            "145/145 [==============================] - 0s 2ms/step - loss: 0.5083 - accuracy: 0.7673 - val_loss: 0.4946 - val_accuracy: 0.7891\n",
            "Epoch 41/100\n",
            "145/145 [==============================] - 0s 2ms/step - loss: 0.5070 - accuracy: 0.7673 - val_loss: 0.4915 - val_accuracy: 0.7734\n",
            "Epoch 42/100\n",
            "145/145 [==============================] - 0s 2ms/step - loss: 0.5061 - accuracy: 0.7673 - val_loss: 0.4896 - val_accuracy: 0.7812\n",
            "Epoch 43/100\n",
            "145/145 [==============================] - 0s 2ms/step - loss: 0.5054 - accuracy: 0.7659 - val_loss: 0.4890 - val_accuracy: 0.7812\n",
            "Epoch 44/100\n",
            "145/145 [==============================] - 0s 2ms/step - loss: 0.5063 - accuracy: 0.7645 - val_loss: 0.4865 - val_accuracy: 0.7812\n",
            "Epoch 45/100\n",
            "145/145 [==============================] - 0s 2ms/step - loss: 0.5055 - accuracy: 0.7618 - val_loss: 0.4947 - val_accuracy: 0.7578\n",
            "Epoch 46/100\n",
            "145/145 [==============================] - 0s 2ms/step - loss: 0.5033 - accuracy: 0.7645 - val_loss: 0.4850 - val_accuracy: 0.7734\n",
            "Epoch 47/100\n",
            "145/145 [==============================] - 0s 2ms/step - loss: 0.5011 - accuracy: 0.7604 - val_loss: 0.4952 - val_accuracy: 0.7891\n",
            "Epoch 48/100\n",
            "145/145 [==============================] - 0s 2ms/step - loss: 0.5030 - accuracy: 0.7673 - val_loss: 0.4860 - val_accuracy: 0.7734\n",
            "Epoch 49/100\n",
            "145/145 [==============================] - 0s 2ms/step - loss: 0.5040 - accuracy: 0.7715 - val_loss: 0.4879 - val_accuracy: 0.7734\n",
            "Epoch 50/100\n",
            "145/145 [==============================] - 0s 2ms/step - loss: 0.4994 - accuracy: 0.7632 - val_loss: 0.4862 - val_accuracy: 0.7734\n",
            "Epoch 51/100\n",
            "145/145 [==============================] - 0s 2ms/step - loss: 0.5027 - accuracy: 0.7604 - val_loss: 0.4825 - val_accuracy: 0.7812\n",
            "Epoch 52/100\n",
            "145/145 [==============================] - 0s 2ms/step - loss: 0.4994 - accuracy: 0.7548 - val_loss: 0.4928 - val_accuracy: 0.7812\n",
            "Epoch 53/100\n",
            "145/145 [==============================] - 0s 2ms/step - loss: 0.4979 - accuracy: 0.7632 - val_loss: 0.4804 - val_accuracy: 0.7656\n",
            "Epoch 54/100\n",
            "145/145 [==============================] - 0s 2ms/step - loss: 0.4972 - accuracy: 0.7673 - val_loss: 0.4859 - val_accuracy: 0.7891\n",
            "Epoch 55/100\n",
            "145/145 [==============================] - 0s 2ms/step - loss: 0.4996 - accuracy: 0.7604 - val_loss: 0.4796 - val_accuracy: 0.7969\n",
            "Epoch 56/100\n",
            "145/145 [==============================] - 0s 2ms/step - loss: 0.4971 - accuracy: 0.7632 - val_loss: 0.4848 - val_accuracy: 0.7891\n",
            "Epoch 57/100\n",
            "145/145 [==============================] - 0s 2ms/step - loss: 0.4967 - accuracy: 0.7687 - val_loss: 0.4826 - val_accuracy: 0.7656\n",
            "Epoch 58/100\n",
            "145/145 [==============================] - 0s 2ms/step - loss: 0.4964 - accuracy: 0.7673 - val_loss: 0.4769 - val_accuracy: 0.7734\n",
            "Epoch 59/100\n",
            "145/145 [==============================] - 0s 2ms/step - loss: 0.4950 - accuracy: 0.7701 - val_loss: 0.4823 - val_accuracy: 0.7734\n",
            "Epoch 60/100\n",
            "145/145 [==============================] - 0s 2ms/step - loss: 0.4954 - accuracy: 0.7715 - val_loss: 0.4817 - val_accuracy: 0.7656\n",
            "Epoch 61/100\n",
            "145/145 [==============================] - 0s 2ms/step - loss: 0.4954 - accuracy: 0.7715 - val_loss: 0.4776 - val_accuracy: 0.7734\n",
            "Epoch 62/100\n",
            "145/145 [==============================] - 0s 2ms/step - loss: 0.4942 - accuracy: 0.7701 - val_loss: 0.4775 - val_accuracy: 0.7812\n",
            "Epoch 63/100\n",
            "145/145 [==============================] - 0s 2ms/step - loss: 0.4937 - accuracy: 0.7632 - val_loss: 0.4736 - val_accuracy: 0.7812\n",
            "Epoch 64/100\n",
            "145/145 [==============================] - 0s 2ms/step - loss: 0.4920 - accuracy: 0.7673 - val_loss: 0.4710 - val_accuracy: 0.7969\n",
            "Epoch 65/100\n",
            "145/145 [==============================] - 0s 2ms/step - loss: 0.4933 - accuracy: 0.7701 - val_loss: 0.4731 - val_accuracy: 0.7891\n",
            "Epoch 66/100\n",
            "145/145 [==============================] - 0s 2ms/step - loss: 0.4907 - accuracy: 0.7701 - val_loss: 0.4703 - val_accuracy: 0.7812\n",
            "Epoch 67/100\n",
            "145/145 [==============================] - 0s 2ms/step - loss: 0.4904 - accuracy: 0.7742 - val_loss: 0.4723 - val_accuracy: 0.7734\n",
            "Epoch 68/100\n",
            "145/145 [==============================] - 0s 2ms/step - loss: 0.4894 - accuracy: 0.7673 - val_loss: 0.4675 - val_accuracy: 0.7812\n",
            "Epoch 69/100\n",
            "145/145 [==============================] - 0s 2ms/step - loss: 0.4891 - accuracy: 0.7673 - val_loss: 0.4694 - val_accuracy: 0.7891\n",
            "Epoch 70/100\n",
            "145/145 [==============================] - 0s 2ms/step - loss: 0.4893 - accuracy: 0.7756 - val_loss: 0.4694 - val_accuracy: 0.7891\n",
            "Epoch 71/100\n",
            "145/145 [==============================] - 0s 2ms/step - loss: 0.4884 - accuracy: 0.7659 - val_loss: 0.4681 - val_accuracy: 0.7812\n",
            "Epoch 72/100\n",
            "145/145 [==============================] - 0s 2ms/step - loss: 0.4898 - accuracy: 0.7604 - val_loss: 0.4670 - val_accuracy: 0.7891\n",
            "Epoch 73/100\n",
            "145/145 [==============================] - 0s 2ms/step - loss: 0.4888 - accuracy: 0.7618 - val_loss: 0.4671 - val_accuracy: 0.7891\n",
            "Epoch 74/100\n",
            "145/145 [==============================] - 0s 2ms/step - loss: 0.4867 - accuracy: 0.7729 - val_loss: 0.4722 - val_accuracy: 0.7891\n",
            "Epoch 75/100\n",
            "145/145 [==============================] - 0s 2ms/step - loss: 0.4889 - accuracy: 0.7659 - val_loss: 0.4739 - val_accuracy: 0.7812\n",
            "Epoch 76/100\n",
            "145/145 [==============================] - 0s 2ms/step - loss: 0.4891 - accuracy: 0.7604 - val_loss: 0.4644 - val_accuracy: 0.7891\n",
            "Epoch 77/100\n",
            "145/145 [==============================] - 0s 2ms/step - loss: 0.4855 - accuracy: 0.7659 - val_loss: 0.4645 - val_accuracy: 0.7891\n",
            "Epoch 78/100\n",
            "145/145 [==============================] - 0s 2ms/step - loss: 0.4850 - accuracy: 0.7770 - val_loss: 0.4641 - val_accuracy: 0.7812\n",
            "Epoch 79/100\n",
            "145/145 [==============================] - 0s 2ms/step - loss: 0.4837 - accuracy: 0.7645 - val_loss: 0.4639 - val_accuracy: 0.7891\n",
            "Epoch 80/100\n",
            "145/145 [==============================] - 0s 2ms/step - loss: 0.4860 - accuracy: 0.7645 - val_loss: 0.4622 - val_accuracy: 0.7891\n",
            "Epoch 81/100\n",
            "145/145 [==============================] - 0s 2ms/step - loss: 0.4841 - accuracy: 0.7756 - val_loss: 0.4654 - val_accuracy: 0.7891\n",
            "Epoch 82/100\n",
            "145/145 [==============================] - 0s 2ms/step - loss: 0.4818 - accuracy: 0.7673 - val_loss: 0.4825 - val_accuracy: 0.7500\n",
            "Epoch 83/100\n",
            "145/145 [==============================] - 0s 2ms/step - loss: 0.4838 - accuracy: 0.7632 - val_loss: 0.4639 - val_accuracy: 0.7891\n",
            "Epoch 84/100\n",
            "145/145 [==============================] - 0s 2ms/step - loss: 0.4815 - accuracy: 0.7632 - val_loss: 0.4637 - val_accuracy: 0.7891\n",
            "Epoch 85/100\n",
            "145/145 [==============================] - 0s 2ms/step - loss: 0.4796 - accuracy: 0.7673 - val_loss: 0.4630 - val_accuracy: 0.7891\n",
            "Epoch 86/100\n",
            "145/145 [==============================] - 0s 2ms/step - loss: 0.4857 - accuracy: 0.7659 - val_loss: 0.4597 - val_accuracy: 0.7891\n",
            "Epoch 87/100\n",
            "145/145 [==============================] - 0s 2ms/step - loss: 0.4794 - accuracy: 0.7659 - val_loss: 0.4573 - val_accuracy: 0.7891\n",
            "Epoch 88/100\n",
            "145/145 [==============================] - 0s 2ms/step - loss: 0.4794 - accuracy: 0.7729 - val_loss: 0.4598 - val_accuracy: 0.7891\n",
            "Epoch 89/100\n",
            "145/145 [==============================] - 0s 2ms/step - loss: 0.4799 - accuracy: 0.7673 - val_loss: 0.4556 - val_accuracy: 0.7891\n",
            "Epoch 90/100\n",
            "145/145 [==============================] - 0s 2ms/step - loss: 0.4792 - accuracy: 0.7673 - val_loss: 0.4555 - val_accuracy: 0.7969\n",
            "Epoch 91/100\n",
            "145/145 [==============================] - 0s 2ms/step - loss: 0.4763 - accuracy: 0.7715 - val_loss: 0.4539 - val_accuracy: 0.7891\n",
            "Epoch 92/100\n",
            "145/145 [==============================] - 0s 2ms/step - loss: 0.4771 - accuracy: 0.7701 - val_loss: 0.4534 - val_accuracy: 0.7969\n",
            "Epoch 93/100\n",
            "145/145 [==============================] - 0s 2ms/step - loss: 0.4793 - accuracy: 0.7604 - val_loss: 0.4524 - val_accuracy: 0.7812\n",
            "Epoch 94/100\n",
            "145/145 [==============================] - 0s 2ms/step - loss: 0.4746 - accuracy: 0.7687 - val_loss: 0.4615 - val_accuracy: 0.7891\n",
            "Epoch 95/100\n",
            "145/145 [==============================] - 0s 2ms/step - loss: 0.4764 - accuracy: 0.7590 - val_loss: 0.4497 - val_accuracy: 0.7969\n",
            "Epoch 96/100\n",
            "145/145 [==============================] - 0s 2ms/step - loss: 0.4745 - accuracy: 0.7687 - val_loss: 0.4482 - val_accuracy: 0.7969\n",
            "Epoch 97/100\n",
            "145/145 [==============================] - 0s 2ms/step - loss: 0.4733 - accuracy: 0.7632 - val_loss: 0.4477 - val_accuracy: 0.7969\n",
            "Epoch 98/100\n",
            "145/145 [==============================] - 0s 2ms/step - loss: 0.4767 - accuracy: 0.7687 - val_loss: 0.4513 - val_accuracy: 0.7891\n",
            "Epoch 99/100\n",
            "145/145 [==============================] - 0s 2ms/step - loss: 0.4742 - accuracy: 0.7645 - val_loss: 0.4479 - val_accuracy: 0.7969\n",
            "Epoch 100/100\n",
            "145/145 [==============================] - 0s 2ms/step - loss: 0.4740 - accuracy: 0.7632 - val_loss: 0.4503 - val_accuracy: 0.7734\n"
          ]
        }
      ],
      "source": [
        "# Fit the DNN with your train data\n",
        "\n",
        "history = model.fit(X_train, Y_train, validation_data=(X_val, Y_val), epochs=100, batch_size=5)"
      ]
    },
    {
      "cell_type": "markdown",
      "source": [
        "#### Epoch vs Train/ Validation "
      ],
      "metadata": {
        "id": "3Nv123N_9jGS"
      }
    },
    {
      "cell_type": "code",
      "source": [
        "loss_train = history.history['accuracy']\n",
        "loss_val = history.history['val_accuracy']\n",
        "epochs = range(1,101)\n",
        "plt.plot(epochs, loss_train, 'g', label='Training accuracy')\n",
        "plt.plot(epochs, loss_val, 'b', label='validation accuracy')\n",
        "plt.title('Training and Validation accuracy')\n",
        "plt.xlabel('Epochs')\n",
        "plt.ylabel('Accuracy')\n",
        "plt.legend()\n",
        "plt.show()"
      ],
      "metadata": {
        "id": "TjemjBB191eL",
        "outputId": "2830efde-ae0c-4231-a909-0d944db1c11a",
        "colab": {
          "base_uri": "https://localhost:8080/",
          "height": 295
        }
      },
      "execution_count": 27,
      "outputs": [
        {
          "output_type": "display_data",
          "data": {
            "text/plain": [
              "<Figure size 432x288 with 1 Axes>"
            ],
            "image/png": "[encoded data removed]"
          },
          "metadata": {
            "needs_background": "light"
          }
        }
      ]
    },
    {
      "cell_type": "code",
      "execution_count": 28,
      "metadata": {
        "id": "hWEVknNT-aLB",
        "outputId": "74c816c6-5e95-49df-9a8f-7b9b8f50d3ba",
        "colab": {
          "base_uri": "https://localhost:8080/"
        }
      },
      "outputs": [
        {
          "output_type": "stream",
          "name": "stdout",
          "text": [
            "5/5 [==============================] - 0s 2ms/step - loss: 0.4890 - accuracy: 0.7600\n",
            "Accuracy: 76.00%\n"
          ]
        }
      ],
      "source": [
        "# Evaluate the model\n",
        "scores = model.evaluate(X_test, Y_test)\n",
        "print (\"Accuracy: %.2f%%\" %(scores[1]*100))"
      ]
    },
    {
      "cell_type": "markdown",
      "source": [
        "#### Model Evaluation\n",
        "ROC vs AUC implementation using sklearn's roc_auc_score metrics"
      ],
      "metadata": {
        "id": "4jnI-_GCCMdc"
      }
    },
    {
      "cell_type": "code",
      "source": [
        "y_pred_prob_nn_1 = model.predict(X_test)"
      ],
      "metadata": {
        "id": "oBm7CanilByx"
      },
      "execution_count": 29,
      "outputs": []
    },
    {
      "cell_type": "code",
      "source": [
        "y_pred_prob_nn_1[:10]"
      ],
      "metadata": {
        "id": "24HztuhAyJPx",
        "outputId": "a241ea31-82e1-4681-bddb-895d9f457c1d",
        "colab": {
          "base_uri": "https://localhost:8080/"
        }
      },
      "execution_count": 30,
      "outputs": [
        {
          "output_type": "execute_result",
          "data": {
            "text/plain": [
              "array([[0.1778045 ],\n",
              "       [0.66669977],\n",
              "       [0.17961785],\n",
              "       [0.01806697],\n",
              "       [0.3738428 ],\n",
              "       [0.7966547 ],\n",
              "       [0.268863  ],\n",
              "       [0.7436787 ],\n",
              "       [0.4135582 ],\n",
              "       [0.02972955]], dtype=float32)"
            ]
          },
          "metadata": {},
          "execution_count": 30
        }
      ]
    },
    {
      "cell_type": "code",
      "source": [
        "print(roc_auc_score(Y_test,y_pred_prob_nn_1))"
      ],
      "metadata": {
        "id": "5N4xOVGAxuwR",
        "outputId": "5766f55f-b19c-4192-b19e-969959e2b5ca",
        "colab": {
          "base_uri": "https://localhost:8080/"
        }
      },
      "execution_count": 31,
      "outputs": [
        {
          "output_type": "stream",
          "name": "stdout",
          "text": [
            "0.8579185520361992\n"
          ]
        }
      ]
    },
    {
      "cell_type": "code",
      "source": [
        "def plot_roc(y_test, y_pred, model_name):\n",
        "    fpr, tpr, thr = roc_curve(y_test, y_pred)\n",
        "    fig, ax = plt.subplots(figsize=(8, 8))\n",
        "    ax.plot(fpr, tpr, 'k-')\n",
        "    ax.plot([0, 1], [0, 1], 'k--', linewidth=.5)  # roc curve for random model\n",
        "    ax.grid(True)\n",
        "    ax.set(title='ROC Curve for {} on PIMA diabetes problem'.format(model_name),\n",
        "           xlim=[-0.01, 1.01], ylim=[-0.01, 1.01])\n",
        "    \n",
        "plot_roc(Y_test, y_pred_prob_nn_1, 'NN')"
      ],
      "metadata": {
        "id": "Tk7kzJ8bx4v0",
        "outputId": "83373145-4047-4ee4-afa1-950362e72302",
        "colab": {
          "base_uri": "https://localhost:8080/",
          "height": 499
        }
      },
      "execution_count": 32,
      "outputs": [
        {
          "output_type": "display_data",
          "data": {
            "text/plain": [
              "<Figure size 576x576 with 1 Axes>"
            ],
            "image/png": "[encoded data removed]"
          },
          "metadata": {
            "needs_background": "light"
          }
        }
      ]
    }
  ],
  "metadata": {
    "kernelspec": {
      "display_name": "Python 3",
      "language": "python",
      "name": "python3"
    },
    "language_info": {
      "codemirror_mode": {
        "name": "ipython",
        "version": 3
      },
      "file_extension": ".py",
      "mimetype": "text/x-python",
      "name": "python",
      "nbconvert_exporter": "python",
      "pygments_lexer": "ipython3",
      "version": "3.6.4"
    },
    "colab": {
      "name": "Question_1.ipynb",
      "provenance": []
    }
  },
  "nbformat": 4,
  "nbformat_minor": 0
}