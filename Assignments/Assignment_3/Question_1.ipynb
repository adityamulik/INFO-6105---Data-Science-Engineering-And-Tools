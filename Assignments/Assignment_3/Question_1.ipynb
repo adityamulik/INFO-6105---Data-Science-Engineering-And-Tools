{
  "cells": [
    {
      "cell_type": "markdown",
      "metadata": {
        "id": "HVvT8kYY-aK2"
      },
      "source": [
        "1. pre-process the data by scaling/standardizing the 8 columns"
      ]
    },
    {
      "cell_type": "markdown",
      "metadata": {
        "id": "mC1aie3z-aK6"
      },
      "source": [
        "# Understand the problem and read in the data"
      ]
    },
    {
      "cell_type": "markdown",
      "metadata": {
        "id": "jTmkHlAq-aK6"
      },
      "source": [
        "This Kaggle challenge is about predicting the onset of diabetes in 5 years or less. \n",
        "Target variable is Outcome. 1 = yes, the person became diabetic in 5 years, and 0 = No, \n",
        "the person did not. This is a binary classification problem. Please check out the Kaggle\n",
        "link here to see feature \n",
        "details - https://www.kaggle.com/uciml/pima-indians-diabetes-database/data"
      ]
    },
    {
      "cell_type": "code",
      "execution_count": 1,
      "metadata": {
        "id": "g7QEMimr-aK7"
      },
      "outputs": [],
      "source": [
        "'''Import necessary packages'''\n",
        "from keras.models import Sequential\n",
        "from keras.layers import Dense\n",
        "from sklearn.model_selection import train_test_split\n",
        "import seaborn as sns\n",
        "import numpy as np\n",
        "import pandas as pd\n",
        "from google.colab import drive\n",
        "from sklearn.preprocessing import MinMaxScaler\n",
        "from sklearn.preprocessing import StandardScaler\n",
        "from sklearn.preprocessing import Normalizer\n",
        "from sklearn.preprocessing import Binarizer\n",
        "\n",
        "%matplotlib inline"
      ]
    },
    {
      "cell_type": "code",
      "execution_count": 2,
      "metadata": {
        "id": "papbEjf6-aK8",
        "outputId": "a3323c06-113d-42b6-a93b-e1440c654c32",
        "colab": {
          "base_uri": "https://localhost:8080/"
        }
      },
      "outputs": [
        {
          "output_type": "stream",
          "name": "stdout",
          "text": [
            "Mounted at /content/drive\n"
          ]
        }
      ],
      "source": [
        "# Load Data from Google Drive\n",
        "drive.mount('/content/drive')\n",
        "data = open('/content/drive/MyDrive/dataset_INFO6105/pima-indians-diabetes.data')"
      ]
    },
    {
      "cell_type": "code",
      "execution_count": 3,
      "metadata": {
        "id": "QqMTPXRe-aK-",
        "outputId": "af845d31-fdcc-4588-efa2-609d2b6a5cdf",
        "colab": {
          "base_uri": "https://localhost:8080/",
          "height": 130
        }
      },
      "outputs": [
        {
          "output_type": "stream",
          "name": "stdout",
          "text": [
            "(768, 9)\n"
          ]
        },
        {
          "output_type": "execute_result",
          "data": {
            "text/plain": [
              "   0    1   2   3  4     5      6   7  8\n",
              "0  6  148  72  35  0  33.6  0.627  50  1\n",
              "1  1   85  66  29  0  26.6  0.351  31  0"
            ],
            "text/html": [
              "\n",
              "  <div id=\"df-63619786-8a0d-4e69-817b-f63de7f2d994\">\n",
              "    <div class=\"colab-df-container\">\n",
              "      <div>\n",
              "<style scoped>\n",
              "    .dataframe tbody tr th:only-of-type {\n",
              "        vertical-align: middle;\n",
              "    }\n",
              "\n",
              "    .dataframe tbody tr th {\n",
              "        vertical-align: top;\n",
              "    }\n",
              "\n",
              "    .dataframe thead th {\n",
              "        text-align: right;\n",
              "    }\n",
              "</style>\n",
              "<table border=\"1\" class=\"dataframe\">\n",
              "  <thead>\n",
              "    <tr style=\"text-align: right;\">\n",
              "      <th></th>\n",
              "      <th>0</th>\n",
              "      <th>1</th>\n",
              "      <th>2</th>\n",
              "      <th>3</th>\n",
              "      <th>4</th>\n",
              "      <th>5</th>\n",
              "      <th>6</th>\n",
              "      <th>7</th>\n",
              "      <th>8</th>\n",
              "    </tr>\n",
              "  </thead>\n",
              "  <tbody>\n",
              "    <tr>\n",
              "      <th>0</th>\n",
              "      <td>6</td>\n",
              "      <td>148</td>\n",
              "      <td>72</td>\n",
              "      <td>35</td>\n",
              "      <td>0</td>\n",
              "      <td>33.6</td>\n",
              "      <td>0.627</td>\n",
              "      <td>50</td>\n",
              "      <td>1</td>\n",
              "    </tr>\n",
              "    <tr>\n",
              "      <th>1</th>\n",
              "      <td>1</td>\n",
              "      <td>85</td>\n",
              "      <td>66</td>\n",
              "      <td>29</td>\n",
              "      <td>0</td>\n",
              "      <td>26.6</td>\n",
              "      <td>0.351</td>\n",
              "      <td>31</td>\n",
              "      <td>0</td>\n",
              "    </tr>\n",
              "  </tbody>\n",
              "</table>\n",
              "</div>\n",
              "      <button class=\"colab-df-convert\" onclick=\"convertToInteractive('df-63619786-8a0d-4e69-817b-f63de7f2d994')\"\n",
              "              title=\"Convert this dataframe to an interactive table.\"\n",
              "              style=\"display:none;\">\n",
              "        \n",
              "  <svg xmlns=\"http://www.w3.org/2000/svg\" height=\"24px\"viewBox=\"0 0 24 24\"\n",
              "       width=\"24px\">\n",
              "    <path d=\"M0 0h24v24H0V0z\" fill=\"none\"/>\n",
              "    <path d=\"M18.56 5.44l.94 2.06.94-2.06 2.06-.94-2.06-.94-.94-2.06-.94 2.06-2.06.94zm-11 1L8.5 8.5l.94-2.06 2.06-.94-2.06-.94L8.5 2.5l-.94 2.06-2.06.94zm10 10l.94 2.06.94-2.06 2.06-.94-2.06-.94-.94-2.06-.94 2.06-2.06.94z\"/><path d=\"M17.41 7.96l-1.37-1.37c-.4-.4-.92-.59-1.43-.59-.52 0-1.04.2-1.43.59L10.3 9.45l-7.72 7.72c-.78.78-.78 2.05 0 2.83L4 21.41c.39.39.9.59 1.41.59.51 0 1.02-.2 1.41-.59l7.78-7.78 2.81-2.81c.8-.78.8-2.07 0-2.86zM5.41 20L4 18.59l7.72-7.72 1.47 1.35L5.41 20z\"/>\n",
              "  </svg>\n",
              "      </button>\n",
              "      \n",
              "  <style>\n",
              "    .colab-df-container {\n",
              "      display:flex;\n",
              "      flex-wrap:wrap;\n",
              "      gap: 12px;\n",
              "    }\n",
              "\n",
              "    .colab-df-convert {\n",
              "      background-color: #E8F0FE;\n",
              "      border: none;\n",
              "      border-radius: 50%;\n",
              "      cursor: pointer;\n",
              "      display: none;\n",
              "      fill: #1967D2;\n",
              "      height: 32px;\n",
              "      padding: 0 0 0 0;\n",
              "      width: 32px;\n",
              "    }\n",
              "\n",
              "    .colab-df-convert:hover {\n",
              "      background-color: #E2EBFA;\n",
              "      box-shadow: 0px 1px 2px rgba(60, 64, 67, 0.3), 0px 1px 3px 1px rgba(60, 64, 67, 0.15);\n",
              "      fill: #174EA6;\n",
              "    }\n",
              "\n",
              "    [theme=dark] .colab-df-convert {\n",
              "      background-color: #3B4455;\n",
              "      fill: #D2E3FC;\n",
              "    }\n",
              "\n",
              "    [theme=dark] .colab-df-convert:hover {\n",
              "      background-color: #434B5C;\n",
              "      box-shadow: 0px 1px 3px 1px rgba(0, 0, 0, 0.15);\n",
              "      filter: drop-shadow(0px 1px 2px rgba(0, 0, 0, 0.3));\n",
              "      fill: #FFFFFF;\n",
              "    }\n",
              "  </style>\n",
              "\n",
              "      <script>\n",
              "        const buttonEl =\n",
              "          document.querySelector('#df-63619786-8a0d-4e69-817b-f63de7f2d994 button.colab-df-convert');\n",
              "        buttonEl.style.display =\n",
              "          google.colab.kernel.accessAllowed ? 'block' : 'none';\n",
              "\n",
              "        async function convertToInteractive(key) {\n",
              "          const element = document.querySelector('#df-63619786-8a0d-4e69-817b-f63de7f2d994');\n",
              "          const dataTable =\n",
              "            await google.colab.kernel.invokeFunction('convertToInteractive',\n",
              "                                                     [key], {});\n",
              "          if (!dataTable) return;\n",
              "\n",
              "          const docLinkHtml = 'Like what you see? Visit the ' +\n",
              "            '<a target=\"_blank\" href=https://colab.research.google.com/notebooks/data_table.ipynb>data table notebook</a>'\n",
              "            + ' to learn more about interactive tables.';\n",
              "          element.innerHTML = '';\n",
              "          dataTable['output_type'] = 'display_data';\n",
              "          await google.colab.output.renderOutput(dataTable, element);\n",
              "          const docLink = document.createElement('div');\n",
              "          docLink.innerHTML = docLinkHtml;\n",
              "          element.appendChild(docLink);\n",
              "        }\n",
              "      </script>\n",
              "    </div>\n",
              "  </div>\n",
              "  "
            ]
          },
          "metadata": {},
          "execution_count": 3
        }
      ],
      "source": [
        "df = pd.read_csv(data,header = None)\n",
        "print(df.shape)\n",
        "df.head(2)"
      ]
    },
    {
      "cell_type": "markdown",
      "metadata": {
        "id": "3cOh6yDw-aK-"
      },
      "source": [
        "# Pre-process data, train-test split"
      ]
    },
    {
      "cell_type": "code",
      "execution_count": 6,
      "metadata": {
        "id": "OU7-9EgX-aK_"
      },
      "outputs": [],
      "source": [
        "#Separate out X and Y\n",
        "\n",
        "X = df.iloc[:, :8]\n",
        "Y = df.iloc[:, 8:9]"
      ]
    },
    {
      "cell_type": "markdown",
      "source": [
        "#### Various other preprocessing techniques which I've commented. I've just used the MinMaxScaler for the implementation\n",
        "\n",
        "1. MinMaxScaler\n",
        "2. Normalizer\n",
        "3. Binarizer\n",
        "4. StandardScaler"
      ],
      "metadata": {
        "id": "woYC_Z0nFE2D"
      }
    },
    {
      "cell_type": "code",
      "source": [
        "# #StandardScaler\n",
        "# transforms = StandardScaler()\n",
        "# standardScale_X = transforms.fit_transform(X)\n",
        "# print(standardScale_X)\n",
        "\n",
        "# transforms = Normalizer()\n",
        "# normalizer_x = transforms.fit_transform(X)\n",
        "# print(normalizer_x)\n",
        "\n",
        "# transforms = Binarizer(threshold=0.5)\n",
        "# binarizer_x = transforms.fit_transform(X)\n",
        "# print(binarizer_x)"
      ],
      "metadata": {
        "id": "OoopQ0ZGFNQH"
      },
      "execution_count": null,
      "outputs": []
    },
    {
      "cell_type": "code",
      "source": [
        "#scale Features from 0 to 1\n",
        "transforms = MinMaxScaler(feature_range=(0,1))\n",
        "scaler_X =  transforms.fit_transform(X)\n",
        "print(scaler_X)"
      ],
      "metadata": {
        "id": "6OYFjCFJBCYj",
        "outputId": "bbb04192-c07b-4b48-8a73-4b38fb3859de",
        "colab": {
          "base_uri": "https://localhost:8080/"
        }
      },
      "execution_count": 7,
      "outputs": [
        {
          "output_type": "stream",
          "name": "stdout",
          "text": [
            "[[0.35294118 0.74371859 0.59016393 ... 0.50074516 0.23441503 0.48333333]\n",
            " [0.05882353 0.42713568 0.54098361 ... 0.39642325 0.11656704 0.16666667]\n",
            " [0.47058824 0.91959799 0.52459016 ... 0.34724292 0.25362938 0.18333333]\n",
            " ...\n",
            " [0.29411765 0.6080402  0.59016393 ... 0.390462   0.07130658 0.15      ]\n",
            " [0.05882353 0.63316583 0.49180328 ... 0.4485842  0.11571307 0.43333333]\n",
            " [0.05882353 0.46733668 0.57377049 ... 0.45305514 0.10119556 0.03333333]]\n"
          ]
        }
      ]
    },
    {
      "cell_type": "markdown",
      "source": [
        "#### Split data into train, validation and test"
      ],
      "metadata": {
        "id": "bWFtISrP4HRV"
      }
    },
    {
      "cell_type": "code",
      "source": [
        "df.shape"
      ],
      "metadata": {
        "id": "e0itaFSO07NI",
        "outputId": "44e2dbf4-1b27-4bc9-9797-c40f7211cbbc",
        "colab": {
          "base_uri": "https://localhost:8080/"
        }
      },
      "execution_count": 8,
      "outputs": [
        {
          "output_type": "execute_result",
          "data": {
            "text/plain": [
              "(768, 9)"
            ]
          },
          "metadata": {},
          "execution_count": 8
        }
      ]
    },
    {
      "cell_type": "code",
      "source": [
        "X_train, X_test, Y_train, Y_test = train_test_split(scaler_X, Y, test_size=0.15, random_state=1)\n",
        "X_train, X_val, Y_train, Y_val = train_test_split(X_train, Y_train, test_size=0.15, random_state=1)"
      ],
      "metadata": {
        "id": "AVyxsZh_08VA"
      },
      "execution_count": 13,
      "outputs": []
    },
    {
      "cell_type": "code",
      "source": [
        "print(X_train.shape,Y_train.shape,X_val.shape,Y_val.shape,X_test.shape,Y_test.shape)"
      ],
      "metadata": {
        "id": "Q9qopArM6VJF",
        "outputId": "7ad7b6f8-52bf-4ccb-d8b9-1939488b196a",
        "colab": {
          "base_uri": "https://localhost:8080/"
        }
      },
      "execution_count": 15,
      "outputs": [
        {
          "output_type": "stream",
          "name": "stdout",
          "text": [
            "(554, 8) (554, 1) (98, 8) (98, 1) (116, 8) (116, 1)\n"
          ]
        }
      ]
    },
    {
      "cell_type": "code",
      "execution_count": 16,
      "metadata": {
        "id": "j7rFixE1-aK_"
      },
      "outputs": [],
      "source": [
        "# # Train- Test Split\n",
        "# (X_train, X_test, Y_train, Y_test) = train_test_split(scaler_X, Y, test_size=0.33, random_state=1)\n",
        "# print(X_train.shape,X_test.shape,Y_train.shape,Y_test.shape)"
      ]
    },
    {
      "cell_type": "markdown",
      "metadata": {
        "id": "QQzYPUpl-aLA"
      },
      "source": [
        "# Build and compile a deep learning model"
      ]
    },
    {
      "cell_type": "code",
      "execution_count": 18,
      "metadata": {
        "id": "i6nBxp5V-aLA"
      },
      "outputs": [],
      "source": [
        "# Build the deep neural network\n",
        "model = Sequential()\n",
        "model.add(Dense(10, input_dim=8, activation='relu'))\n",
        "model.add(Dense(6, activation='relu'))\n",
        "model.add(Dense(1, activation='sigmoid'))"
      ]
    },
    {
      "cell_type": "code",
      "execution_count": 19,
      "metadata": {
        "id": "Nvv9QPVU-aLB"
      },
      "outputs": [],
      "source": [
        "# Compile the DNN\n",
        "\n",
        "model.compile(loss='binary_crossentropy', optimizer='adam', metrics=['accuracy'])"
      ]
    },
    {
      "cell_type": "code",
      "execution_count": 20,
      "metadata": {
        "id": "FhllulpQ-aLB",
        "outputId": "f4360c74-e3f6-499c-9288-b420575667c0",
        "colab": {
          "base_uri": "https://localhost:8080/"
        }
      },
      "outputs": [
        {
          "output_type": "stream",
          "name": "stdout",
          "text": [
            "Epoch 1/100\n",
            "111/111 [==============================] - 1s 4ms/step - loss: 0.6726 - accuracy: 0.6516 - val_loss: 0.6539 - val_accuracy: 0.6531\n",
            "Epoch 2/100\n",
            "111/111 [==============================] - 0s 2ms/step - loss: 0.6561 - accuracy: 0.6516 - val_loss: 0.6443 - val_accuracy: 0.6531\n",
            "Epoch 3/100\n",
            "111/111 [==============================] - 0s 2ms/step - loss: 0.6498 - accuracy: 0.6516 - val_loss: 0.6394 - val_accuracy: 0.6531\n",
            "Epoch 4/100\n",
            "111/111 [==============================] - 0s 2ms/step - loss: 0.6452 - accuracy: 0.6516 - val_loss: 0.6386 - val_accuracy: 0.6531\n",
            "Epoch 5/100\n",
            "111/111 [==============================] - 0s 2ms/step - loss: 0.6404 - accuracy: 0.6516 - val_loss: 0.6357 - val_accuracy: 0.6531\n",
            "Epoch 6/100\n",
            "111/111 [==============================] - 0s 2ms/step - loss: 0.6344 - accuracy: 0.6516 - val_loss: 0.6300 - val_accuracy: 0.6531\n",
            "Epoch 7/100\n",
            "111/111 [==============================] - 0s 2ms/step - loss: 0.6275 - accuracy: 0.6516 - val_loss: 0.6264 - val_accuracy: 0.6531\n",
            "Epoch 8/100\n",
            "111/111 [==============================] - 0s 2ms/step - loss: 0.6206 - accuracy: 0.6516 - val_loss: 0.6215 - val_accuracy: 0.6531\n",
            "Epoch 9/100\n",
            "111/111 [==============================] - 0s 2ms/step - loss: 0.6132 - accuracy: 0.6516 - val_loss: 0.6135 - val_accuracy: 0.6531\n",
            "Epoch 10/100\n",
            "111/111 [==============================] - 0s 2ms/step - loss: 0.6064 - accuracy: 0.6516 - val_loss: 0.6092 - val_accuracy: 0.6531\n",
            "Epoch 11/100\n",
            "111/111 [==============================] - 0s 2ms/step - loss: 0.5981 - accuracy: 0.6516 - val_loss: 0.6023 - val_accuracy: 0.6531\n",
            "Epoch 12/100\n",
            "111/111 [==============================] - 0s 2ms/step - loss: 0.5900 - accuracy: 0.6516 - val_loss: 0.5999 - val_accuracy: 0.6531\n",
            "Epoch 13/100\n",
            "111/111 [==============================] - 0s 2ms/step - loss: 0.5809 - accuracy: 0.6625 - val_loss: 0.5883 - val_accuracy: 0.7041\n",
            "Epoch 14/100\n",
            "111/111 [==============================] - 0s 2ms/step - loss: 0.5693 - accuracy: 0.6877 - val_loss: 0.5807 - val_accuracy: 0.7347\n",
            "Epoch 15/100\n",
            "111/111 [==============================] - 0s 2ms/step - loss: 0.5605 - accuracy: 0.7130 - val_loss: 0.5680 - val_accuracy: 0.7653\n",
            "Epoch 16/100\n",
            "111/111 [==============================] - 0s 2ms/step - loss: 0.5503 - accuracy: 0.7130 - val_loss: 0.5600 - val_accuracy: 0.7755\n",
            "Epoch 17/100\n",
            "111/111 [==============================] - 0s 2ms/step - loss: 0.5434 - accuracy: 0.7256 - val_loss: 0.5486 - val_accuracy: 0.7857\n",
            "Epoch 18/100\n",
            "111/111 [==============================] - 0s 2ms/step - loss: 0.5370 - accuracy: 0.7292 - val_loss: 0.5444 - val_accuracy: 0.7857\n",
            "Epoch 19/100\n",
            "111/111 [==============================] - 0s 2ms/step - loss: 0.5308 - accuracy: 0.7310 - val_loss: 0.5388 - val_accuracy: 0.7857\n",
            "Epoch 20/100\n",
            "111/111 [==============================] - 0s 2ms/step - loss: 0.5241 - accuracy: 0.7292 - val_loss: 0.5258 - val_accuracy: 0.7857\n",
            "Epoch 21/100\n",
            "111/111 [==============================] - 0s 2ms/step - loss: 0.5187 - accuracy: 0.7347 - val_loss: 0.5295 - val_accuracy: 0.7449\n",
            "Epoch 22/100\n",
            "111/111 [==============================] - 0s 2ms/step - loss: 0.5148 - accuracy: 0.7310 - val_loss: 0.5163 - val_accuracy: 0.7959\n",
            "Epoch 23/100\n",
            "111/111 [==============================] - 0s 2ms/step - loss: 0.5117 - accuracy: 0.7401 - val_loss: 0.5114 - val_accuracy: 0.7755\n",
            "Epoch 24/100\n",
            "111/111 [==============================] - 0s 2ms/step - loss: 0.5066 - accuracy: 0.7437 - val_loss: 0.5074 - val_accuracy: 0.7857\n",
            "Epoch 25/100\n",
            "111/111 [==============================] - 0s 2ms/step - loss: 0.5042 - accuracy: 0.7491 - val_loss: 0.5006 - val_accuracy: 0.8163\n",
            "Epoch 26/100\n",
            "111/111 [==============================] - 0s 2ms/step - loss: 0.4981 - accuracy: 0.7491 - val_loss: 0.5003 - val_accuracy: 0.7959\n",
            "Epoch 27/100\n",
            "111/111 [==============================] - 0s 2ms/step - loss: 0.4972 - accuracy: 0.7509 - val_loss: 0.4915 - val_accuracy: 0.8061\n",
            "Epoch 28/100\n",
            "111/111 [==============================] - 0s 2ms/step - loss: 0.4938 - accuracy: 0.7690 - val_loss: 0.4880 - val_accuracy: 0.8061\n",
            "Epoch 29/100\n",
            "111/111 [==============================] - 0s 2ms/step - loss: 0.4917 - accuracy: 0.7617 - val_loss: 0.4925 - val_accuracy: 0.8163\n",
            "Epoch 30/100\n",
            "111/111 [==============================] - 0s 2ms/step - loss: 0.4899 - accuracy: 0.7509 - val_loss: 0.4868 - val_accuracy: 0.8163\n",
            "Epoch 31/100\n",
            "111/111 [==============================] - 0s 2ms/step - loss: 0.4848 - accuracy: 0.7545 - val_loss: 0.4808 - val_accuracy: 0.7959\n",
            "Epoch 32/100\n",
            "111/111 [==============================] - 0s 2ms/step - loss: 0.4797 - accuracy: 0.7690 - val_loss: 0.4822 - val_accuracy: 0.7653\n",
            "Epoch 33/100\n",
            "111/111 [==============================] - 0s 2ms/step - loss: 0.4831 - accuracy: 0.7617 - val_loss: 0.4713 - val_accuracy: 0.8367\n",
            "Epoch 34/100\n",
            "111/111 [==============================] - 0s 2ms/step - loss: 0.4789 - accuracy: 0.7599 - val_loss: 0.4759 - val_accuracy: 0.7959\n",
            "Epoch 35/100\n",
            "111/111 [==============================] - 0s 2ms/step - loss: 0.4758 - accuracy: 0.7545 - val_loss: 0.4734 - val_accuracy: 0.8367\n",
            "Epoch 36/100\n",
            "111/111 [==============================] - 0s 2ms/step - loss: 0.4750 - accuracy: 0.7617 - val_loss: 0.4706 - val_accuracy: 0.8367\n",
            "Epoch 37/100\n",
            "111/111 [==============================] - 0s 2ms/step - loss: 0.4762 - accuracy: 0.7509 - val_loss: 0.4691 - val_accuracy: 0.8061\n",
            "Epoch 38/100\n",
            "111/111 [==============================] - 0s 2ms/step - loss: 0.4722 - accuracy: 0.7708 - val_loss: 0.4634 - val_accuracy: 0.8265\n",
            "Epoch 39/100\n",
            "111/111 [==============================] - 0s 2ms/step - loss: 0.4739 - accuracy: 0.7671 - val_loss: 0.4635 - val_accuracy: 0.8367\n",
            "Epoch 40/100\n",
            "111/111 [==============================] - 0s 2ms/step - loss: 0.4686 - accuracy: 0.7617 - val_loss: 0.4647 - val_accuracy: 0.8163\n",
            "Epoch 41/100\n",
            "111/111 [==============================] - 0s 2ms/step - loss: 0.4693 - accuracy: 0.7581 - val_loss: 0.4597 - val_accuracy: 0.8061\n",
            "Epoch 42/100\n",
            "111/111 [==============================] - 0s 2ms/step - loss: 0.4665 - accuracy: 0.7599 - val_loss: 0.4581 - val_accuracy: 0.8061\n",
            "Epoch 43/100\n",
            "111/111 [==============================] - 0s 2ms/step - loss: 0.4648 - accuracy: 0.7653 - val_loss: 0.4605 - val_accuracy: 0.7959\n",
            "Epoch 44/100\n",
            "111/111 [==============================] - 0s 2ms/step - loss: 0.4656 - accuracy: 0.7527 - val_loss: 0.4547 - val_accuracy: 0.8061\n",
            "Epoch 45/100\n",
            "111/111 [==============================] - 0s 2ms/step - loss: 0.4637 - accuracy: 0.7563 - val_loss: 0.4573 - val_accuracy: 0.8265\n",
            "Epoch 46/100\n",
            "111/111 [==============================] - 0s 2ms/step - loss: 0.4633 - accuracy: 0.7671 - val_loss: 0.4588 - val_accuracy: 0.8061\n",
            "Epoch 47/100\n",
            "111/111 [==============================] - 0s 2ms/step - loss: 0.4611 - accuracy: 0.7599 - val_loss: 0.4548 - val_accuracy: 0.8265\n",
            "Epoch 48/100\n",
            "111/111 [==============================] - 0s 2ms/step - loss: 0.4614 - accuracy: 0.7726 - val_loss: 0.4524 - val_accuracy: 0.8061\n",
            "Epoch 49/100\n",
            "111/111 [==============================] - 0s 2ms/step - loss: 0.4569 - accuracy: 0.7762 - val_loss: 0.4616 - val_accuracy: 0.7959\n",
            "Epoch 50/100\n",
            "111/111 [==============================] - 0s 2ms/step - loss: 0.4594 - accuracy: 0.7617 - val_loss: 0.4521 - val_accuracy: 0.8061\n",
            "Epoch 51/100\n",
            "111/111 [==============================] - 0s 2ms/step - loss: 0.4577 - accuracy: 0.7653 - val_loss: 0.4581 - val_accuracy: 0.8061\n",
            "Epoch 52/100\n",
            "111/111 [==============================] - 0s 2ms/step - loss: 0.4577 - accuracy: 0.7599 - val_loss: 0.4521 - val_accuracy: 0.8061\n",
            "Epoch 53/100\n",
            "111/111 [==============================] - 0s 2ms/step - loss: 0.4556 - accuracy: 0.7671 - val_loss: 0.4544 - val_accuracy: 0.8061\n",
            "Epoch 54/100\n",
            "111/111 [==============================] - 0s 2ms/step - loss: 0.4546 - accuracy: 0.7671 - val_loss: 0.4493 - val_accuracy: 0.7857\n",
            "Epoch 55/100\n",
            "111/111 [==============================] - 0s 2ms/step - loss: 0.4540 - accuracy: 0.7653 - val_loss: 0.4525 - val_accuracy: 0.8061\n",
            "Epoch 56/100\n",
            "111/111 [==============================] - 0s 2ms/step - loss: 0.4567 - accuracy: 0.7798 - val_loss: 0.4460 - val_accuracy: 0.7857\n",
            "Epoch 57/100\n",
            "111/111 [==============================] - 0s 2ms/step - loss: 0.4566 - accuracy: 0.7726 - val_loss: 0.4459 - val_accuracy: 0.7857\n",
            "Epoch 58/100\n",
            "111/111 [==============================] - 0s 2ms/step - loss: 0.4531 - accuracy: 0.7671 - val_loss: 0.4524 - val_accuracy: 0.8061\n",
            "Epoch 59/100\n",
            "111/111 [==============================] - 0s 2ms/step - loss: 0.4540 - accuracy: 0.7635 - val_loss: 0.4535 - val_accuracy: 0.8061\n",
            "Epoch 60/100\n",
            "111/111 [==============================] - 0s 2ms/step - loss: 0.4498 - accuracy: 0.7780 - val_loss: 0.4512 - val_accuracy: 0.7755\n",
            "Epoch 61/100\n",
            "111/111 [==============================] - 0s 2ms/step - loss: 0.4534 - accuracy: 0.7816 - val_loss: 0.4467 - val_accuracy: 0.7857\n",
            "Epoch 62/100\n",
            "111/111 [==============================] - 0s 2ms/step - loss: 0.4522 - accuracy: 0.7653 - val_loss: 0.4477 - val_accuracy: 0.7959\n",
            "Epoch 63/100\n",
            "111/111 [==============================] - 0s 2ms/step - loss: 0.4526 - accuracy: 0.7708 - val_loss: 0.4525 - val_accuracy: 0.8061\n",
            "Epoch 64/100\n",
            "111/111 [==============================] - 0s 2ms/step - loss: 0.4505 - accuracy: 0.7671 - val_loss: 0.4486 - val_accuracy: 0.7755\n",
            "Epoch 65/100\n",
            "111/111 [==============================] - 0s 2ms/step - loss: 0.4507 - accuracy: 0.7852 - val_loss: 0.4506 - val_accuracy: 0.7857\n",
            "Epoch 66/100\n",
            "111/111 [==============================] - 0s 2ms/step - loss: 0.4503 - accuracy: 0.7671 - val_loss: 0.4471 - val_accuracy: 0.7857\n",
            "Epoch 67/100\n",
            "111/111 [==============================] - 0s 2ms/step - loss: 0.4494 - accuracy: 0.7726 - val_loss: 0.4497 - val_accuracy: 0.8061\n",
            "Epoch 68/100\n",
            "111/111 [==============================] - 0s 2ms/step - loss: 0.4491 - accuracy: 0.7726 - val_loss: 0.4537 - val_accuracy: 0.8061\n",
            "Epoch 69/100\n",
            "111/111 [==============================] - 0s 2ms/step - loss: 0.4498 - accuracy: 0.7744 - val_loss: 0.4492 - val_accuracy: 0.7959\n",
            "Epoch 70/100\n",
            "111/111 [==============================] - 0s 2ms/step - loss: 0.4527 - accuracy: 0.7708 - val_loss: 0.4477 - val_accuracy: 0.7857\n",
            "Epoch 71/100\n",
            "111/111 [==============================] - 0s 2ms/step - loss: 0.4515 - accuracy: 0.7744 - val_loss: 0.4463 - val_accuracy: 0.7857\n",
            "Epoch 72/100\n",
            "111/111 [==============================] - 0s 2ms/step - loss: 0.4507 - accuracy: 0.7798 - val_loss: 0.4519 - val_accuracy: 0.7857\n",
            "Epoch 73/100\n",
            "111/111 [==============================] - 0s 2ms/step - loss: 0.4484 - accuracy: 0.7726 - val_loss: 0.4480 - val_accuracy: 0.7857\n",
            "Epoch 74/100\n",
            "111/111 [==============================] - 0s 2ms/step - loss: 0.4482 - accuracy: 0.7762 - val_loss: 0.4535 - val_accuracy: 0.8061\n",
            "Epoch 75/100\n",
            "111/111 [==============================] - 0s 2ms/step - loss: 0.4479 - accuracy: 0.7834 - val_loss: 0.4511 - val_accuracy: 0.7857\n",
            "Epoch 76/100\n",
            "111/111 [==============================] - 0s 2ms/step - loss: 0.4469 - accuracy: 0.7870 - val_loss: 0.4538 - val_accuracy: 0.8061\n",
            "Epoch 77/100\n",
            "111/111 [==============================] - 0s 2ms/step - loss: 0.4472 - accuracy: 0.7780 - val_loss: 0.4572 - val_accuracy: 0.8061\n",
            "Epoch 78/100\n",
            "111/111 [==============================] - 0s 2ms/step - loss: 0.4470 - accuracy: 0.7726 - val_loss: 0.4494 - val_accuracy: 0.7959\n",
            "Epoch 79/100\n",
            "111/111 [==============================] - 0s 2ms/step - loss: 0.4444 - accuracy: 0.7834 - val_loss: 0.4530 - val_accuracy: 0.8061\n",
            "Epoch 80/100\n",
            "111/111 [==============================] - 0s 2ms/step - loss: 0.4465 - accuracy: 0.7762 - val_loss: 0.4499 - val_accuracy: 0.7959\n",
            "Epoch 81/100\n",
            "111/111 [==============================] - 0s 2ms/step - loss: 0.4460 - accuracy: 0.7726 - val_loss: 0.4503 - val_accuracy: 0.7959\n",
            "Epoch 82/100\n",
            "111/111 [==============================] - 0s 2ms/step - loss: 0.4474 - accuracy: 0.7816 - val_loss: 0.4512 - val_accuracy: 0.7755\n",
            "Epoch 83/100\n",
            "111/111 [==============================] - 0s 2ms/step - loss: 0.4458 - accuracy: 0.7762 - val_loss: 0.4500 - val_accuracy: 0.7755\n",
            "Epoch 84/100\n",
            "111/111 [==============================] - 0s 2ms/step - loss: 0.4474 - accuracy: 0.7726 - val_loss: 0.4467 - val_accuracy: 0.7857\n",
            "Epoch 85/100\n",
            "111/111 [==============================] - 0s 2ms/step - loss: 0.4430 - accuracy: 0.7816 - val_loss: 0.4590 - val_accuracy: 0.8061\n",
            "Epoch 86/100\n",
            "111/111 [==============================] - 0s 2ms/step - loss: 0.4456 - accuracy: 0.7870 - val_loss: 0.4514 - val_accuracy: 0.8061\n",
            "Epoch 87/100\n",
            "111/111 [==============================] - 0s 2ms/step - loss: 0.4445 - accuracy: 0.7671 - val_loss: 0.4468 - val_accuracy: 0.7959\n",
            "Epoch 88/100\n",
            "111/111 [==============================] - 0s 2ms/step - loss: 0.4397 - accuracy: 0.7834 - val_loss: 0.4522 - val_accuracy: 0.7755\n",
            "Epoch 89/100\n",
            "111/111 [==============================] - 0s 2ms/step - loss: 0.4471 - accuracy: 0.7762 - val_loss: 0.4543 - val_accuracy: 0.8061\n",
            "Epoch 90/100\n",
            "111/111 [==============================] - 0s 2ms/step - loss: 0.4449 - accuracy: 0.7780 - val_loss: 0.4517 - val_accuracy: 0.7857\n",
            "Epoch 91/100\n",
            "111/111 [==============================] - 0s 2ms/step - loss: 0.4458 - accuracy: 0.7834 - val_loss: 0.4486 - val_accuracy: 0.7857\n",
            "Epoch 92/100\n",
            "111/111 [==============================] - 0s 2ms/step - loss: 0.4453 - accuracy: 0.7762 - val_loss: 0.4515 - val_accuracy: 0.7857\n",
            "Epoch 93/100\n",
            "111/111 [==============================] - 0s 2ms/step - loss: 0.4442 - accuracy: 0.7798 - val_loss: 0.4477 - val_accuracy: 0.7755\n",
            "Epoch 94/100\n",
            "111/111 [==============================] - 0s 2ms/step - loss: 0.4438 - accuracy: 0.7798 - val_loss: 0.4489 - val_accuracy: 0.7857\n",
            "Epoch 95/100\n",
            "111/111 [==============================] - 0s 2ms/step - loss: 0.4447 - accuracy: 0.7762 - val_loss: 0.4498 - val_accuracy: 0.7857\n",
            "Epoch 96/100\n",
            "111/111 [==============================] - 0s 2ms/step - loss: 0.4430 - accuracy: 0.7762 - val_loss: 0.4485 - val_accuracy: 0.7755\n",
            "Epoch 97/100\n",
            "111/111 [==============================] - 0s 2ms/step - loss: 0.4435 - accuracy: 0.7762 - val_loss: 0.4571 - val_accuracy: 0.8061\n",
            "Epoch 98/100\n",
            "111/111 [==============================] - 0s 2ms/step - loss: 0.4405 - accuracy: 0.7906 - val_loss: 0.4534 - val_accuracy: 0.7755\n",
            "Epoch 99/100\n",
            "111/111 [==============================] - 0s 2ms/step - loss: 0.4441 - accuracy: 0.7870 - val_loss: 0.4510 - val_accuracy: 0.7857\n",
            "Epoch 100/100\n",
            "111/111 [==============================] - 0s 2ms/step - loss: 0.4429 - accuracy: 0.7726 - val_loss: 0.4525 - val_accuracy: 0.7755\n"
          ]
        },
        {
          "output_type": "execute_result",
          "data": {
            "text/plain": [
              "<keras.callbacks.History at 0x7f36378ea1d0>"
            ]
          },
          "metadata": {},
          "execution_count": 20
        }
      ],
      "source": [
        "# Fit the DNN with your train data\n",
        "\n",
        "model.fit(X_train, Y_train, validation_data=(X_val, Y_val), epochs=100, batch_size=5)"
      ]
    },
    {
      "cell_type": "code",
      "execution_count": 21,
      "metadata": {
        "id": "hWEVknNT-aLB",
        "outputId": "47426d22-a38d-48fe-ae64-2b6e344407ce",
        "colab": {
          "base_uri": "https://localhost:8080/"
        }
      },
      "outputs": [
        {
          "output_type": "stream",
          "name": "stdout",
          "text": [
            "4/4 [==============================] - 0s 3ms/step - loss: 0.4837 - accuracy: 0.7759\n",
            "Accuracy: 77.59%\n"
          ]
        }
      ],
      "source": [
        "# Evaluate the model\n",
        "scores = model.evaluate(X_test, Y_test)\n",
        "print (\"Accuracy: %.2f%%\" %(scores[1]*100))"
      ]
    },
    {
      "cell_type": "code",
      "source": [
        ""
      ],
      "metadata": {
        "id": "4jnI-_GCCMdc"
      },
      "execution_count": null,
      "outputs": []
    }
  ],
  "metadata": {
    "kernelspec": {
      "display_name": "Python 3",
      "language": "python",
      "name": "python3"
    },
    "language_info": {
      "codemirror_mode": {
        "name": "ipython",
        "version": 3
      },
      "file_extension": ".py",
      "mimetype": "text/x-python",
      "name": "python",
      "nbconvert_exporter": "python",
      "pygments_lexer": "ipython3",
      "version": "3.6.4"
    },
    "colab": {
      "name": "Question_1.ipynb",
      "provenance": []
    }
  },
  "nbformat": 4,
  "nbformat_minor": 0
}