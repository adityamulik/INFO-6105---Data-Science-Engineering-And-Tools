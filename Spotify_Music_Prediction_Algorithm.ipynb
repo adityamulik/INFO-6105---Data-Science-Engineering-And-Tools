{
  "cells": [
    {
      "cell_type": "markdown",
      "metadata": {
        "id": "view-in-github",
        "colab_type": "text"
      },
      "source": [
        "<a href=\"https://colab.research.google.com/github/adityamulik/INFO-6105---Data-Science-Engineering-And-Tools/blob/main/Spotify_Music_Prediction_Algorithm.ipynb\" target=\"_parent\"><img src=\"https://colab.research.google.com/assets/colab-badge.svg\" alt=\"Open In Colab\"/></a>"
      ]
    },
    {
      "cell_type": "markdown",
      "source": [
        "### Importing necessary Libraries"
      ],
      "metadata": {
        "id": "abzhWZKAablz"
      },
      "id": "abzhWZKAablz"
    },
    {
      "cell_type": "code",
      "execution_count": null,
      "id": "d6ce7187",
      "metadata": {
        "id": "d6ce7187",
        "colab": {
          "base_uri": "https://localhost:8080/"
        },
        "outputId": "de613467-3751-4ac8-ac55-6813a58a1aef"
      },
      "outputs": [
        {
          "output_type": "stream",
          "name": "stderr",
          "text": [
            "/usr/local/lib/python3.7/dist-packages/statsmodels/tools/_testing.py:19: FutureWarning: pandas.util.testing is deprecated. Use the functions in the public API at pandas.testing instead.\n",
            "  import pandas.util.testing as tm\n"
          ]
        }
      ],
      "source": [
        "import pandas as pd\n",
        "import numpy as np \n",
        "import seaborn as sns\n",
        "import os \n",
        "import matplotlib.pyplot as plt\n",
        "import statsmodels.formula.api as smf\n",
        "from google.colab import drive\n",
        "from imblearn.over_sampling import RandomOverSampler\n",
        "from sklearn.model_selection import train_test_split\n",
        "from sklearn.neighbors import KNeighborsClassifier\n",
        "from sklearn.model_selection import train_test_split\n",
        "from sklearn import metrics\n",
        "from sklearn.model_selection import RandomizedSearchCV\n",
        "from sklearn.metrics import confusion_matrix\n",
        "\n",
        "%matplotlib inline"
      ]
    },
    {
      "cell_type": "markdown",
      "source": [
        "### Loading dataset from Google Drive\n",
        "Dataset: https://www.kaggle.com/datasets/yamaerenay/spotify-dataset-19212020-600k-tracks?select=tracks.csv"
      ],
      "metadata": {
        "id": "0p1d3edJbH4J"
      },
      "id": "0p1d3edJbH4J"
    },
    {
      "cell_type": "code",
      "source": [
        "# Load Data from Google Drive\n",
        "drive.mount('/content/drive')\n",
        "csvFile = open('/content/drive/MyDrive/dataset_INFO6105/tracks.csv')"
      ],
      "metadata": {
        "colab": {
          "base_uri": "https://localhost:8080/",
          "height": 353
        },
        "id": "s_A_RqS93MfN",
        "outputId": "cd61fe5d-4d38-4358-a170-3fc46f6ba3ba"
      },
      "id": "s_A_RqS93MfN",
      "execution_count": null,
      "outputs": [
        {
          "output_type": "error",
          "ename": "MessageError",
          "evalue": "ignored",
          "traceback": [
            "\u001b[0;31m---------------------------------------------------------------------------\u001b[0m",
            "\u001b[0;31mMessageError\u001b[0m                              Traceback (most recent call last)",
            "\u001b[0;32m<ipython-input-2-eba767818cc9>\u001b[0m in \u001b[0;36m<module>\u001b[0;34m()\u001b[0m\n\u001b[1;32m      1\u001b[0m \u001b[0;31m# Load Data from Google Drive\u001b[0m\u001b[0;34m\u001b[0m\u001b[0;34m\u001b[0m\u001b[0;34m\u001b[0m\u001b[0m\n\u001b[0;32m----> 2\u001b[0;31m \u001b[0mdrive\u001b[0m\u001b[0;34m.\u001b[0m\u001b[0mmount\u001b[0m\u001b[0;34m(\u001b[0m\u001b[0;34m'/content/drive'\u001b[0m\u001b[0;34m)\u001b[0m\u001b[0;34m\u001b[0m\u001b[0;34m\u001b[0m\u001b[0m\n\u001b[0m\u001b[1;32m      3\u001b[0m \u001b[0mcsvFile\u001b[0m \u001b[0;34m=\u001b[0m \u001b[0mopen\u001b[0m\u001b[0;34m(\u001b[0m\u001b[0;34m'/content/drive/MyDrive/dataset_INFO6105/tracks.csv'\u001b[0m\u001b[0;34m)\u001b[0m\u001b[0;34m\u001b[0m\u001b[0;34m\u001b[0m\u001b[0m\n",
            "\u001b[0;32m/usr/local/lib/python3.7/dist-packages/google/colab/drive.py\u001b[0m in \u001b[0;36mmount\u001b[0;34m(mountpoint, force_remount, timeout_ms)\u001b[0m\n\u001b[1;32m    103\u001b[0m       \u001b[0mforce_remount\u001b[0m\u001b[0;34m=\u001b[0m\u001b[0mforce_remount\u001b[0m\u001b[0;34m,\u001b[0m\u001b[0;34m\u001b[0m\u001b[0;34m\u001b[0m\u001b[0m\n\u001b[1;32m    104\u001b[0m       \u001b[0mtimeout_ms\u001b[0m\u001b[0;34m=\u001b[0m\u001b[0mtimeout_ms\u001b[0m\u001b[0;34m,\u001b[0m\u001b[0;34m\u001b[0m\u001b[0;34m\u001b[0m\u001b[0m\n\u001b[0;32m--> 105\u001b[0;31m       ephemeral=True)\n\u001b[0m\u001b[1;32m    106\u001b[0m \u001b[0;34m\u001b[0m\u001b[0m\n\u001b[1;32m    107\u001b[0m \u001b[0;34m\u001b[0m\u001b[0m\n",
            "\u001b[0;32m/usr/local/lib/python3.7/dist-packages/google/colab/drive.py\u001b[0m in \u001b[0;36m_mount\u001b[0;34m(mountpoint, force_remount, timeout_ms, ephemeral)\u001b[0m\n\u001b[1;32m    118\u001b[0m   \u001b[0;32mif\u001b[0m \u001b[0mephemeral\u001b[0m\u001b[0;34m:\u001b[0m\u001b[0;34m\u001b[0m\u001b[0;34m\u001b[0m\u001b[0m\n\u001b[1;32m    119\u001b[0m     _message.blocking_request(\n\u001b[0;32m--> 120\u001b[0;31m         'request_auth', request={'authType': 'dfs_ephemeral'}, timeout_sec=None)\n\u001b[0m\u001b[1;32m    121\u001b[0m \u001b[0;34m\u001b[0m\u001b[0m\n\u001b[1;32m    122\u001b[0m   \u001b[0mmountpoint\u001b[0m \u001b[0;34m=\u001b[0m \u001b[0m_os\u001b[0m\u001b[0;34m.\u001b[0m\u001b[0mpath\u001b[0m\u001b[0;34m.\u001b[0m\u001b[0mexpanduser\u001b[0m\u001b[0;34m(\u001b[0m\u001b[0mmountpoint\u001b[0m\u001b[0;34m)\u001b[0m\u001b[0;34m\u001b[0m\u001b[0;34m\u001b[0m\u001b[0m\n",
            "\u001b[0;32m/usr/local/lib/python3.7/dist-packages/google/colab/_message.py\u001b[0m in \u001b[0;36mblocking_request\u001b[0;34m(request_type, request, timeout_sec, parent)\u001b[0m\n\u001b[1;32m    169\u001b[0m   request_id = send_request(\n\u001b[1;32m    170\u001b[0m       request_type, request, parent=parent, expect_reply=True)\n\u001b[0;32m--> 171\u001b[0;31m   \u001b[0;32mreturn\u001b[0m \u001b[0mread_reply_from_input\u001b[0m\u001b[0;34m(\u001b[0m\u001b[0mrequest_id\u001b[0m\u001b[0;34m,\u001b[0m \u001b[0mtimeout_sec\u001b[0m\u001b[0;34m)\u001b[0m\u001b[0;34m\u001b[0m\u001b[0;34m\u001b[0m\u001b[0m\n\u001b[0m",
            "\u001b[0;32m/usr/local/lib/python3.7/dist-packages/google/colab/_message.py\u001b[0m in \u001b[0;36mread_reply_from_input\u001b[0;34m(message_id, timeout_sec)\u001b[0m\n\u001b[1;32m    100\u001b[0m         reply.get('colab_msg_id') == message_id):\n\u001b[1;32m    101\u001b[0m       \u001b[0;32mif\u001b[0m \u001b[0;34m'error'\u001b[0m \u001b[0;32min\u001b[0m \u001b[0mreply\u001b[0m\u001b[0;34m:\u001b[0m\u001b[0;34m\u001b[0m\u001b[0;34m\u001b[0m\u001b[0m\n\u001b[0;32m--> 102\u001b[0;31m         \u001b[0;32mraise\u001b[0m \u001b[0mMessageError\u001b[0m\u001b[0;34m(\u001b[0m\u001b[0mreply\u001b[0m\u001b[0;34m[\u001b[0m\u001b[0;34m'error'\u001b[0m\u001b[0;34m]\u001b[0m\u001b[0;34m)\u001b[0m\u001b[0;34m\u001b[0m\u001b[0;34m\u001b[0m\u001b[0m\n\u001b[0m\u001b[1;32m    103\u001b[0m       \u001b[0;32mreturn\u001b[0m \u001b[0mreply\u001b[0m\u001b[0;34m.\u001b[0m\u001b[0mget\u001b[0m\u001b[0;34m(\u001b[0m\u001b[0;34m'data'\u001b[0m\u001b[0;34m,\u001b[0m \u001b[0;32mNone\u001b[0m\u001b[0;34m)\u001b[0m\u001b[0;34m\u001b[0m\u001b[0;34m\u001b[0m\u001b[0m\n\u001b[1;32m    104\u001b[0m \u001b[0;34m\u001b[0m\u001b[0m\n",
            "\u001b[0;31mMessageError\u001b[0m: Error: credential propagation was unsuccessful"
          ]
        }
      ]
    },
    {
      "cell_type": "code",
      "execution_count": null,
      "id": "5048357b",
      "metadata": {
        "id": "5048357b"
      },
      "outputs": [],
      "source": [
        "# Load Data\n",
        "data = pd.read_csv(csvFile)\n",
        "data.info()"
      ]
    },
    {
      "cell_type": "code",
      "execution_count": null,
      "id": "c81e3904",
      "metadata": {
        "id": "c81e3904"
      },
      "outputs": [],
      "source": [
        "data.head(5)"
      ]
    },
    {
      "cell_type": "code",
      "execution_count": null,
      "id": "974f2888",
      "metadata": {
        "id": "974f2888"
      },
      "outputs": [],
      "source": [
        "data.shape"
      ]
    },
    {
      "cell_type": "code",
      "execution_count": null,
      "id": "51494e43",
      "metadata": {
        "id": "51494e43"
      },
      "outputs": [],
      "source": [
        "data.columns"
      ]
    },
    {
      "cell_type": "code",
      "execution_count": null,
      "id": "4bfc37a4",
      "metadata": {
        "id": "4bfc37a4"
      },
      "outputs": [],
      "source": [
        "pd.DataFrame(data.dtypes, columns=['DataType'])"
      ]
    },
    {
      "cell_type": "code",
      "execution_count": null,
      "id": "205b0a7c",
      "metadata": {
        "id": "205b0a7c"
      },
      "outputs": [],
      "source": [
        "data[['danceability', 'energy', 'tempo']].describe()"
      ]
    },
    {
      "cell_type": "code",
      "source": [
        "data['time_signature'].unique()"
      ],
      "metadata": {
        "id": "uUrrkveQAJYo"
      },
      "id": "uUrrkveQAJYo",
      "execution_count": null,
      "outputs": []
    },
    {
      "cell_type": "code",
      "source": [
        "data['loudness'].unique()"
      ],
      "metadata": {
        "id": "-YWRSTl1AQUq"
      },
      "id": "-YWRSTl1AQUq",
      "execution_count": null,
      "outputs": []
    },
    {
      "cell_type": "code",
      "source": [
        "data['popularity'].unique()"
      ],
      "metadata": {
        "id": "XOK0ldPaAR8j"
      },
      "id": "XOK0ldPaAR8j",
      "execution_count": null,
      "outputs": []
    },
    {
      "cell_type": "code",
      "source": [
        "data.sort_values(by='popularity', ascending=False).head(15)"
      ],
      "metadata": {
        "id": "Dr-P60K0ATo3"
      },
      "id": "Dr-P60K0ATo3",
      "execution_count": null,
      "outputs": []
    },
    {
      "cell_type": "code",
      "source": [
        "sns.relplot(x=\"tempo\", y=\"popularity\", data=data)"
      ],
      "metadata": {
        "id": "NaeGkgTZAZDC"
      },
      "id": "NaeGkgTZAZDC",
      "execution_count": null,
      "outputs": []
    },
    {
      "cell_type": "code",
      "source": [
        "sns.relplot(x=\"danceability\", y=\"popularity\", data=data)"
      ],
      "metadata": {
        "id": "qcS3ZsD6AnjG"
      },
      "id": "qcS3ZsD6AnjG",
      "execution_count": null,
      "outputs": []
    },
    {
      "cell_type": "code",
      "source": [
        "sns.relplot(x=\"key\", y=\"popularity\", data=data)"
      ],
      "metadata": {
        "id": "Xga3zFInAq7O"
      },
      "id": "Xga3zFInAq7O",
      "execution_count": null,
      "outputs": []
    },
    {
      "cell_type": "code",
      "source": [
        "sns.relplot(x=\"speechiness\", y=\"popularity\", data=data)"
      ],
      "metadata": {
        "id": "4FMl67GoAwx-"
      },
      "id": "4FMl67GoAwx-",
      "execution_count": null,
      "outputs": []
    },
    {
      "cell_type": "code",
      "source": [
        "# sns.pairplot(data, vars=['tempo', 'popularity', 'valence', 'energy', 'speechiness', 'danceability', 'acousticness'])"
      ],
      "metadata": {
        "id": "0ap0ZAwTAzxY"
      },
      "id": "0ap0ZAwTAzxY",
      "execution_count": null,
      "outputs": []
    },
    {
      "cell_type": "code",
      "source": [
        "data[data['popularity'] == 1]['tempo'].hist(grid=False, bins=10)"
      ],
      "metadata": {
        "id": "umr7Z9laA3Dx"
      },
      "id": "umr7Z9laA3Dx",
      "execution_count": null,
      "outputs": []
    },
    {
      "cell_type": "markdown",
      "source": [
        ""
      ],
      "metadata": {
        "id": "G5cgqcw12iEq"
      },
      "id": "G5cgqcw12iEq"
    },
    {
      "cell_type": "code",
      "source": [
        "data.describe()"
      ],
      "metadata": {
        "id": "SJboCJ-8BEF_"
      },
      "id": "SJboCJ-8BEF_",
      "execution_count": null,
      "outputs": []
    },
    {
      "cell_type": "code",
      "source": [
        "pd.isnull(data).sum()"
      ],
      "metadata": {
        "id": "pJgBUDb1HM99"
      },
      "id": "pJgBUDb1HM99",
      "execution_count": null,
      "outputs": []
    },
    {
      "cell_type": "code",
      "source": [
        "null_data = data[data.isnull().any(axis=1)]\n",
        "print(null_data)"
      ],
      "metadata": {
        "id": "nhsyMBGcHQZM"
      },
      "id": "nhsyMBGcHQZM",
      "execution_count": null,
      "outputs": []
    },
    {
      "cell_type": "code",
      "source": [
        "data.dropna(inplace = True)"
      ],
      "metadata": {
        "id": "nvtpiWs9HUnS"
      },
      "id": "nvtpiWs9HUnS",
      "execution_count": null,
      "outputs": []
    },
    {
      "cell_type": "code",
      "source": [
        "pd.isnull(data).sum()"
      ],
      "metadata": {
        "id": "DHUMMpZEHZjc"
      },
      "id": "DHUMMpZEHZjc",
      "execution_count": null,
      "outputs": []
    },
    {
      "cell_type": "code",
      "source": [
        "sns.distplot(data['popularity']).set_title('Popularity Distribution')"
      ],
      "metadata": {
        "id": "byzhctN9HbpP"
      },
      "id": "byzhctN9HbpP",
      "execution_count": null,
      "outputs": []
    },
    {
      "cell_type": "code",
      "source": [
        "data.corr()"
      ],
      "metadata": {
        "id": "ZCEGH93W2I5k"
      },
      "id": "ZCEGH93W2I5k",
      "execution_count": null,
      "outputs": []
    },
    {
      "cell_type": "code",
      "source": [
        "popular_greater_50 = data[data.popularity > 50]\n",
        "sns.distplot(popular_greater_50['acousticness'])"
      ],
      "metadata": {
        "id": "GTqTBYmM2nsN"
      },
      "id": "GTqTBYmM2nsN",
      "execution_count": null,
      "outputs": []
    },
    {
      "cell_type": "code",
      "source": [
        "popular_less_50 = data[data.popularity < 50]\n",
        "sns.distplot(popular_less_50['acousticness'])"
      ],
      "metadata": {
        "id": "w_X4jSUI2xYg"
      },
      "id": "w_X4jSUI2xYg",
      "execution_count": null,
      "outputs": []
    },
    {
      "cell_type": "code",
      "source": [
        "data['duration_m'] = data['duration_ms']/60000\n",
        "data = data.reindex(sorted(data.columns), axis=1)\n",
        "data.head()"
      ],
      "metadata": {
        "id": "bBMNWgx728gv"
      },
      "id": "bBMNWgx728gv",
      "execution_count": null,
      "outputs": []
    },
    {
      "cell_type": "code",
      "source": [
        "data.drop('duration_ms', axis = 1, inplace = True)"
      ],
      "metadata": {
        "id": "qla6VBuR3G0A"
      },
      "id": "qla6VBuR3G0A",
      "execution_count": null,
      "outputs": []
    },
    {
      "cell_type": "code",
      "source": [
        "data.describe()"
      ],
      "metadata": {
        "id": "iTgLgeZ03Ln2"
      },
      "id": "iTgLgeZ03Ln2",
      "execution_count": null,
      "outputs": []
    },
    {
      "cell_type": "code",
      "source": [
        "data.info()"
      ],
      "metadata": {
        "id": "r1kTGyC13NLP"
      },
      "id": "r1kTGyC13NLP",
      "execution_count": null,
      "outputs": []
    },
    {
      "cell_type": "code",
      "source": [
        "# Finding Outliers, where songs are larger than 60 minutes\n",
        "data[data['duration_m']>60]"
      ],
      "metadata": {
        "id": "IcFcf2qb3kjV"
      },
      "id": "IcFcf2qb3kjV",
      "execution_count": null,
      "outputs": []
    },
    {
      "cell_type": "code",
      "source": [
        "plt.figure(figsize=(20, 10))\n",
        "sns.heatmap(data.corr(),annot = True)"
      ],
      "metadata": {
        "id": "C6xk8qTD38lH"
      },
      "id": "C6xk8qTD38lH",
      "execution_count": null,
      "outputs": []
    },
    {
      "cell_type": "code",
      "source": [
        "# Modeling and Prediction"
      ],
      "metadata": {
        "id": "1jkluTRW4HTS"
      },
      "id": "1jkluTRW4HTS",
      "execution_count": null,
      "outputs": []
    },
    {
      "cell_type": "code",
      "source": [
        "data.head(15)"
      ],
      "metadata": {
        "id": "X0KjmrkkWSew"
      },
      "id": "X0KjmrkkWSew",
      "execution_count": null,
      "outputs": []
    },
    {
      "cell_type": "code",
      "source": [
        "data = pd.get_dummies(data, columns=['time_signature', 'key', 'mode'], drop_first=True)"
      ],
      "metadata": {
        "id": "iT9Pr7wGWZAi"
      },
      "id": "iT9Pr7wGWZAi",
      "execution_count": null,
      "outputs": []
    },
    {
      "cell_type": "code",
      "source": [
        "pd.options.display.max_columns = None"
      ],
      "metadata": {
        "id": "Eb776CcHWdQF"
      },
      "id": "Eb776CcHWdQF",
      "execution_count": null,
      "outputs": []
    },
    {
      "cell_type": "code",
      "source": [
        "data.head()"
      ],
      "metadata": {
        "id": "o5dhDbveWfEt"
      },
      "id": "o5dhDbveWfEt",
      "execution_count": null,
      "outputs": []
    },
    {
      "cell_type": "code",
      "source": [
        "features = ['acousticness', 'instrumentalness', 'loudness', 'energy']"
      ],
      "metadata": {
        "id": "tsBKjYPtWgFM"
      },
      "id": "tsBKjYPtWgFM",
      "execution_count": null,
      "outputs": []
    },
    {
      "cell_type": "code",
      "source": [
        "X = data[features]\n",
        "y = data['popularity']"
      ],
      "metadata": {
        "id": "uBhOrkogWjjL"
      },
      "id": "uBhOrkogWjjL",
      "execution_count": null,
      "outputs": []
    },
    {
      "cell_type": "code",
      "source": [
        "pd.cut(data['popularity'], bins=3)"
      ],
      "metadata": {
        "id": "w-ejbfkVWk_q"
      },
      "id": "w-ejbfkVWk_q",
      "execution_count": null,
      "outputs": []
    },
    {
      "cell_type": "code",
      "source": [
        "pd.cut(data['popularity'], bins=3, labels = [\"low\", \"medium\", \"high\"]).value_counts()"
      ],
      "metadata": {
        "id": "DCMgedbfXOtP"
      },
      "id": "DCMgedbfXOtP",
      "execution_count": null,
      "outputs": []
    },
    {
      "cell_type": "code",
      "source": [
        "data['popularity'] = pd.cut(data.popularity, bins=3, labels = [\"low\", \"medium\", \"high\"], right = True)"
      ],
      "metadata": {
        "id": "7MHW1tyLXRaI"
      },
      "id": "7MHW1tyLXRaI",
      "execution_count": null,
      "outputs": []
    },
    {
      "cell_type": "code",
      "source": [
        "data.head(100)"
      ],
      "metadata": {
        "id": "cYrWRT-lXTop"
      },
      "id": "cYrWRT-lXTop",
      "execution_count": null,
      "outputs": []
    },
    {
      "cell_type": "code",
      "source": [
        "data.loc[data['popularity']== 'high']"
      ],
      "metadata": {
        "id": "tDRjKXVfXVKn"
      },
      "id": "tDRjKXVfXVKn",
      "execution_count": null,
      "outputs": []
    },
    {
      "cell_type": "code",
      "source": [
        "y = data.popularity\n",
        "y.value_counts()/y.count()"
      ],
      "metadata": {
        "id": "QI9JfzJlXaaI"
      },
      "id": "QI9JfzJlXaaI",
      "execution_count": null,
      "outputs": []
    },
    {
      "cell_type": "code",
      "source": [
        "pop_count = data.popularity.value_counts()"
      ],
      "metadata": {
        "id": "j9FSxQZFXfqT"
      },
      "id": "j9FSxQZFXfqT",
      "execution_count": null,
      "outputs": []
    },
    {
      "cell_type": "code",
      "source": [
        "ros = RandomOverSampler()\n",
        "X_ros, y_ros = ros.fit_resample(X, y)\n",
        "print('Removed indexes:')\n",
        "print(X_ros.shape, y_ros.shape)"
      ],
      "metadata": {
        "id": "1SS0GeBrXi9f"
      },
      "id": "1SS0GeBrXi9f",
      "execution_count": null,
      "outputs": []
    },
    {
      "cell_type": "code",
      "source": [
        "X_ros.value_counts()"
      ],
      "metadata": {
        "id": "S7dTNvO0YtQb"
      },
      "id": "S7dTNvO0YtQb",
      "execution_count": null,
      "outputs": []
    },
    {
      "cell_type": "code",
      "source": [
        "y_ros.value_counts()"
      ],
      "metadata": {
        "id": "Vsm0XpOCZAdb"
      },
      "id": "Vsm0XpOCZAdb",
      "execution_count": null,
      "outputs": []
    },
    {
      "cell_type": "code",
      "source": [
        "feature_cols = ['acousticness', 'instrumentalness', 'loudness', 'energy']\n",
        "X = data[feature_cols]"
      ],
      "metadata": {
        "id": "hs0D9CaDcNVk"
      },
      "id": "hs0D9CaDcNVk",
      "execution_count": null,
      "outputs": []
    },
    {
      "cell_type": "code",
      "source": [
        "X_ros.head()"
      ],
      "metadata": {
        "id": "JbqzPFgucQ8x"
      },
      "id": "JbqzPFgucQ8x",
      "execution_count": null,
      "outputs": []
    },
    {
      "cell_type": "code",
      "source": [
        "knn = KNeighborsClassifier(n_neighbors=1)"
      ],
      "metadata": {
        "id": "xbgi5ikccSOP"
      },
      "id": "xbgi5ikccSOP",
      "execution_count": null,
      "outputs": []
    },
    {
      "cell_type": "code",
      "source": [
        "knn.fit(X_ros, y_ros)"
      ],
      "metadata": {
        "id": "Zrwv9QFAcUl8"
      },
      "id": "Zrwv9QFAcUl8",
      "execution_count": null,
      "outputs": []
    },
    {
      "cell_type": "code",
      "source": [
        "# Model Evaluation"
      ],
      "metadata": {
        "id": "I2ZKC0XDcVyO"
      },
      "id": "I2ZKC0XDcVyO",
      "execution_count": null,
      "outputs": []
    },
    {
      "cell_type": "code",
      "source": [
        "y_pred_class = knn.predict(X_ros)"
      ],
      "metadata": {
        "id": "hzulyzuEcX4s"
      },
      "id": "hzulyzuEcX4s",
      "execution_count": null,
      "outputs": []
    },
    {
      "cell_type": "code",
      "source": [
        "# Overfitting as 98% is too good to be a score\n",
        "print(metrics.accuracy_score(y_ros, y_pred_class))"
      ],
      "metadata": {
        "id": "Kds6dWKBcZxC"
      },
      "id": "Kds6dWKBcZxC",
      "execution_count": null,
      "outputs": []
    },
    {
      "cell_type": "code",
      "source": [
        "X_train, X_test, y_train, y_test = train_test_split(X_ros, y_ros, random_state=99, test_size=0.5)\n",
        "\n",
        "knn = KNeighborsClassifier(n_neighbors=1)\n",
        "knn.fit(X_train, y_train)\n",
        "\n",
        "y_pred_class = knn.predict(X_test)\n",
        "print(metrics.accuracy_score(y_test, y_pred_class))"
      ],
      "metadata": {
        "id": "TL_f0_tycbu8"
      },
      "id": "TL_f0_tycbu8",
      "execution_count": null,
      "outputs": []
    },
    {
      "cell_type": "code",
      "source": [
        "k_range2 = range(1, 22)\n",
        "param_dist = dict(n_neighbors=k_range2)"
      ],
      "metadata": {
        "id": "ys5vjOAidQkM"
      },
      "id": "ys5vjOAidQkM",
      "execution_count": null,
      "outputs": []
    },
    {
      "cell_type": "markdown",
      "source": [
        "### Imputation using RandomizedSearchCV"
      ],
      "metadata": {
        "id": "h8BZ4rneb1KX"
      },
      "id": "h8BZ4rneb1KX"
    },
    {
      "cell_type": "code",
      "source": [
        "rand = RandomizedSearchCV(knn, param_dist, cv=5, scoring='accuracy', n_iter=5, random_state=5)"
      ],
      "metadata": {
        "id": "dkilcGvLcs6J"
      },
      "id": "dkilcGvLcs6J",
      "execution_count": null,
      "outputs": []
    },
    {
      "cell_type": "code",
      "source": [
        "rand.fit(X_train, y_train)"
      ],
      "metadata": {
        "id": "cGQm6XQ-dJxh"
      },
      "id": "cGQm6XQ-dJxh",
      "execution_count": null,
      "outputs": []
    },
    {
      "cell_type": "code",
      "source": [
        "# examining the best model\n",
        "print(rand.best_score_) \n",
        "print(rand.best_params_) \n",
        "print(rand.best_estimator_)"
      ],
      "metadata": {
        "id": "pHq4GW8vdTED"
      },
      "id": "pHq4GW8vdTED",
      "execution_count": null,
      "outputs": []
    },
    {
      "cell_type": "markdown",
      "source": [
        "### Confusion Matrix"
      ],
      "metadata": {
        "id": "8maIK6bsddi0"
      },
      "id": "8maIK6bsddi0"
    },
    {
      "cell_type": "code",
      "source": [
        "cmat = confusion_matrix(y_test, y_pred_class)\n",
        "print('True Negative {}'.format(cmat[0,0]))\n",
        "print('Flase Positive {}'.format(cmat[0,1]))\n",
        "print('False Negative {}'.format(cmat[1,0]))\n",
        "print('True Positive {}'.format(cmat[1,1]))\n",
        "print('Accuracy Score: {}'.format(np.divide(np.sum([cmat[0,0], cmat[1,1], cmat[2,2]]), np.sum(cmat)))) \n",
        "print('Misclassification Rate: {}'.format(np.divide(np.sum([cmat[1,0], cmat[0,1], cmat[0,2], cmat[2,0], cmat[1,2], cmat[2,1]]), np.sum(cmat))))"
      ],
      "metadata": {
        "id": "x_e2k7I8doSD"
      },
      "id": "x_e2k7I8doSD",
      "execution_count": null,
      "outputs": []
    },
    {
      "cell_type": "markdown",
      "source": [
        "### Model Accuracy on Test Data"
      ],
      "metadata": {
        "id": "L9EskNW_buUq"
      },
      "id": "L9EskNW_buUq"
    },
    {
      "cell_type": "code",
      "source": [
        "knn = KNeighborsClassifier(n_neighbors=3)\n",
        "knn.fit(X_train, y_train)\n",
        "\n",
        "y_pred_class = knn.predict(X_test)"
      ],
      "metadata": {
        "id": "fT1gfprXcBYF"
      },
      "id": "fT1gfprXcBYF",
      "execution_count": null,
      "outputs": []
    },
    {
      "cell_type": "code",
      "source": [
        "metrics.accuracy_score(y_test, y_pred_class)"
      ],
      "metadata": {
        "id": "2ugu6F2gdot6"
      },
      "id": "2ugu6F2gdot6",
      "execution_count": null,
      "outputs": []
    }
  ],
  "metadata": {
    "kernelspec": {
      "display_name": "Python 3 (ipykernel)",
      "language": "python",
      "name": "python3"
    },
    "language_info": {
      "codemirror_mode": {
        "name": "ipython",
        "version": 3
      },
      "file_extension": ".py",
      "mimetype": "text/x-python",
      "name": "python",
      "nbconvert_exporter": "python",
      "pygments_lexer": "ipython3",
      "version": "3.9.12"
    },
    "colab": {
      "name": "Spotify Music Prediction Algorithm.ipynb",
      "provenance": [],
      "include_colab_link": true
    }
  },
  "nbformat": 4,
  "nbformat_minor": 5
}