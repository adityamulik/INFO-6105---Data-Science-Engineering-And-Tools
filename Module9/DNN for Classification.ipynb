{
  "cells": [
    {
      "cell_type": "markdown",
      "metadata": {
        "id": "fbKt8--Q2Fky"
      },
      "source": [
        "1. Understand the problem and read in the data\n",
        "2. Pre-process data, train-test split\n",
        "3. Build and compile a deep learning model"
      ]
    },
    {
      "cell_type": "markdown",
      "metadata": {
        "id": "h8gBaGrh2Fk1"
      },
      "source": [
        "# Understand the problem and read in the data"
      ]
    },
    {
      "cell_type": "markdown",
      "metadata": {
        "id": "78p6yksF2Fk2"
      },
      "source": [
        "This Kaggle challenge is about predicting the onset of diabetes in 5 years or less. \n",
        "Target variable is Outcome. 1 = yes, the person became diabetic in 5 years, and 0 = No, \n",
        "the person did not. This is a binary classification problem. Please check out the Kaggle\n",
        "link here to see feature \n",
        "details - https://www.kaggle.com/uciml/pima-indians-diabetes-database/data"
      ]
    },
    {
      "cell_type": "code",
      "execution_count": 7,
      "metadata": {
        "id": "KWqrRqzv2Fk2"
      },
      "outputs": [],
      "source": [
        "'''Import necessary packages'''\n",
        "from keras.models import Sequential\n",
        "from keras.layers import Dense\n",
        "from sklearn.model_selection import train_test_split\n",
        "import seaborn as sns\n",
        "import numpy as np\n",
        "import pandas as pd\n",
        "from google.colab import drive\n",
        "\n",
        "%matplotlib inline"
      ]
    },
    {
      "cell_type": "code",
      "execution_count": 8,
      "metadata": {
        "colab": {
          "base_uri": "https://localhost:8080/"
        },
        "id": "ea06dyHm2Fk4",
        "outputId": "d086b509-243d-402b-a50f-87212009ddd8"
      },
      "outputs": [
        {
          "output_type": "stream",
          "name": "stdout",
          "text": [
            "Drive already mounted at /content/drive; to attempt to forcibly remount, call drive.mount(\"/content/drive\", force_remount=True).\n"
          ]
        }
      ],
      "source": [
        "# Load Data from Google Drive\n",
        "drive.mount('/content/drive')\n",
        "data = open('/content/drive/MyDrive/dataset_INFO6105/pima-indians-diabetes.data')"
      ]
    },
    {
      "cell_type": "code",
      "execution_count": 9,
      "metadata": {
        "colab": {
          "base_uri": "https://localhost:8080/",
          "height": 130
        },
        "id": "SZvFlWPd2Fk5",
        "outputId": "59c9d5bb-2e36-4740-e91e-c492d81208eb"
      },
      "outputs": [
        {
          "output_type": "stream",
          "name": "stdout",
          "text": [
            "(768, 9)\n"
          ]
        },
        {
          "output_type": "execute_result",
          "data": {
            "text/plain": [
              "   0    1   2   3  4     5      6   7  8\n",
              "0  6  148  72  35  0  33.6  0.627  50  1\n",
              "1  1   85  66  29  0  26.6  0.351  31  0"
            ],
            "text/html": [
              "\n",
              "  <div id=\"df-5ab91489-d1bb-4aec-8bac-7448c8808557\">\n",
              "    <div class=\"colab-df-container\">\n",
              "      <div>\n",
              "<style scoped>\n",
              "    .dataframe tbody tr th:only-of-type {\n",
              "        vertical-align: middle;\n",
              "    }\n",
              "\n",
              "    .dataframe tbody tr th {\n",
              "        vertical-align: top;\n",
              "    }\n",
              "\n",
              "    .dataframe thead th {\n",
              "        text-align: right;\n",
              "    }\n",
              "</style>\n",
              "<table border=\"1\" class=\"dataframe\">\n",
              "  <thead>\n",
              "    <tr style=\"text-align: right;\">\n",
              "      <th></th>\n",
              "      <th>0</th>\n",
              "      <th>1</th>\n",
              "      <th>2</th>\n",
              "      <th>3</th>\n",
              "      <th>4</th>\n",
              "      <th>5</th>\n",
              "      <th>6</th>\n",
              "      <th>7</th>\n",
              "      <th>8</th>\n",
              "    </tr>\n",
              "  </thead>\n",
              "  <tbody>\n",
              "    <tr>\n",
              "      <th>0</th>\n",
              "      <td>6</td>\n",
              "      <td>148</td>\n",
              "      <td>72</td>\n",
              "      <td>35</td>\n",
              "      <td>0</td>\n",
              "      <td>33.6</td>\n",
              "      <td>0.627</td>\n",
              "      <td>50</td>\n",
              "      <td>1</td>\n",
              "    </tr>\n",
              "    <tr>\n",
              "      <th>1</th>\n",
              "      <td>1</td>\n",
              "      <td>85</td>\n",
              "      <td>66</td>\n",
              "      <td>29</td>\n",
              "      <td>0</td>\n",
              "      <td>26.6</td>\n",
              "      <td>0.351</td>\n",
              "      <td>31</td>\n",
              "      <td>0</td>\n",
              "    </tr>\n",
              "  </tbody>\n",
              "</table>\n",
              "</div>\n",
              "      <button class=\"colab-df-convert\" onclick=\"convertToInteractive('df-5ab91489-d1bb-4aec-8bac-7448c8808557')\"\n",
              "              title=\"Convert this dataframe to an interactive table.\"\n",
              "              style=\"display:none;\">\n",
              "        \n",
              "  <svg xmlns=\"http://www.w3.org/2000/svg\" height=\"24px\"viewBox=\"0 0 24 24\"\n",
              "       width=\"24px\">\n",
              "    <path d=\"M0 0h24v24H0V0z\" fill=\"none\"/>\n",
              "    <path d=\"M18.56 5.44l.94 2.06.94-2.06 2.06-.94-2.06-.94-.94-2.06-.94 2.06-2.06.94zm-11 1L8.5 8.5l.94-2.06 2.06-.94-2.06-.94L8.5 2.5l-.94 2.06-2.06.94zm10 10l.94 2.06.94-2.06 2.06-.94-2.06-.94-.94-2.06-.94 2.06-2.06.94z\"/><path d=\"M17.41 7.96l-1.37-1.37c-.4-.4-.92-.59-1.43-.59-.52 0-1.04.2-1.43.59L10.3 9.45l-7.72 7.72c-.78.78-.78 2.05 0 2.83L4 21.41c.39.39.9.59 1.41.59.51 0 1.02-.2 1.41-.59l7.78-7.78 2.81-2.81c.8-.78.8-2.07 0-2.86zM5.41 20L4 18.59l7.72-7.72 1.47 1.35L5.41 20z\"/>\n",
              "  </svg>\n",
              "      </button>\n",
              "      \n",
              "  <style>\n",
              "    .colab-df-container {\n",
              "      display:flex;\n",
              "      flex-wrap:wrap;\n",
              "      gap: 12px;\n",
              "    }\n",
              "\n",
              "    .colab-df-convert {\n",
              "      background-color: #E8F0FE;\n",
              "      border: none;\n",
              "      border-radius: 50%;\n",
              "      cursor: pointer;\n",
              "      display: none;\n",
              "      fill: #1967D2;\n",
              "      height: 32px;\n",
              "      padding: 0 0 0 0;\n",
              "      width: 32px;\n",
              "    }\n",
              "\n",
              "    .colab-df-convert:hover {\n",
              "      background-color: #E2EBFA;\n",
              "      box-shadow: 0px 1px 2px rgba(60, 64, 67, 0.3), 0px 1px 3px 1px rgba(60, 64, 67, 0.15);\n",
              "      fill: #174EA6;\n",
              "    }\n",
              "\n",
              "    [theme=dark] .colab-df-convert {\n",
              "      background-color: #3B4455;\n",
              "      fill: #D2E3FC;\n",
              "    }\n",
              "\n",
              "    [theme=dark] .colab-df-convert:hover {\n",
              "      background-color: #434B5C;\n",
              "      box-shadow: 0px 1px 3px 1px rgba(0, 0, 0, 0.15);\n",
              "      filter: drop-shadow(0px 1px 2px rgba(0, 0, 0, 0.3));\n",
              "      fill: #FFFFFF;\n",
              "    }\n",
              "  </style>\n",
              "\n",
              "      <script>\n",
              "        const buttonEl =\n",
              "          document.querySelector('#df-5ab91489-d1bb-4aec-8bac-7448c8808557 button.colab-df-convert');\n",
              "        buttonEl.style.display =\n",
              "          google.colab.kernel.accessAllowed ? 'block' : 'none';\n",
              "\n",
              "        async function convertToInteractive(key) {\n",
              "          const element = document.querySelector('#df-5ab91489-d1bb-4aec-8bac-7448c8808557');\n",
              "          const dataTable =\n",
              "            await google.colab.kernel.invokeFunction('convertToInteractive',\n",
              "                                                     [key], {});\n",
              "          if (!dataTable) return;\n",
              "\n",
              "          const docLinkHtml = 'Like what you see? Visit the ' +\n",
              "            '<a target=\"_blank\" href=https://colab.research.google.com/notebooks/data_table.ipynb>data table notebook</a>'\n",
              "            + ' to learn more about interactive tables.';\n",
              "          element.innerHTML = '';\n",
              "          dataTable['output_type'] = 'display_data';\n",
              "          await google.colab.output.renderOutput(dataTable, element);\n",
              "          const docLink = document.createElement('div');\n",
              "          docLink.innerHTML = docLinkHtml;\n",
              "          element.appendChild(docLink);\n",
              "        }\n",
              "      </script>\n",
              "    </div>\n",
              "  </div>\n",
              "  "
            ]
          },
          "metadata": {},
          "execution_count": 9
        }
      ],
      "source": [
        "df = pd.read_csv(data,header = None)\n",
        "print(df.shape)\n",
        "df.head(2)"
      ]
    },
    {
      "cell_type": "markdown",
      "metadata": {
        "id": "BezcmSbi2Fk6"
      },
      "source": [
        "# Pre-process data, train-test split"
      ]
    },
    {
      "cell_type": "code",
      "execution_count": 10,
      "metadata": {
        "id": "2s8FH44l2Fk6"
      },
      "outputs": [],
      "source": [
        "#Separate out X and Y\n",
        "\n",
        "X = df.iloc[:, :8]\n",
        "Y = df.iloc[:, 8:9]"
      ]
    },
    {
      "cell_type": "code",
      "execution_count": 5,
      "metadata": {
        "colab": {
          "base_uri": "https://localhost:8080/"
        },
        "id": "aLzvdoqU2Fk7",
        "outputId": "71a35299-9746-4b09-a7ac-04a6017a3967"
      },
      "outputs": [
        {
          "output_type": "stream",
          "name": "stdout",
          "text": [
            "(514, 8) (254, 8) (514, 1) (254, 1)\n"
          ]
        }
      ],
      "source": [
        "# Train- Test Split\n",
        "(X_train, X_test, Y_train, Y_test) = train_test_split(X, Y, test_size=0.33, random_state=1)\n",
        "print(X_train.shape,X_test.shape,Y_train.shape,Y_test.shape)"
      ]
    },
    {
      "cell_type": "markdown",
      "metadata": {
        "id": "zPLuCGbt2Fk7"
      },
      "source": [
        "# Build and compile a deep learning model"
      ]
    },
    {
      "cell_type": "code",
      "execution_count": 13,
      "metadata": {
        "id": "2WjNSAJ92Fk7"
      },
      "outputs": [],
      "source": [
        "# Build the deep neural network\n",
        "model = Sequential()\n",
        "model.add(Dense(10, input_dim=8, activation='relu'))\n",
        "model.add(Dense(6, activation='relu'))\n",
        "model.add(Dense(1, activation='sigmoid'))"
      ]
    },
    {
      "cell_type": "code",
      "execution_count": 14,
      "metadata": {
        "id": "yg2JQpgW2Fk8"
      },
      "outputs": [],
      "source": [
        "# Compile the DNN\n",
        "\n",
        "model.compile(loss='binary_crossentropy', optimizer='adam', metrics=['accuracy'])"
      ]
    },
    {
      "cell_type": "code",
      "execution_count": 15,
      "metadata": {
        "colab": {
          "base_uri": "https://localhost:8080/"
        },
        "id": "IoTQevMp2Fk8",
        "outputId": "b924d3b1-3bb6-4cdc-bbce-52b665a6d998"
      },
      "outputs": [
        {
          "output_type": "stream",
          "name": "stdout",
          "text": [
            "Epoch 1/100\n",
            "103/103 [==============================] - 2s 7ms/step - loss: 16.1742 - accuracy: 0.4747 - val_loss: 5.5252 - val_accuracy: 0.6063\n",
            "Epoch 2/100\n",
            "103/103 [==============================] - 1s 5ms/step - loss: 3.4549 - accuracy: 0.6342 - val_loss: 3.6081 - val_accuracy: 0.5984\n",
            "Epoch 3/100\n",
            "103/103 [==============================] - 1s 5ms/step - loss: 2.1447 - accuracy: 0.6576 - val_loss: 2.2440 - val_accuracy: 0.5945\n",
            "Epoch 4/100\n",
            "103/103 [==============================] - 0s 5ms/step - loss: 1.3834 - accuracy: 0.6070 - val_loss: 1.5480 - val_accuracy: 0.5354\n",
            "Epoch 5/100\n",
            "103/103 [==============================] - 1s 5ms/step - loss: 1.0713 - accuracy: 0.6109 - val_loss: 1.1891 - val_accuracy: 0.5039\n",
            "Epoch 6/100\n",
            "103/103 [==============================] - 1s 5ms/step - loss: 0.8854 - accuracy: 0.6109 - val_loss: 0.8907 - val_accuracy: 0.5551\n",
            "Epoch 7/100\n",
            "103/103 [==============================] - 0s 4ms/step - loss: 0.7645 - accuracy: 0.6226 - val_loss: 0.8233 - val_accuracy: 0.5394\n",
            "Epoch 8/100\n",
            "103/103 [==============================] - 1s 6ms/step - loss: 0.7444 - accuracy: 0.6362 - val_loss: 0.7421 - val_accuracy: 0.6299\n",
            "Epoch 9/100\n",
            "103/103 [==============================] - 0s 3ms/step - loss: 0.7128 - accuracy: 0.6770 - val_loss: 0.8630 - val_accuracy: 0.6299\n",
            "Epoch 10/100\n",
            "103/103 [==============================] - 0s 3ms/step - loss: 0.6663 - accuracy: 0.6673 - val_loss: 0.8345 - val_accuracy: 0.6496\n",
            "Epoch 11/100\n",
            "103/103 [==============================] - 0s 4ms/step - loss: 0.6668 - accuracy: 0.6693 - val_loss: 0.6776 - val_accuracy: 0.6535\n",
            "Epoch 12/100\n",
            "103/103 [==============================] - 0s 4ms/step - loss: 0.6620 - accuracy: 0.6829 - val_loss: 0.6934 - val_accuracy: 0.6496\n",
            "Epoch 13/100\n",
            "103/103 [==============================] - 0s 4ms/step - loss: 0.6712 - accuracy: 0.6712 - val_loss: 0.7137 - val_accuracy: 0.6535\n",
            "Epoch 14/100\n",
            "103/103 [==============================] - 1s 7ms/step - loss: 0.6601 - accuracy: 0.6965 - val_loss: 0.7781 - val_accuracy: 0.6614\n",
            "Epoch 15/100\n",
            "103/103 [==============================] - 1s 6ms/step - loss: 0.6226 - accuracy: 0.6946 - val_loss: 0.6465 - val_accuracy: 0.6890\n",
            "Epoch 16/100\n",
            "103/103 [==============================] - 1s 5ms/step - loss: 0.6435 - accuracy: 0.6926 - val_loss: 0.6093 - val_accuracy: 0.6890\n",
            "Epoch 17/100\n",
            "103/103 [==============================] - 0s 3ms/step - loss: 0.6233 - accuracy: 0.7121 - val_loss: 0.6920 - val_accuracy: 0.6614\n",
            "Epoch 18/100\n",
            "103/103 [==============================] - 0s 3ms/step - loss: 0.6222 - accuracy: 0.6984 - val_loss: 0.8034 - val_accuracy: 0.6378\n",
            "Epoch 19/100\n",
            "103/103 [==============================] - 0s 3ms/step - loss: 0.6431 - accuracy: 0.6965 - val_loss: 0.6267 - val_accuracy: 0.6535\n",
            "Epoch 20/100\n",
            "103/103 [==============================] - 0s 3ms/step - loss: 0.6260 - accuracy: 0.6984 - val_loss: 0.6301 - val_accuracy: 0.6732\n",
            "Epoch 21/100\n",
            "103/103 [==============================] - 0s 2ms/step - loss: 0.6253 - accuracy: 0.6946 - val_loss: 0.6572 - val_accuracy: 0.6575\n",
            "Epoch 22/100\n",
            "103/103 [==============================] - 0s 2ms/step - loss: 0.6126 - accuracy: 0.7004 - val_loss: 0.6362 - val_accuracy: 0.6614\n",
            "Epoch 23/100\n",
            "103/103 [==============================] - 0s 2ms/step - loss: 0.6290 - accuracy: 0.6946 - val_loss: 0.6671 - val_accuracy: 0.6417\n",
            "Epoch 24/100\n",
            "103/103 [==============================] - 0s 2ms/step - loss: 0.6087 - accuracy: 0.7043 - val_loss: 0.5976 - val_accuracy: 0.6850\n",
            "Epoch 25/100\n",
            "103/103 [==============================] - 0s 2ms/step - loss: 0.5862 - accuracy: 0.7237 - val_loss: 0.6474 - val_accuracy: 0.6575\n",
            "Epoch 26/100\n",
            "103/103 [==============================] - 0s 2ms/step - loss: 0.6352 - accuracy: 0.7101 - val_loss: 0.6438 - val_accuracy: 0.6614\n",
            "Epoch 27/100\n",
            "103/103 [==============================] - 0s 2ms/step - loss: 0.6221 - accuracy: 0.6984 - val_loss: 0.7467 - val_accuracy: 0.6260\n",
            "Epoch 28/100\n",
            "103/103 [==============================] - 0s 2ms/step - loss: 0.6205 - accuracy: 0.6887 - val_loss: 0.6112 - val_accuracy: 0.6929\n",
            "Epoch 29/100\n",
            "103/103 [==============================] - 0s 2ms/step - loss: 0.6085 - accuracy: 0.7043 - val_loss: 0.5903 - val_accuracy: 0.6811\n",
            "Epoch 30/100\n",
            "103/103 [==============================] - 0s 2ms/step - loss: 0.6071 - accuracy: 0.7043 - val_loss: 0.6263 - val_accuracy: 0.6929\n",
            "Epoch 31/100\n",
            "103/103 [==============================] - 0s 2ms/step - loss: 0.6082 - accuracy: 0.7004 - val_loss: 0.6167 - val_accuracy: 0.6929\n",
            "Epoch 32/100\n",
            "103/103 [==============================] - 0s 2ms/step - loss: 0.5972 - accuracy: 0.7160 - val_loss: 0.6148 - val_accuracy: 0.6969\n",
            "Epoch 33/100\n",
            "103/103 [==============================] - 0s 2ms/step - loss: 0.5896 - accuracy: 0.7082 - val_loss: 0.5891 - val_accuracy: 0.7283\n",
            "Epoch 34/100\n",
            "103/103 [==============================] - 0s 2ms/step - loss: 0.6298 - accuracy: 0.7121 - val_loss: 0.6650 - val_accuracy: 0.6457\n",
            "Epoch 35/100\n",
            "103/103 [==============================] - 0s 2ms/step - loss: 0.6255 - accuracy: 0.7179 - val_loss: 0.6055 - val_accuracy: 0.7008\n",
            "Epoch 36/100\n",
            "103/103 [==============================] - 0s 2ms/step - loss: 0.5811 - accuracy: 0.7179 - val_loss: 0.6046 - val_accuracy: 0.7165\n",
            "Epoch 37/100\n",
            "103/103 [==============================] - 0s 2ms/step - loss: 0.5790 - accuracy: 0.7198 - val_loss: 0.5884 - val_accuracy: 0.7165\n",
            "Epoch 38/100\n",
            "103/103 [==============================] - 0s 2ms/step - loss: 0.6073 - accuracy: 0.6965 - val_loss: 0.6113 - val_accuracy: 0.7008\n",
            "Epoch 39/100\n",
            "103/103 [==============================] - 0s 2ms/step - loss: 0.5832 - accuracy: 0.7043 - val_loss: 0.6073 - val_accuracy: 0.7165\n",
            "Epoch 40/100\n",
            "103/103 [==============================] - 0s 2ms/step - loss: 0.6022 - accuracy: 0.7004 - val_loss: 0.5867 - val_accuracy: 0.7283\n",
            "Epoch 41/100\n",
            "103/103 [==============================] - 0s 2ms/step - loss: 0.6267 - accuracy: 0.6829 - val_loss: 0.6077 - val_accuracy: 0.7087\n",
            "Epoch 42/100\n",
            "103/103 [==============================] - 0s 2ms/step - loss: 0.5667 - accuracy: 0.7354 - val_loss: 0.6412 - val_accuracy: 0.7047\n",
            "Epoch 43/100\n",
            "103/103 [==============================] - 0s 2ms/step - loss: 0.5827 - accuracy: 0.6907 - val_loss: 0.5994 - val_accuracy: 0.7362\n",
            "Epoch 44/100\n",
            "103/103 [==============================] - 0s 2ms/step - loss: 0.5936 - accuracy: 0.7062 - val_loss: 0.6158 - val_accuracy: 0.7205\n",
            "Epoch 45/100\n",
            "103/103 [==============================] - 0s 2ms/step - loss: 0.5830 - accuracy: 0.7140 - val_loss: 0.6522 - val_accuracy: 0.7126\n",
            "Epoch 46/100\n",
            "103/103 [==============================] - 0s 2ms/step - loss: 0.5890 - accuracy: 0.7198 - val_loss: 0.6218 - val_accuracy: 0.7165\n",
            "Epoch 47/100\n",
            "103/103 [==============================] - 0s 2ms/step - loss: 0.5615 - accuracy: 0.7335 - val_loss: 0.6013 - val_accuracy: 0.7283\n",
            "Epoch 48/100\n",
            "103/103 [==============================] - 0s 2ms/step - loss: 0.6212 - accuracy: 0.6848 - val_loss: 0.6150 - val_accuracy: 0.7323\n",
            "Epoch 49/100\n",
            "103/103 [==============================] - 0s 2ms/step - loss: 0.5897 - accuracy: 0.7004 - val_loss: 0.5958 - val_accuracy: 0.7402\n",
            "Epoch 50/100\n",
            "103/103 [==============================] - 0s 2ms/step - loss: 0.5675 - accuracy: 0.7160 - val_loss: 0.6743 - val_accuracy: 0.6850\n",
            "Epoch 51/100\n",
            "103/103 [==============================] - 0s 2ms/step - loss: 0.5751 - accuracy: 0.7043 - val_loss: 0.7150 - val_accuracy: 0.6693\n",
            "Epoch 52/100\n",
            "103/103 [==============================] - 0s 2ms/step - loss: 0.5908 - accuracy: 0.7004 - val_loss: 0.6258 - val_accuracy: 0.7402\n",
            "Epoch 53/100\n",
            "103/103 [==============================] - 0s 2ms/step - loss: 0.5884 - accuracy: 0.7082 - val_loss: 0.5957 - val_accuracy: 0.7323\n",
            "Epoch 54/100\n",
            "103/103 [==============================] - 0s 2ms/step - loss: 0.5737 - accuracy: 0.7198 - val_loss: 0.5937 - val_accuracy: 0.7283\n",
            "Epoch 55/100\n",
            "103/103 [==============================] - 0s 2ms/step - loss: 0.5625 - accuracy: 0.7198 - val_loss: 0.6065 - val_accuracy: 0.7283\n",
            "Epoch 56/100\n",
            "103/103 [==============================] - 0s 2ms/step - loss: 0.5533 - accuracy: 0.7121 - val_loss: 0.6747 - val_accuracy: 0.6890\n",
            "Epoch 57/100\n",
            "103/103 [==============================] - 0s 2ms/step - loss: 0.5954 - accuracy: 0.7198 - val_loss: 0.6108 - val_accuracy: 0.7362\n",
            "Epoch 58/100\n",
            "103/103 [==============================] - 0s 2ms/step - loss: 0.5884 - accuracy: 0.7043 - val_loss: 0.6168 - val_accuracy: 0.7126\n",
            "Epoch 59/100\n",
            "103/103 [==============================] - 0s 2ms/step - loss: 0.5601 - accuracy: 0.7412 - val_loss: 0.6122 - val_accuracy: 0.7283\n",
            "Epoch 60/100\n",
            "103/103 [==============================] - 0s 2ms/step - loss: 0.5850 - accuracy: 0.7296 - val_loss: 0.5992 - val_accuracy: 0.7323\n",
            "Epoch 61/100\n",
            "103/103 [==============================] - 0s 2ms/step - loss: 0.5614 - accuracy: 0.7276 - val_loss: 0.6501 - val_accuracy: 0.7047\n",
            "Epoch 62/100\n",
            "103/103 [==============================] - 0s 2ms/step - loss: 0.5855 - accuracy: 0.7082 - val_loss: 0.5943 - val_accuracy: 0.7480\n",
            "Epoch 63/100\n",
            "103/103 [==============================] - 0s 2ms/step - loss: 0.5772 - accuracy: 0.7160 - val_loss: 0.6051 - val_accuracy: 0.7323\n",
            "Epoch 64/100\n",
            "103/103 [==============================] - 0s 2ms/step - loss: 0.5678 - accuracy: 0.7257 - val_loss: 0.6531 - val_accuracy: 0.7126\n",
            "Epoch 65/100\n",
            "103/103 [==============================] - 0s 2ms/step - loss: 0.5522 - accuracy: 0.7276 - val_loss: 0.6236 - val_accuracy: 0.7362\n",
            "Epoch 66/100\n",
            "103/103 [==============================] - 0s 2ms/step - loss: 0.5819 - accuracy: 0.7082 - val_loss: 0.6129 - val_accuracy: 0.7441\n",
            "Epoch 67/100\n",
            "103/103 [==============================] - 0s 2ms/step - loss: 0.5607 - accuracy: 0.7315 - val_loss: 0.7087 - val_accuracy: 0.6417\n",
            "Epoch 68/100\n",
            "103/103 [==============================] - 0s 2ms/step - loss: 0.5675 - accuracy: 0.7140 - val_loss: 0.6198 - val_accuracy: 0.7559\n",
            "Epoch 69/100\n",
            "103/103 [==============================] - 0s 2ms/step - loss: 0.6274 - accuracy: 0.6984 - val_loss: 0.6244 - val_accuracy: 0.7244\n",
            "Epoch 70/100\n",
            "103/103 [==============================] - 0s 2ms/step - loss: 0.5487 - accuracy: 0.7315 - val_loss: 0.6142 - val_accuracy: 0.7480\n",
            "Epoch 71/100\n",
            "103/103 [==============================] - 0s 2ms/step - loss: 0.5937 - accuracy: 0.7160 - val_loss: 0.6258 - val_accuracy: 0.7283\n",
            "Epoch 72/100\n",
            "103/103 [==============================] - 0s 2ms/step - loss: 0.5557 - accuracy: 0.7374 - val_loss: 0.7069 - val_accuracy: 0.6850\n",
            "Epoch 73/100\n",
            "103/103 [==============================] - 0s 3ms/step - loss: 0.5596 - accuracy: 0.7140 - val_loss: 0.7013 - val_accuracy: 0.6732\n",
            "Epoch 74/100\n",
            "103/103 [==============================] - 0s 2ms/step - loss: 0.5531 - accuracy: 0.7179 - val_loss: 0.7498 - val_accuracy: 0.6890\n",
            "Epoch 75/100\n",
            "103/103 [==============================] - 0s 2ms/step - loss: 0.5705 - accuracy: 0.7198 - val_loss: 0.6703 - val_accuracy: 0.7087\n",
            "Epoch 76/100\n",
            "103/103 [==============================] - 0s 2ms/step - loss: 0.5637 - accuracy: 0.7257 - val_loss: 0.6260 - val_accuracy: 0.7244\n",
            "Epoch 77/100\n",
            "103/103 [==============================] - 0s 2ms/step - loss: 0.5503 - accuracy: 0.7354 - val_loss: 0.6195 - val_accuracy: 0.7323\n",
            "Epoch 78/100\n",
            "103/103 [==============================] - 0s 2ms/step - loss: 0.5444 - accuracy: 0.7257 - val_loss: 0.7604 - val_accuracy: 0.7008\n",
            "Epoch 79/100\n",
            "103/103 [==============================] - 0s 2ms/step - loss: 0.5444 - accuracy: 0.7296 - val_loss: 0.6499 - val_accuracy: 0.7244\n",
            "Epoch 80/100\n",
            "103/103 [==============================] - 0s 2ms/step - loss: 0.6019 - accuracy: 0.6965 - val_loss: 0.6242 - val_accuracy: 0.7362\n",
            "Epoch 81/100\n",
            "103/103 [==============================] - 0s 2ms/step - loss: 0.5472 - accuracy: 0.7276 - val_loss: 0.6525 - val_accuracy: 0.7362\n",
            "Epoch 82/100\n",
            "103/103 [==============================] - 0s 2ms/step - loss: 0.5622 - accuracy: 0.7257 - val_loss: 0.6265 - val_accuracy: 0.7323\n",
            "Epoch 83/100\n",
            "103/103 [==============================] - 0s 2ms/step - loss: 0.5347 - accuracy: 0.7412 - val_loss: 0.6361 - val_accuracy: 0.7441\n",
            "Epoch 84/100\n",
            "103/103 [==============================] - 0s 3ms/step - loss: 0.5437 - accuracy: 0.7393 - val_loss: 0.7497 - val_accuracy: 0.6969\n",
            "Epoch 85/100\n",
            "103/103 [==============================] - 0s 2ms/step - loss: 0.5497 - accuracy: 0.7257 - val_loss: 0.6212 - val_accuracy: 0.7402\n",
            "Epoch 86/100\n",
            "103/103 [==============================] - 0s 3ms/step - loss: 0.5572 - accuracy: 0.7179 - val_loss: 0.7852 - val_accuracy: 0.6575\n",
            "Epoch 87/100\n",
            "103/103 [==============================] - 0s 2ms/step - loss: 0.5653 - accuracy: 0.7257 - val_loss: 0.6409 - val_accuracy: 0.7441\n",
            "Epoch 88/100\n",
            "103/103 [==============================] - 0s 2ms/step - loss: 0.5717 - accuracy: 0.7082 - val_loss: 0.6251 - val_accuracy: 0.7520\n",
            "Epoch 89/100\n",
            "103/103 [==============================] - 0s 2ms/step - loss: 0.5262 - accuracy: 0.7451 - val_loss: 0.6435 - val_accuracy: 0.7402\n",
            "Epoch 90/100\n",
            "103/103 [==============================] - 0s 2ms/step - loss: 0.5319 - accuracy: 0.7432 - val_loss: 0.6272 - val_accuracy: 0.7520\n",
            "Epoch 91/100\n",
            "103/103 [==============================] - 0s 2ms/step - loss: 0.5292 - accuracy: 0.7296 - val_loss: 0.6435 - val_accuracy: 0.7480\n",
            "Epoch 92/100\n",
            "103/103 [==============================] - 0s 2ms/step - loss: 0.5485 - accuracy: 0.7354 - val_loss: 0.6745 - val_accuracy: 0.7087\n",
            "Epoch 93/100\n",
            "103/103 [==============================] - 0s 2ms/step - loss: 0.5273 - accuracy: 0.7354 - val_loss: 0.6574 - val_accuracy: 0.7283\n",
            "Epoch 94/100\n",
            "103/103 [==============================] - 0s 2ms/step - loss: 0.5463 - accuracy: 0.7471 - val_loss: 0.6837 - val_accuracy: 0.7323\n",
            "Epoch 95/100\n",
            "103/103 [==============================] - 0s 2ms/step - loss: 0.5615 - accuracy: 0.7393 - val_loss: 0.6683 - val_accuracy: 0.7323\n",
            "Epoch 96/100\n",
            "103/103 [==============================] - 0s 2ms/step - loss: 0.5443 - accuracy: 0.7315 - val_loss: 0.6559 - val_accuracy: 0.7441\n",
            "Epoch 97/100\n",
            "103/103 [==============================] - 0s 2ms/step - loss: 0.5336 - accuracy: 0.7432 - val_loss: 0.7366 - val_accuracy: 0.7087\n",
            "Epoch 98/100\n",
            "103/103 [==============================] - 0s 2ms/step - loss: 0.5438 - accuracy: 0.7432 - val_loss: 0.6907 - val_accuracy: 0.7283\n",
            "Epoch 99/100\n",
            "103/103 [==============================] - 0s 2ms/step - loss: 0.5476 - accuracy: 0.7160 - val_loss: 0.6394 - val_accuracy: 0.7559\n",
            "Epoch 100/100\n",
            "103/103 [==============================] - 0s 2ms/step - loss: 0.5756 - accuracy: 0.7335 - val_loss: 0.6549 - val_accuracy: 0.7402\n"
          ]
        },
        {
          "output_type": "execute_result",
          "data": {
            "text/plain": [
              "<keras.callbacks.History at 0x7f7afbf5fcd0>"
            ]
          },
          "metadata": {},
          "execution_count": 15
        }
      ],
      "source": [
        "# Fit the DNN with your train data\n",
        "\n",
        "model.fit(X_train, Y_train, validation_data=(X_test, Y_test), epochs=100, batch_size=5)"
      ]
    },
    {
      "cell_type": "code",
      "execution_count": 16,
      "metadata": {
        "colab": {
          "base_uri": "https://localhost:8080/"
        },
        "id": "dbO2RNBD2Fk8",
        "outputId": "1e5f4fc8-598b-4ce3-c798-4207131949c0"
      },
      "outputs": [
        {
          "output_type": "stream",
          "name": "stdout",
          "text": [
            "8/8 [==============================] - 0s 1ms/step - loss: 0.6549 - accuracy: 0.7402\n",
            "Accuracy: 74.02%\n"
          ]
        }
      ],
      "source": [
        "# Evaluate the model\n",
        "scores = model.evaluate(X_test, Y_test)\n",
        "print (\"Accuracy: %.2f%%\" %(scores[1]*100))"
      ]
    },
    {
      "cell_type": "code",
      "source": [
        ""
      ],
      "metadata": {
        "id": "H4-fZ9V9CSjr"
      },
      "execution_count": null,
      "outputs": []
    }
  ],
  "metadata": {
    "kernelspec": {
      "display_name": "Python 3",
      "language": "python",
      "name": "python3"
    },
    "language_info": {
      "codemirror_mode": {
        "name": "ipython",
        "version": 3
      },
      "file_extension": ".py",
      "mimetype": "text/x-python",
      "name": "python",
      "nbconvert_exporter": "python",
      "pygments_lexer": "ipython3",
      "version": "3.6.4"
    },
    "colab": {
      "name": "DNN for Classification.ipynb",
      "provenance": []
    }
  },
  "nbformat": 4,
  "nbformat_minor": 0
}